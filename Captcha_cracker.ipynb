{
  "nbformat": 4,
  "nbformat_minor": 0,
  "metadata": {
    "colab": {
      "name": "Captcha_cracker.ipynb",
      "version": "0.3.2",
      "provenance": [],
      "collapsed_sections": [],
      "include_colab_link": true
    },
    "kernelspec": {
      "name": "python3",
      "display_name": "Python 3"
    },
    "accelerator": "GPU"
  },
  "cells": [
    {
      "cell_type": "markdown",
      "metadata": {
        "id": "view-in-github",
        "colab_type": "text"
      },
      "source": [
        "<a href=\"https://colab.research.google.com/github/sudhirshahu51/BBox-Label-Tool/blob/master/Captcha_cracker.ipynb\" target=\"_parent\"><img src=\"https://colab.research.google.com/assets/colab-badge.svg\" alt=\"Open In Colab\"/></a>"
      ]
    },
    {
      "metadata": {
        "id": "1STscg6TYV-D",
        "colab_type": "code",
        "outputId": "e7cb6cd3-7617-46c6-9a4f-49798405c0ac",
        "colab": {
          "base_uri": "https://localhost:8080/",
          "height": 530
        }
      },
      "cell_type": "code",
      "source": [
        "!pip install tensorflow-gpu==2.0.0-alpha0 kaggle "
      ],
      "execution_count": 0,
      "outputs": [
        {
          "output_type": "stream",
          "text": [
            "Requirement already satisfied: tensorflow-gpu==2.0.0-alpha0 in /usr/local/lib/python3.6/dist-packages (2.0.0a0)\n",
            "Requirement already satisfied: kaggle in /usr/local/lib/python3.6/dist-packages (1.5.3)\n",
            "Requirement already satisfied: keras-applications>=1.0.6 in /usr/local/lib/python3.6/dist-packages (from tensorflow-gpu==2.0.0-alpha0) (1.0.7)\n",
            "Requirement already satisfied: astor>=0.6.0 in /usr/local/lib/python3.6/dist-packages (from tensorflow-gpu==2.0.0-alpha0) (0.7.1)\n",
            "Requirement already satisfied: numpy<2.0,>=1.14.5 in /usr/local/lib/python3.6/dist-packages (from tensorflow-gpu==2.0.0-alpha0) (1.14.6)\n",
            "Requirement already satisfied: grpcio>=1.8.6 in /usr/local/lib/python3.6/dist-packages (from tensorflow-gpu==2.0.0-alpha0) (1.15.0)\n",
            "Requirement already satisfied: absl-py>=0.7.0 in /usr/local/lib/python3.6/dist-packages (from tensorflow-gpu==2.0.0-alpha0) (0.7.1)\n",
            "Requirement already satisfied: tf-estimator-nightly<1.14.0.dev2019030116,>=1.14.0.dev2019030115 in /usr/local/lib/python3.6/dist-packages (from tensorflow-gpu==2.0.0-alpha0) (1.14.0.dev2019030115)\n",
            "Requirement already satisfied: termcolor>=1.1.0 in /usr/local/lib/python3.6/dist-packages (from tensorflow-gpu==2.0.0-alpha0) (1.1.0)\n",
            "Requirement already satisfied: google-pasta>=0.1.2 in /usr/local/lib/python3.6/dist-packages (from tensorflow-gpu==2.0.0-alpha0) (0.1.4)\n",
            "Requirement already satisfied: protobuf>=3.6.1 in /usr/local/lib/python3.6/dist-packages (from tensorflow-gpu==2.0.0-alpha0) (3.7.1)\n",
            "Requirement already satisfied: keras-preprocessing>=1.0.5 in /usr/local/lib/python3.6/dist-packages (from tensorflow-gpu==2.0.0-alpha0) (1.0.9)\n",
            "Requirement already satisfied: gast>=0.2.0 in /usr/local/lib/python3.6/dist-packages (from tensorflow-gpu==2.0.0-alpha0) (0.2.2)\n",
            "Requirement already satisfied: tb-nightly<1.14.0a20190302,>=1.14.0a20190301 in /usr/local/lib/python3.6/dist-packages (from tensorflow-gpu==2.0.0-alpha0) (1.14.0a20190301)\n",
            "Requirement already satisfied: wheel>=0.26 in /usr/local/lib/python3.6/dist-packages (from tensorflow-gpu==2.0.0-alpha0) (0.33.1)\n",
            "Requirement already satisfied: six>=1.10.0 in /usr/local/lib/python3.6/dist-packages (from tensorflow-gpu==2.0.0-alpha0) (1.11.0)\n",
            "Requirement already satisfied: urllib3<1.25,>=1.21.1 in /usr/local/lib/python3.6/dist-packages (from kaggle) (1.22)\n",
            "Requirement already satisfied: certifi in /usr/local/lib/python3.6/dist-packages (from kaggle) (2019.3.9)\n",
            "Requirement already satisfied: python-dateutil in /usr/local/lib/python3.6/dist-packages (from kaggle) (2.5.3)\n",
            "Requirement already satisfied: requests in /usr/local/lib/python3.6/dist-packages (from kaggle) (2.18.4)\n",
            "Requirement already satisfied: tqdm in /usr/local/lib/python3.6/dist-packages (from kaggle) (4.28.1)\n",
            "Requirement already satisfied: python-slugify in /usr/local/lib/python3.6/dist-packages (from kaggle) (3.0.2)\n",
            "Requirement already satisfied: h5py in /usr/local/lib/python3.6/dist-packages (from keras-applications>=1.0.6->tensorflow-gpu==2.0.0-alpha0) (2.8.0)\n",
            "Requirement already satisfied: setuptools in /usr/local/lib/python3.6/dist-packages (from protobuf>=3.6.1->tensorflow-gpu==2.0.0-alpha0) (40.9.0)\n",
            "Requirement already satisfied: werkzeug>=0.11.15 in /usr/local/lib/python3.6/dist-packages (from tb-nightly<1.14.0a20190302,>=1.14.0a20190301->tensorflow-gpu==2.0.0-alpha0) (0.15.2)\n",
            "Requirement already satisfied: markdown>=2.6.8 in /usr/local/lib/python3.6/dist-packages (from tb-nightly<1.14.0a20190302,>=1.14.0a20190301->tensorflow-gpu==2.0.0-alpha0) (3.1)\n",
            "Requirement already satisfied: idna<2.7,>=2.5 in /usr/local/lib/python3.6/dist-packages (from requests->kaggle) (2.6)\n",
            "Requirement already satisfied: chardet<3.1.0,>=3.0.2 in /usr/local/lib/python3.6/dist-packages (from requests->kaggle) (3.0.4)\n",
            "Requirement already satisfied: text-unidecode==1.2 in /usr/local/lib/python3.6/dist-packages (from python-slugify->kaggle) (1.2)\n"
          ],
          "name": "stdout"
        }
      ]
    },
    {
      "metadata": {
        "id": "WFVobGRGZHWo",
        "colab_type": "code",
        "outputId": "00463d4b-1d43-4bb3-bed8-a13aa040afe1",
        "colab": {
          "base_uri": "https://localhost:8080/",
          "height": 51
        }
      },
      "cell_type": "code",
      "source": [
        "from getpass import getpass\n",
        "user = getpass('Kaggle Username: ')\n",
        "key = getpass('Kaggle API key: ')\n",
        "\n",
        "import os\n",
        "if '.kaggle' not in os.listdir('/root'):\n",
        "    !mkdir ~/.kaggle\n",
        "!touch /root/.kaggle/kaggle.json\n",
        "!chmod 666 /root/.kaggle/kaggle.json\n",
        "with open('/root/.kaggle/kaggle.json', 'w') as f:\n",
        "    f.write('{\"username\":\"%s\",\"key\":\"%s\"}' % (user, key))\n",
        "!chmod 600 /root/.kaggle/kaggle.json"
      ],
      "execution_count": 0,
      "outputs": [
        {
          "output_type": "stream",
          "text": [
            "Kaggle Username: ··········\n",
            "Kaggle API key: ··········\n"
          ],
          "name": "stdout"
        }
      ]
    },
    {
      "metadata": {
        "id": "fkKSS-DWZnMz",
        "colab_type": "code",
        "outputId": "416d45d5-ddc5-42cd-b625-72a678e22972",
        "colab": {
          "base_uri": "https://localhost:8080/",
          "height": 68
        }
      },
      "cell_type": "code",
      "source": [
        "!kaggle datasets download  -p ./captcha genesis16/captcha-4-letter\n",
        "!unzip -qq captcha/captcha-4-letter.zip -d ./captcha/ "
      ],
      "execution_count": 0,
      "outputs": [
        {
          "output_type": "stream",
          "text": [
            "Downloading captcha-4-letter.zip to ./captcha\n",
            " 85% 13.0M/15.2M [00:01<00:00, 7.58MB/s]\n",
            "100% 15.2M/15.2M [00:01<00:00, 10.5MB/s]\n"
          ],
          "name": "stdout"
        }
      ]
    },
    {
      "metadata": {
        "id": "BO_UHlc9cL9B",
        "colab_type": "text"
      },
      "cell_type": "markdown",
      "source": [
        "## 1. Import required libraries"
      ]
    },
    {
      "metadata": {
        "id": "rlqnkkc-axss",
        "colab_type": "code",
        "outputId": "1b65fad2-f2a3-4821-81fc-763a9f9f35b5",
        "colab": {
          "base_uri": "https://localhost:8080/",
          "height": 34
        }
      },
      "cell_type": "code",
      "source": [
        "# I don't like warning messages too much\n",
        "import warnings\n",
        "warnings.filterwarnings(\"ignore\")\n",
        "\n",
        "import os\n",
        "import gc\n",
        "import cv2\n",
        "import glob\n",
        "import h5py\n",
        "import shutil\n",
        "import itertools\n",
        "import random as rn\n",
        "from pathlib import Path\n",
        "from collections import Counter\n",
        "import matplotlib.pyplot as plt\n",
        "\n",
        "\n",
        "import numpy as np \n",
        "import pandas as pd\n",
        "from skimage.io import imread\n",
        "from sklearn.model_selection import train_test_split\n",
        "\n",
        "from tensorflow.keras.models import Sequential, Model, load_model\n",
        "from tensorflow.keras.layers import Conv2D, MaxPooling2D, Dense, Dropout\n",
        "from tensorflow.keras.layers import Input, Flatten, BatchNormalization, Lambda\n",
        "from tensorflow.keras.layers import GRU, LSTM, Bidirectional\n",
        "from tensorflow.keras.layers import Add, Concatenate, Reshape\n",
        "from tensorflow.keras.optimizers import Adam, SGD, RMSprop\n",
        "from tensorflow.keras.callbacks import ModelCheckpoint, Callback, EarlyStopping\n",
        "from tensorflow.keras.utils import to_categorical\n",
        "\n",
        "from tensorflow.keras import backend as K\n",
        "import tensorflow as tf\n",
        "print(\"Tensorflow version: \", tf.__version__)\n",
        "\n",
        "%matplotlib inline\n",
        "%config InlineBackend.figure_format=\"svg\""
      ],
      "execution_count": 0,
      "outputs": [
        {
          "output_type": "stream",
          "text": [
            "Tensorflow version:  2.0.0-alpha0\n"
          ],
          "name": "stdout"
        }
      ]
    },
    {
      "metadata": {
        "id": "rlvTRuMlddnp",
        "colab_type": "text"
      },
      "cell_type": "markdown",
      "source": [
        "## 2. Reproducibility isn't a requirement, it's a necessity!"
      ]
    },
    {
      "metadata": {
        "id": "YAUwJF4TdVj4",
        "colab_type": "code",
        "colab": {}
      },
      "cell_type": "code",
      "source": [
        "# Set the seed for hash based operations in python\n",
        "os.environ['PYTHONHASHSEED'] = '0'\n",
        "\n",
        "seed=1234\n",
        "\n",
        "# set the seed for random number generator\n",
        "rn.seed(seed)\n",
        "\n",
        "# Set the numpy seed\n",
        "np.random.seed(seed)\n",
        "\n",
        "# Set the random seed in tensorflow at graph level\n",
        "tf.random.set_seed(seed)"
      ],
      "execution_count": 0,
      "outputs": []
    },
    {
      "metadata": {
        "id": "K76XRzeRdtoy",
        "colab_type": "text"
      },
      "cell_type": "markdown",
      "source": [
        "## 3. Load the data"
      ]
    },
    {
      "metadata": {
        "id": "Pb07n4WLdqJ1",
        "colab_type": "code",
        "outputId": "e2993936-d887-4736-938c-c19f18e29085",
        "colab": {
          "base_uri": "https://localhost:8080/",
          "height": 34
        }
      },
      "cell_type": "code",
      "source": [
        "# path to the data directory\n",
        "data_dir = Path(\"./captcha/captcha/\")\n",
        "\n",
        "# getting list of all images\n",
        "images = list(data_dir.glob(\"*.png\"))\n",
        "print(\"Number of images found: \", len(images))"
      ],
      "execution_count": 0,
      "outputs": [
        {
          "output_type": "stream",
          "text": [
            "Number of images found:  9955\n"
          ],
          "name": "stdout"
        }
      ]
    },
    {
      "metadata": {
        "id": "wqRInL4WdyN8",
        "colab_type": "code",
        "outputId": "ad3af645-14fe-4034-9b42-a2a2c6adda86",
        "colab": {
          "base_uri": "https://localhost:8080/",
          "height": 309
        }
      },
      "cell_type": "code",
      "source": [
        "# Let's take a look at some samples first. \n",
        "# Always look at your data!\n",
        "sample_images = images[:4]\n",
        "\n",
        "f,ax = plt.subplots(2,2, figsize=(5,3))\n",
        "for i in range(4):\n",
        "    img = imread(sample_images[i])\n",
        "    print(\"Shape of image: \", img.shape)\n",
        "    ax[i//2, i%2].imshow(img)\n",
        "    ax[i//2, i%2].axis('off')\n",
        "plt.show()"
      ],
      "execution_count": 0,
      "outputs": [
        {
          "output_type": "stream",
          "text": [
            "Shape of image:  (24, 72, 3)\n",
            "Shape of image:  (24, 72, 3)\n",
            "Shape of image:  (24, 72, 3)\n",
            "Shape of image:  (24, 72, 3)\n"
          ],
          "name": "stdout"
        },
        {
          "output_type": "display_data",
          "data": {
            "text/plain": [
              "<Figure size 360x216 with 4 Axes>"
            ],
            "image/svg+xml": "<?xml version=\"1.0\" encoding=\"utf-8\" standalone=\"no\"?>\n<!DOCTYPE svg PUBLIC \"-//W3C//DTD SVG 1.1//EN\"\n  \"http://www.w3.org/Graphics/SVG/1.1/DTD/svg11.dtd\">\n<!-- Created with matplotlib (https://matplotlib.org/) -->\n<svg height=\"164.690085pt\" version=\"1.1\" viewBox=\"0 0 311.521875 164.690085\" width=\"311.521875pt\" xmlns=\"http://www.w3.org/2000/svg\" xmlns:xlink=\"http://www.w3.org/1999/xlink\">\n <defs>\n  <style type=\"text/css\">\n*{stroke-linecap:butt;stroke-linejoin:round;}\n  </style>\n </defs>\n <g id=\"figure_1\">\n  <g id=\"patch_1\">\n   <path d=\"M 0 164.690085 \nL 311.521875 164.690085 \nL 311.521875 0 \nL 0 0 \nz\n\" style=\"fill:none;\"/>\n  </g>\n  <g id=\"axes_1\">\n   <g clip-path=\"url(#p2c53c2ddfa)\">\n    <image height=\"43\" id=\"image9531af1696\" transform=\"scale(1 -1)translate(0 -43)\" width=\"127\" x=\"25.321875\" xlink:href=\"data:image/png;base64,\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\" y=\"-9.215483\"/>\n   </g>\n  </g>\n  <g id=\"axes_2\">\n   <g clip-path=\"url(#p131d8e722f)\">\n    <image height=\"43\" id=\"image8b72849216\" transform=\"scale(1 -1)translate(0 -43)\" width=\"127\" x=\"177.503693\" xlink:href=\"data:image/png;base64,\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\" y=\"-9.215483\"/>\n   </g>\n  </g>\n  <g id=\"axes_3\">\n   <g clip-path=\"url(#pdcca58b7bf)\">\n    <image height=\"43\" id=\"image738c39067e\" transform=\"scale(1 -1)translate(0 -43)\" width=\"127\" x=\"25.321875\" xlink:href=\"data:image/png;base64,\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\" y=\"-98.16821\"/>\n   </g>\n  </g>\n  <g id=\"axes_4\">\n   <g clip-path=\"url(#p31de0fcb42)\">\n    <image height=\"43\" id=\"imagee3cfdc71d4\" transform=\"scale(1 -1)translate(0 -43)\" width=\"127\" x=\"177.503693\" xlink:href=\"data:image/png;base64,\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\" y=\"-98.16821\"/>\n   </g>\n  </g>\n </g>\n <defs>\n  <clipPath id=\"p2c53c2ddfa\">\n   <rect height=\"42.272727\" width=\"126.818182\" x=\"25.321875\" y=\"9.942756\"/>\n  </clipPath>\n  <clipPath id=\"p131d8e722f\">\n   <rect height=\"42.272727\" width=\"126.818182\" x=\"177.503693\" y=\"9.942756\"/>\n  </clipPath>\n  <clipPath id=\"pdcca58b7bf\">\n   <rect height=\"42.272727\" width=\"126.818182\" x=\"25.321875\" y=\"98.895483\"/>\n  </clipPath>\n  <clipPath id=\"p31de0fcb42\">\n   <rect height=\"42.272727\" width=\"126.818182\" x=\"177.503693\" y=\"98.895483\"/>\n  </clipPath>\n </defs>\n</svg>\n"
          },
          "metadata": {
            "tags": []
          }
        }
      ]
    },
    {
      "metadata": {
        "id": "gW2BxSHLd5HL",
        "colab_type": "code",
        "outputId": "bc20c02c-2cb4-4c1a-e6db-cbd89ab8b864",
        "colab": {
          "base_uri": "https://localhost:8080/",
          "height": 122
        }
      },
      "cell_type": "code",
      "source": [
        "# make a set of all unique characters. Letter is a wrong\n",
        "# word to use here but I am gonna use it for now.\n",
        "letters = set()\n",
        "\n",
        "# A list to store the max length for each catcha\n",
        "lengths = []\n",
        "\n",
        "# Iterate over each image. The name of the image is the \n",
        "# text ccontained in it. \n",
        "for image in images:\n",
        "    image_name = str(image.name).split(\".\")[0]\n",
        "    lengths.append(len(image_name))\n",
        "    for ch in image_name:\n",
        "        letters.add(ch)\n",
        "\n",
        "# Sort the letters        \n",
        "letters = sorted(letters)\n",
        "print(\"Number of unqiue letters in the whole dataset: \", len(letters))\n",
        "print(\"Maximum length of any captcha: \", max(Counter(lengths).keys()))\n",
        "print(\"\\nAll letters to be considered: \")\n",
        "print(letters)"
      ],
      "execution_count": 0,
      "outputs": [
        {
          "output_type": "stream",
          "text": [
            "Number of unqiue letters in the whole dataset:  32\n",
            "Maximum length of any captcha:  4\n",
            "\n",
            "All letters to be considered: \n",
            "['2', '3', '4', '5', '6', '7', '8', '9', 'A', 'B', 'C', 'D', 'E', 'F', 'G', 'H', 'J', 'K', 'L', 'M', 'N', 'P', 'Q', 'R', 'S', 'T', 'U', 'V', 'W', 'X', 'Y', 'Z']\n"
          ],
          "name": "stdout"
        }
      ]
    },
    {
      "metadata": {
        "id": "MxbSc9jZeM_r",
        "colab_type": "code",
        "outputId": "e06d6031-d20c-42c0-8593-0bb4d6bdc624",
        "colab": {
          "base_uri": "https://localhost:8080/",
          "height": 376
        }
      },
      "cell_type": "code",
      "source": [
        "dataset = []\n",
        "\n",
        "for image in images:\n",
        "    image_path = str(image)\n",
        "    label = str(image.name).split(\".\")[0]\n",
        "    dataset.append((image_path, label))\n",
        "\n",
        "dataset = pd.DataFrame(dataset, columns=[\"img_path\", \"label\"], index=None)\n",
        "dataset = dataset.sample(frac=1.).reset_index(drop=True)\n",
        "print(\"Total number of samples in the dataset: \", len(dataset))\n",
        "dataset.head(10)"
      ],
      "execution_count": 0,
      "outputs": [
        {
          "output_type": "stream",
          "text": [
            "Total number of samples in the dataset:  9955\n"
          ],
          "name": "stdout"
        },
        {
          "output_type": "execute_result",
          "data": {
            "text/html": [
              "<div>\n",
              "<style scoped>\n",
              "    .dataframe tbody tr th:only-of-type {\n",
              "        vertical-align: middle;\n",
              "    }\n",
              "\n",
              "    .dataframe tbody tr th {\n",
              "        vertical-align: top;\n",
              "    }\n",
              "\n",
              "    .dataframe thead th {\n",
              "        text-align: right;\n",
              "    }\n",
              "</style>\n",
              "<table border=\"1\" class=\"dataframe\">\n",
              "  <thead>\n",
              "    <tr style=\"text-align: right;\">\n",
              "      <th></th>\n",
              "      <th>img_path</th>\n",
              "      <th>label</th>\n",
              "    </tr>\n",
              "  </thead>\n",
              "  <tbody>\n",
              "    <tr>\n",
              "      <th>0</th>\n",
              "      <td>captcha/captcha/ED7B.png</td>\n",
              "      <td>ED7B</td>\n",
              "    </tr>\n",
              "    <tr>\n",
              "      <th>1</th>\n",
              "      <td>captcha/captcha/DYRA.png</td>\n",
              "      <td>DYRA</td>\n",
              "    </tr>\n",
              "    <tr>\n",
              "      <th>2</th>\n",
              "      <td>captcha/captcha/3976.png</td>\n",
              "      <td>3976</td>\n",
              "    </tr>\n",
              "    <tr>\n",
              "      <th>3</th>\n",
              "      <td>captcha/captcha/EJ6H.png</td>\n",
              "      <td>EJ6H</td>\n",
              "    </tr>\n",
              "    <tr>\n",
              "      <th>4</th>\n",
              "      <td>captcha/captcha/DR2G.png</td>\n",
              "      <td>DR2G</td>\n",
              "    </tr>\n",
              "    <tr>\n",
              "      <th>5</th>\n",
              "      <td>captcha/captcha/8TBS.png</td>\n",
              "      <td>8TBS</td>\n",
              "    </tr>\n",
              "    <tr>\n",
              "      <th>6</th>\n",
              "      <td>captcha/captcha/6PZZ.png</td>\n",
              "      <td>6PZZ</td>\n",
              "    </tr>\n",
              "    <tr>\n",
              "      <th>7</th>\n",
              "      <td>captcha/captcha/J5Z4.png</td>\n",
              "      <td>J5Z4</td>\n",
              "    </tr>\n",
              "    <tr>\n",
              "      <th>8</th>\n",
              "      <td>captcha/captcha/SA45.png</td>\n",
              "      <td>SA45</td>\n",
              "    </tr>\n",
              "    <tr>\n",
              "      <th>9</th>\n",
              "      <td>captcha/captcha/NHZ4.png</td>\n",
              "      <td>NHZ4</td>\n",
              "    </tr>\n",
              "  </tbody>\n",
              "</table>\n",
              "</div>"
            ],
            "text/plain": [
              "                   img_path label\n",
              "0  captcha/captcha/ED7B.png  ED7B\n",
              "1  captcha/captcha/DYRA.png  DYRA\n",
              "2  captcha/captcha/3976.png  3976\n",
              "3  captcha/captcha/EJ6H.png  EJ6H\n",
              "4  captcha/captcha/DR2G.png  DR2G\n",
              "5  captcha/captcha/8TBS.png  8TBS\n",
              "6  captcha/captcha/6PZZ.png  6PZZ\n",
              "7  captcha/captcha/J5Z4.png  J5Z4\n",
              "8  captcha/captcha/SA45.png  SA45\n",
              "9  captcha/captcha/NHZ4.png  NHZ4"
            ]
          },
          "metadata": {
            "tags": []
          },
          "execution_count": 9
        }
      ]
    },
    {
      "metadata": {
        "id": "FvrxSiYdeWNl",
        "colab_type": "text"
      },
      "cell_type": "markdown",
      "source": [
        "## 4. Separate out training and validation datasets"
      ]
    },
    {
      "metadata": {
        "id": "IT9GEB4qeQ1q",
        "colab_type": "code",
        "outputId": "2e54baba-5f4d-4430-d8e8-61e9440d108a",
        "colab": {
          "base_uri": "https://localhost:8080/",
          "height": 51
        }
      },
      "cell_type": "code",
      "source": [
        "# split into train and validation sets\n",
        "training_data, validation_data = train_test_split(dataset, test_size=0.1, random_state=seed)\n",
        "\n",
        "training_data = training_data.reset_index(drop=True)\n",
        "validation_data = validation_data.reset_index(drop=True)\n",
        "\n",
        "print(\"Number of training samples: \", len(training_data))\n",
        "print(\"Number of validation samples: \", len(validation_data))"
      ],
      "execution_count": 0,
      "outputs": [
        {
          "output_type": "stream",
          "text": [
            "Number of training samples:  8959\n",
            "Number of validation samples:  996\n"
          ],
          "name": "stdout"
        }
      ]
    },
    {
      "metadata": {
        "id": "hZx7XLHieeq0",
        "colab_type": "text"
      },
      "cell_type": "markdown",
      "source": [
        "## 5. Some helper functions"
      ]
    },
    {
      "metadata": {
        "id": "m9Z6ozQqeacR",
        "colab_type": "code",
        "colab": {}
      },
      "cell_type": "code",
      "source": [
        "# function to create labels from text\n",
        "def text_to_labels(text):\n",
        "    return list(map(lambda x: letters.index(x), text))\n",
        "\n",
        "# function to convert labels back to texts\n",
        "def labels_to_text(label):\n",
        "    return ''.join(list(map(lambda x: letters[int(x)], label)))\n",
        "\n",
        "# sanity-check for letters\n",
        "def is_valid_str(s):\n",
        "    for ch in s:\n",
        "        if not ch in letters:\n",
        "            return False\n",
        "    return True"
      ],
      "execution_count": 0,
      "outputs": []
    },
    {
      "metadata": {
        "id": "M7CYoKW5elnA",
        "colab_type": "text"
      },
      "cell_type": "markdown",
      "source": [
        "## 6. Build the data"
      ]
    },
    {
      "metadata": {
        "id": "vbEN8WomehPA",
        "colab_type": "code",
        "colab": {}
      },
      "cell_type": "code",
      "source": [
        "def build_data(df, resize=True, img_height=24, img_width=72):\n",
        "    \"\"\"This function reads samples from a dataframe and store\n",
        "    the image values and labels in two separate arrays.\n",
        "    \n",
        "    Args:\n",
        "        df        : dataframe from which we want to read the data\n",
        "        resize    : whether to resize images or not\n",
        "        img_weidth: width of images to be considered\n",
        "        img_height: height of images to be considered\n",
        "        \n",
        "    Returns:\n",
        "        images    : numpy array of images\n",
        "        labels    : numpy array of encoded labels\n",
        "    \"\"\"\n",
        "    n = len(df)\n",
        "    images = np.zeros((n, img_height, img_width), dtype=np.float32)\n",
        "    labels = [0]*n\n",
        "    for i in range(n):\n",
        "        img = cv2.imread(df[\"img_path\"][i])\n",
        "        img = cv2.cvtColor(img, cv2.COLOR_BGR2GRAY)\n",
        "        \n",
        "        if resize:\n",
        "            img = cv2.resize(img, (img_width, img_height))\n",
        "        \n",
        "        img = (img/255.).astype(np.float32)\n",
        "        label = df[\"label\"][i]\n",
        "        \n",
        "        # only add to if all the charaters are valid\n",
        "        if is_valid_str(label):\n",
        "            images[i, :, :] = img\n",
        "            labels[i] = label\n",
        "    \n",
        "    return images, np.array(labels)"
      ],
      "execution_count": 0,
      "outputs": []
    },
    {
      "metadata": {
        "id": "a3GIhoRKenrv",
        "colab_type": "code",
        "outputId": "6ba44021-a509-4d77-b76d-ac9cda5c5899",
        "colab": {
          "base_uri": "https://localhost:8080/",
          "height": 51
        }
      },
      "cell_type": "code",
      "source": [
        "# Building training data\n",
        "training_images, training_labels = build_data(training_data)\n",
        "print(\"Number of training images: \", training_images.shape)\n",
        "print(\"Number of training labels: \", training_labels.shape)"
      ],
      "execution_count": 0,
      "outputs": [
        {
          "output_type": "stream",
          "text": [
            "Number of training images:  (8959, 24, 72)\n",
            "Number of training labels:  (8959,)\n"
          ],
          "name": "stdout"
        }
      ]
    },
    {
      "metadata": {
        "id": "APTNdoxRerY4",
        "colab_type": "code",
        "outputId": "6f68ac99-b131-4023-b32b-aefb7a162be0",
        "colab": {
          "base_uri": "https://localhost:8080/",
          "height": 51
        }
      },
      "cell_type": "code",
      "source": [
        "# Building validation data\n",
        "validation_images, validation_labels = build_data(validation_data)\n",
        "print(\"Number of validation images: \", validation_images.shape)\n",
        "print(\"Number of validation labels: \", validation_labels.shape)"
      ],
      "execution_count": 0,
      "outputs": [
        {
          "output_type": "stream",
          "text": [
            "Number of validation images:  (996, 24, 72)\n",
            "Number of validation labels:  (996,)\n"
          ],
          "name": "stdout"
        }
      ]
    },
    {
      "metadata": {
        "id": "FYRnLLDfeuE3",
        "colab_type": "code",
        "outputId": "e1e3915e-a28d-4644-9c3d-f69738c60ba2",
        "colab": {
          "base_uri": "https://localhost:8080/",
          "height": 444
        }
      },
      "cell_type": "code",
      "source": [
        "# Check some samples again\n",
        "f,ax = plt.subplots(4,2, figsize=(8,5))\n",
        "for i in range(4):\n",
        "    ax[i//2, i%2].imshow(training_images[i], cmap='gray')\n",
        "    ax[i//2, i%2].set_title(training_labels[i])\n",
        "    ax[i//2, i%2].axis('off')\n",
        "\n",
        "for i in range(4, 8):\n",
        "    ax[i//2, i%2].imshow(validation_images[i], cmap='gray')\n",
        "    ax[i//2, i%2].set_title(validation_labels[i])\n",
        "    ax[i//2, i%2].axis('off')\n",
        "    \n",
        "plt.show()"
      ],
      "execution_count": 0,
      "outputs": [
        {
          "output_type": "display_data",
          "data": {
            "text/plain": [
              "<Figure size 576x360 with 8 Axes>"
            ],
            "image/svg+xml": "<?xml version=\"1.0\" encoding=\"utf-8\" standalone=\"no\"?>\n<!DOCTYPE svg PUBLIC \"-//W3C//DTD SVG 1.1//EN\"\n  \"http://www.w3.org/Graphics/SVG/1.1/DTD/svg11.dtd\">\n<!-- Created with matplotlib (https://matplotlib.org/) -->\n<svg height=\"317.218125pt\" version=\"1.1\" viewBox=\"0 0 453.273654 317.218125\" width=\"453.273654pt\" xmlns=\"http://www.w3.org/2000/svg\" xmlns:xlink=\"http://www.w3.org/1999/xlink\">\n <defs>\n  <style type=\"text/css\">\n*{stroke-linecap:butt;stroke-linejoin:round;}\n  </style>\n </defs>\n <g id=\"figure_1\">\n  <g id=\"patch_1\">\n   <path d=\"M 0 317.218125 \nL 453.273654 317.218125 \nL 453.273654 0 \nL 0 0 \nz\n\" style=\"fill:none;\"/>\n  </g>\n  <g id=\"axes_1\">\n   <g clip-path=\"url(#p9de161d7f5)\">\n    <image height=\"60\" id=\"image5045bd06b5\" transform=\"scale(1 -1)translate(0 -60)\" width=\"178\" x=\"25.321875\" xlink:href=\"data:image/png;base64,\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\" y=\"-20.983207\"/>\n   </g>\n   <g id=\"text_1\">\n    <!-- BW3X -->\n    <defs>\n     <path d=\"M 61.421875 19.390625 \nQ 61.421875 14.15625 59.375 10.46875 \nQ 57.328125 6.78125 53.859375 4.46875 \nQ 50.390625 2.15625 45.796875 1.078125 \nQ 41.21875 0 36.140625 0 \nL 8.203125 0 \nL 8.203125 68.796875 \nL 33.203125 68.796875 \nQ 38.921875 68.796875 43.40625 67.84375 \nQ 47.90625 66.890625 51.03125 64.84375 \nQ 54.15625 62.796875 55.78125 59.640625 \nQ 57.421875 56.5 57.421875 52.09375 \nQ 57.421875 49.21875 56.609375 46.671875 \nQ 55.8125 44.140625 54.171875 42.0625 \nQ 52.546875 39.984375 50.078125 38.5 \nQ 47.609375 37.015625 44.34375 36.28125 \nQ 48.484375 35.796875 51.6875 34.375 \nQ 54.890625 32.953125 57.03125 30.75 \nQ 59.1875 28.5625 60.296875 25.65625 \nQ 61.421875 22.75 61.421875 19.390625 \nz\nM 48.046875 50.984375 \nQ 48.046875 56.546875 44.234375 58.9375 \nQ 40.4375 61.328125 33.203125 61.328125 \nL 17.53125 61.328125 \nL 17.53125 39.546875 \nL 33.203125 39.546875 \nQ 37.3125 39.546875 40.140625 40.34375 \nQ 42.96875 41.15625 44.71875 42.640625 \nQ 46.484375 44.140625 47.265625 46.234375 \nQ 48.046875 48.34375 48.046875 50.984375 \nz\nM 52 20.125 \nQ 52 23.390625 50.796875 25.6875 \nQ 49.609375 27.984375 47.359375 29.4375 \nQ 45.125 30.90625 41.96875 31.59375 \nQ 38.8125 32.28125 34.90625 32.28125 \nL 17.53125 32.28125 \nL 17.53125 7.46875 \nL 35.640625 7.46875 \nQ 39.203125 7.46875 42.203125 8.046875 \nQ 45.21875 8.640625 47.390625 10.109375 \nQ 49.5625 11.578125 50.78125 14.015625 \nQ 52 16.453125 52 20.125 \nz\n\" id=\"LiberationSans-66\"/>\n     <path d=\"M 73.78125 0 \nL 62.640625 0 \nL 50.734375 43.703125 \nQ 50.203125 45.5625 49.578125 48.09375 \nQ 48.96875 50.640625 48.484375 52.9375 \nQ 47.90625 55.609375 47.3125 58.40625 \nQ 46.6875 55.5625 46.09375 52.875 \nQ 45.5625 50.53125 44.96875 48.046875 \nQ 44.390625 45.5625 43.84375 43.703125 \nL 31.84375 0 \nL 20.703125 0 \nL 0.4375 68.796875 \nL 10.15625 68.796875 \nL 22.515625 25.09375 \nQ 23.34375 22.015625 24.09375 18.984375 \nQ 24.859375 15.96875 25.390625 13.578125 \nQ 26.03125 10.75 26.5625 8.203125 \nQ 27.296875 11.578125 28.078125 14.84375 \nQ 28.421875 16.21875 28.765625 17.71875 \nQ 29.109375 19.234375 29.46875 20.703125 \nQ 29.828125 22.171875 30.1875 23.515625 \nQ 30.5625 24.859375 30.859375 25.984375 \nL 42.828125 68.796875 \nL 51.765625 68.796875 \nL 63.71875 25.984375 \nQ 64.015625 24.859375 64.375 23.515625 \nQ 64.75 22.171875 65.109375 20.71875 \nQ 65.484375 19.28125 65.8125 17.765625 \nQ 66.15625 16.265625 66.5 14.890625 \nQ 67.28125 11.625 68.015625 8.203125 \nQ 68.0625 8.203125 68.453125 9.890625 \nQ 68.84375 11.578125 69.421875 14.109375 \nQ 70.015625 16.65625 70.71875 19.609375 \nQ 71.4375 22.5625 72.171875 25.09375 \nL 84.328125 68.796875 \nL 94.046875 68.796875 \nz\n\" id=\"LiberationSans-87\"/>\n     <path d=\"M 51.21875 19 \nQ 51.21875 14.265625 49.671875 10.546875 \nQ 48.140625 6.84375 45.1875 4.265625 \nQ 42.234375 1.703125 37.859375 0.359375 \nQ 33.5 -0.984375 27.875 -0.984375 \nQ 21.484375 -0.984375 17.109375 0.609375 \nQ 12.75 2.203125 9.90625 4.8125 \nQ 7.078125 7.421875 5.65625 10.765625 \nQ 4.25 14.109375 3.8125 17.671875 \nL 12.890625 18.5 \nQ 13.28125 15.765625 14.328125 13.515625 \nQ 15.375 11.28125 17.1875 9.671875 \nQ 19 8.0625 21.625 7.171875 \nQ 24.265625 6.296875 27.875 6.296875 \nQ 34.515625 6.296875 38.296875 9.5625 \nQ 42.09375 12.84375 42.09375 19.28125 \nQ 42.09375 23.09375 40.40625 25.40625 \nQ 38.71875 27.734375 36.203125 29.03125 \nQ 33.6875 30.328125 30.734375 30.765625 \nQ 27.78125 31.203125 25.296875 31.203125 \nL 20.3125 31.203125 \nL 20.3125 38.8125 \nL 25.09375 38.8125 \nQ 27.59375 38.8125 30.265625 39.328125 \nQ 32.953125 39.84375 35.171875 41.1875 \nQ 37.40625 42.53125 38.84375 44.828125 \nQ 40.28125 47.125 40.28125 50.6875 \nQ 40.28125 56.203125 37.03125 59.390625 \nQ 33.796875 62.59375 27.390625 62.59375 \nQ 21.578125 62.59375 17.984375 59.609375 \nQ 14.40625 56.640625 13.8125 51.21875 \nL 4.984375 51.90625 \nQ 5.515625 56.453125 7.46875 59.8125 \nQ 9.421875 63.1875 12.421875 65.40625 \nQ 15.4375 67.625 19.28125 68.71875 \nQ 23.140625 69.828125 27.484375 69.828125 \nQ 33.25 69.828125 37.390625 68.375 \nQ 41.546875 66.9375 44.1875 64.46875 \nQ 46.828125 62.015625 48.0625 58.6875 \nQ 49.3125 55.375 49.3125 51.609375 \nQ 49.3125 48.578125 48.484375 45.9375 \nQ 47.65625 43.3125 45.890625 41.203125 \nQ 44.140625 39.109375 41.421875 37.59375 \nQ 38.71875 36.078125 34.90625 35.296875 \nL 34.90625 35.109375 \nQ 39.0625 34.671875 42.140625 33.21875 \nQ 45.21875 31.78125 47.21875 29.625 \nQ 49.21875 27.484375 50.21875 24.75 \nQ 51.21875 22.015625 51.21875 19 \nz\n\" id=\"LiberationSans-51\"/>\n     <path d=\"M 54.296875 0 \nL 33.640625 30.078125 \nL 12.546875 0 \nL 2.25 0 \nL 28.421875 35.75 \nL 4.25 68.796875 \nL 14.546875 68.796875 \nL 33.6875 41.796875 \nL 52.296875 68.796875 \nL 62.59375 68.796875 \nL 39.0625 36.078125 \nL 64.59375 0 \nz\n\" id=\"LiberationSans-88\"/>\n    </defs>\n    <g style=\"fill:#262626;\" transform=\"translate(96.947935 15.89625)scale(0.12 -0.12)\">\n     <use xlink:href=\"#LiberationSans-66\"/>\n     <use x=\"66.699219\" xlink:href=\"#LiberationSans-87\"/>\n     <use x=\"161.083984\" xlink:href=\"#LiberationSans-51\"/>\n     <use x=\"216.699219\" xlink:href=\"#LiberationSans-88\"/>\n    </g>\n   </g>\n  </g>\n  <g id=\"axes_2\">\n   <g clip-path=\"url(#p70d68d4f6c)\">\n    <image height=\"60\" id=\"imagee6912cd93d\" transform=\"scale(1 -1)translate(0 -60)\" width=\"178\" x=\"268.812784\" xlink:href=\"data:image/png;base64,\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\" y=\"-20.983207\"/>\n   </g>\n   <g id=\"text_2\">\n    <!-- 6PZZ -->\n    <defs>\n     <path d=\"M 51.21875 22.515625 \nQ 51.21875 17.328125 49.78125 13 \nQ 48.34375 8.6875 45.53125 5.578125 \nQ 42.71875 2.484375 38.5625 0.75 \nQ 34.421875 -0.984375 29 -0.984375 \nQ 23 -0.984375 18.5 1.3125 \nQ 14.015625 3.609375 11.03125 7.921875 \nQ 8.0625 12.25 6.5625 18.53125 \nQ 5.078125 24.8125 5.078125 32.8125 \nQ 5.078125 42 6.765625 48.921875 \nQ 8.453125 55.859375 11.625 60.5 \nQ 14.796875 65.140625 19.359375 67.484375 \nQ 23.921875 69.828125 29.6875 69.828125 \nQ 33.203125 69.828125 36.28125 69.09375 \nQ 39.359375 68.359375 41.875 66.71875 \nQ 44.390625 65.09375 46.28125 62.40625 \nQ 48.1875 59.71875 49.3125 55.8125 \nL 40.921875 54.296875 \nQ 39.546875 58.734375 36.546875 60.71875 \nQ 33.546875 62.703125 29.59375 62.703125 \nQ 25.984375 62.703125 23.046875 60.984375 \nQ 20.125 59.28125 18.0625 55.875 \nQ 16.015625 52.484375 14.90625 47.359375 \nQ 13.8125 42.234375 13.8125 35.40625 \nQ 16.21875 39.84375 20.5625 42.15625 \nQ 24.90625 44.484375 30.515625 44.484375 \nQ 35.203125 44.484375 39.015625 42.96875 \nQ 42.828125 41.453125 45.53125 38.59375 \nQ 48.25 35.75 49.734375 31.671875 \nQ 51.21875 27.59375 51.21875 22.515625 \nz\nM 42.28125 22.125 \nQ 42.28125 25.6875 41.40625 28.5625 \nQ 40.53125 31.453125 38.765625 33.46875 \nQ 37.015625 35.5 34.421875 36.59375 \nQ 31.84375 37.703125 28.421875 37.703125 \nQ 26.03125 37.703125 23.578125 36.984375 \nQ 21.140625 36.28125 19.15625 34.6875 \nQ 17.1875 33.109375 15.9375 30.515625 \nQ 14.703125 27.9375 14.703125 24.21875 \nQ 14.703125 20.40625 15.671875 17.109375 \nQ 16.65625 13.8125 18.484375 11.375 \nQ 20.3125 8.9375 22.890625 7.515625 \nQ 25.484375 6.109375 28.71875 6.109375 \nQ 31.890625 6.109375 34.40625 7.203125 \nQ 36.921875 8.296875 38.671875 10.375 \nQ 40.4375 12.453125 41.359375 15.421875 \nQ 42.28125 18.40625 42.28125 22.125 \nz\n\" id=\"LiberationSans-54\"/>\n     <path d=\"M 61.421875 48.09375 \nQ 61.421875 43.609375 59.9375 39.71875 \nQ 58.453125 35.84375 55.5 32.984375 \nQ 52.546875 30.125 48.09375 28.46875 \nQ 43.65625 26.8125 37.75 26.8125 \nL 17.53125 26.8125 \nL 17.53125 0 \nL 8.203125 0 \nL 8.203125 68.796875 \nL 37.15625 68.796875 \nQ 43.265625 68.796875 47.796875 67.3125 \nQ 52.34375 65.828125 55.375 63.109375 \nQ 58.40625 60.40625 59.90625 56.5625 \nQ 61.421875 52.734375 61.421875 48.09375 \nz\nM 52.046875 48 \nQ 52.046875 54.546875 48.046875 57.9375 \nQ 44.046875 61.328125 36.03125 61.328125 \nL 17.53125 61.328125 \nL 17.53125 34.1875 \nL 36.421875 34.1875 \nQ 44.484375 34.1875 48.265625 37.75 \nQ 52.046875 41.3125 52.046875 48 \nz\n\" id=\"LiberationSans-80\"/>\n     <path d=\"M 57.953125 0 \nL 3.171875 0 \nL 3.171875 6.984375 \nL 45.0625 61.1875 \nL 6.734375 61.1875 \nL 6.734375 68.796875 \nL 55.671875 68.796875 \nL 55.671875 62.015625 \nL 13.765625 7.625 \nL 57.953125 7.625 \nz\n\" id=\"LiberationSans-90\"/>\n    </defs>\n    <g style=\"fill:#262626;\" transform=\"translate(342.775094 15.89625)scale(0.12 -0.12)\">\n     <use xlink:href=\"#LiberationSans-54\"/>\n     <use x=\"55.615234\" xlink:href=\"#LiberationSans-80\"/>\n     <use x=\"122.314453\" xlink:href=\"#LiberationSans-90\"/>\n     <use x=\"183.398438\" xlink:href=\"#LiberationSans-90\"/>\n    </g>\n   </g>\n  </g>\n  <g id=\"axes_3\">\n   <g clip-path=\"url(#pcc47f68403)\">\n    <image height=\"60\" id=\"image7b24a476d4\" transform=\"scale(1 -1)translate(0 -60)\" width=\"178\" x=\"25.321875\" xlink:href=\"data:image/png;base64,\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\" y=\"-91.887554\"/>\n   </g>\n   <g id=\"text_3\">\n    <!-- ESVG -->\n    <defs>\n     <path d=\"M 8.203125 0 \nL 8.203125 68.796875 \nL 60.40625 68.796875 \nL 60.40625 61.1875 \nL 17.53125 61.1875 \nL 17.53125 39.109375 \nL 57.46875 39.109375 \nL 57.46875 31.59375 \nL 17.53125 31.59375 \nL 17.53125 7.625 \nL 62.40625 7.625 \nL 62.40625 0 \nz\n\" id=\"LiberationSans-69\"/>\n     <path d=\"M 62.109375 19 \nQ 62.109375 14.65625 60.421875 10.984375 \nQ 58.734375 7.328125 55.21875 4.65625 \nQ 51.703125 2 46.359375 0.5 \nQ 41.015625 -0.984375 33.6875 -0.984375 \nQ 20.84375 -0.984375 13.671875 3.515625 \nQ 6.5 8.015625 4.546875 16.5 \nL 13.578125 18.3125 \nQ 14.265625 15.625 15.671875 13.421875 \nQ 17.09375 11.234375 19.5 9.640625 \nQ 21.921875 8.0625 25.484375 7.171875 \nQ 29.046875 6.296875 34.03125 6.296875 \nQ 38.1875 6.296875 41.65625 7 \nQ 45.125 7.71875 47.609375 9.171875 \nQ 50.09375 10.640625 51.484375 12.953125 \nQ 52.875 15.28125 52.875 18.5 \nQ 52.875 21.875 51.34375 23.96875 \nQ 49.8125 26.078125 47.015625 27.4375 \nQ 44.234375 28.8125 40.375 29.734375 \nQ 36.53125 30.671875 31.84375 31.734375 \nQ 28.953125 32.375 26.046875 33.125 \nQ 23.140625 33.890625 20.484375 34.9375 \nQ 17.828125 35.984375 15.484375 37.390625 \nQ 13.140625 38.8125 11.421875 40.796875 \nQ 9.71875 42.78125 8.734375 45.390625 \nQ 7.765625 48 7.765625 51.421875 \nQ 7.765625 56.296875 9.734375 59.78125 \nQ 11.71875 63.28125 15.234375 65.53125 \nQ 18.75 67.78125 23.53125 68.796875 \nQ 28.328125 69.828125 33.890625 69.828125 \nQ 40.28125 69.828125 44.8125 68.828125 \nQ 49.359375 67.828125 52.484375 65.8125 \nQ 55.609375 63.8125 57.484375 60.859375 \nQ 59.375 57.90625 60.5 54 \nL 51.3125 52.390625 \nQ 50.640625 54.890625 49.34375 56.84375 \nQ 48.046875 58.796875 45.9375 60.109375 \nQ 43.84375 61.421875 40.84375 62.109375 \nQ 37.84375 62.796875 33.796875 62.796875 \nQ 29 62.796875 25.75 61.9375 \nQ 22.515625 61.078125 20.53125 59.609375 \nQ 18.5625 58.15625 17.703125 56.171875 \nQ 16.84375 54.203125 16.84375 51.90625 \nQ 16.84375 48.828125 18.375 46.84375 \nQ 19.921875 44.875 22.5625 43.546875 \nQ 25.203125 42.234375 28.65625 41.359375 \nQ 32.125 40.484375 36.03125 39.59375 \nQ 39.203125 38.875 42.359375 38.109375 \nQ 45.515625 37.359375 48.390625 36.296875 \nQ 51.265625 35.25 53.78125 33.828125 \nQ 56.296875 32.421875 58.15625 30.375 \nQ 60.015625 28.328125 61.0625 25.53125 \nQ 62.109375 22.75 62.109375 19 \nz\n\" id=\"LiberationSans-83\"/>\n     <path d=\"M 38.1875 0 \nL 28.515625 0 \nL 0.4375 68.796875 \nL 10.25 68.796875 \nL 29.296875 20.359375 \nQ 30.03125 18.171875 30.765625 15.984375 \nQ 31.5 13.8125 32.078125 12.109375 \nQ 32.765625 10.109375 33.40625 8.203125 \nQ 33.984375 10.015625 34.671875 12.015625 \nQ 35.25 13.71875 35.953125 15.859375 \nQ 36.671875 18.015625 37.5 20.359375 \nL 56.453125 68.796875 \nL 66.265625 68.796875 \nz\n\" id=\"LiberationSans-86\"/>\n     <path d=\"M 5.03125 34.71875 \nQ 5.03125 42.78125 7.203125 49.265625 \nQ 9.375 55.765625 13.6875 60.328125 \nQ 18.015625 64.890625 24.40625 67.359375 \nQ 30.8125 69.828125 39.265625 69.828125 \nQ 45.609375 69.828125 50.390625 68.703125 \nQ 55.171875 67.578125 58.6875 65.46875 \nQ 62.203125 63.375 64.640625 60.375 \nQ 67.09375 57.375 68.796875 53.609375 \nL 59.90625 50.984375 \nQ 58.640625 53.515625 56.859375 55.59375 \nQ 55.078125 57.671875 52.53125 59.125 \nQ 50 60.59375 46.65625 61.390625 \nQ 43.3125 62.203125 39.015625 62.203125 \nQ 32.765625 62.203125 28.140625 60.25 \nQ 23.53125 58.296875 20.5 54.6875 \nQ 17.484375 51.078125 15.984375 46 \nQ 14.5 40.921875 14.5 34.71875 \nQ 14.5 28.515625 16.109375 23.359375 \nQ 17.71875 18.21875 20.890625 14.484375 \nQ 24.078125 10.75 28.78125 8.671875 \nQ 33.5 6.59375 39.703125 6.59375 \nQ 43.75 6.59375 47.171875 7.265625 \nQ 50.59375 7.953125 53.34375 9.046875 \nQ 56.109375 10.15625 58.203125 11.5 \nQ 60.296875 12.84375 61.71875 14.203125 \nL 61.71875 26.609375 \nL 41.15625 26.609375 \nL 41.15625 34.421875 \nL 70.3125 34.421875 \nL 70.3125 10.6875 \nQ 68.015625 8.34375 64.90625 6.21875 \nQ 61.8125 4.109375 57.953125 2.484375 \nQ 54.109375 0.875 49.515625 -0.046875 \nQ 44.921875 -0.984375 39.703125 -0.984375 \nQ 31 -0.984375 24.5 1.671875 \nQ 18.015625 4.34375 13.6875 9.109375 \nQ 9.375 13.875 7.203125 20.40625 \nQ 5.03125 26.953125 5.03125 34.71875 \nz\n\" id=\"LiberationSans-71\"/>\n    </defs>\n    <g style=\"fill:#262626;\" transform=\"translate(97.278872 86.800598)scale(0.12 -0.12)\">\n     <use xlink:href=\"#LiberationSans-69\"/>\n     <use x=\"66.699219\" xlink:href=\"#LiberationSans-83\"/>\n     <use x=\"133.398438\" xlink:href=\"#LiberationSans-86\"/>\n     <use x=\"200.097656\" xlink:href=\"#LiberationSans-71\"/>\n    </g>\n   </g>\n  </g>\n  <g id=\"axes_4\">\n   <g clip-path=\"url(#p9fca473b72)\">\n    <image height=\"60\" id=\"image7cc94e877c\" transform=\"scale(1 -1)translate(0 -60)\" width=\"178\" x=\"268.812784\" xlink:href=\"data:image/png;base64,\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\" y=\"-91.887554\"/>\n   </g>\n   <g id=\"text_4\">\n    <!-- 6F9E -->\n    <defs>\n     <path d=\"M 17.53125 61.1875 \nL 17.53125 35.59375 \nL 55.90625 35.59375 \nL 55.90625 27.875 \nL 17.53125 27.875 \nL 17.53125 0 \nL 8.203125 0 \nL 8.203125 68.796875 \nL 57.078125 68.796875 \nL 57.078125 61.1875 \nz\n\" id=\"LiberationSans-70\"/>\n     <path d=\"M 50.875 35.796875 \nQ 50.875 26.609375 49.140625 19.703125 \nQ 47.40625 12.796875 44.1875 8.203125 \nQ 40.96875 3.609375 36.34375 1.3125 \nQ 31.734375 -0.984375 25.984375 -0.984375 \nQ 22.015625 -0.984375 18.84375 -0.171875 \nQ 15.671875 0.640625 13.171875 2.34375 \nQ 10.6875 4.046875 8.921875 6.78125 \nQ 7.171875 9.515625 6.109375 13.375 \nL 14.5 14.703125 \nQ 15.875 10.25 18.78125 8.171875 \nQ 21.6875 6.109375 26.125 6.109375 \nQ 29.6875 6.109375 32.640625 7.78125 \nQ 35.59375 9.46875 37.671875 12.84375 \nQ 39.75 16.21875 40.921875 21.296875 \nQ 42.09375 26.375 42.1875 33.203125 \nQ 41.15625 30.90625 39.375 29.09375 \nQ 37.59375 27.296875 35.328125 26.046875 \nQ 33.0625 24.8125 30.421875 24.140625 \nQ 27.78125 23.484375 25.09375 23.484375 \nQ 20.40625 23.484375 16.625 25.171875 \nQ 12.84375 26.859375 10.203125 29.875 \nQ 7.5625 32.90625 6.125 37.171875 \nQ 4.6875 41.453125 4.6875 46.6875 \nQ 4.6875 52 6.21875 56.296875 \nQ 7.765625 60.59375 10.6875 63.59375 \nQ 13.625 66.609375 17.890625 68.21875 \nQ 22.171875 69.828125 27.59375 69.828125 \nQ 39.0625 69.828125 44.96875 61.328125 \nQ 50.875 52.828125 50.875 35.796875 \nz\nM 41.3125 44.28125 \nQ 41.3125 48.09375 40.40625 51.453125 \nQ 39.5 54.828125 37.71875 57.3125 \nQ 35.9375 59.8125 33.328125 61.25 \nQ 30.71875 62.703125 27.296875 62.703125 \nQ 24.125 62.703125 21.578125 61.578125 \nQ 19.046875 60.453125 17.28125 58.375 \nQ 15.53125 56.296875 14.578125 53.3125 \nQ 13.625 50.34375 13.625 46.6875 \nQ 13.625 43.21875 14.46875 40.234375 \nQ 15.328125 37.25 17.03125 35.078125 \nQ 18.75 32.90625 21.28125 31.65625 \nQ 23.828125 30.421875 27.203125 30.421875 \nQ 29.640625 30.421875 32.15625 31.25 \nQ 34.671875 32.078125 36.6875 33.78125 \nQ 38.71875 35.5 40.015625 38.109375 \nQ 41.3125 40.71875 41.3125 44.28125 \nz\n\" id=\"LiberationSans-57\"/>\n    </defs>\n    <g style=\"fill:#262626;\" transform=\"translate(343.103219 86.800598)scale(0.12 -0.12)\">\n     <use xlink:href=\"#LiberationSans-54\"/>\n     <use x=\"55.615234\" xlink:href=\"#LiberationSans-70\"/>\n     <use x=\"116.699219\" xlink:href=\"#LiberationSans-57\"/>\n     <use x=\"172.314453\" xlink:href=\"#LiberationSans-69\"/>\n    </g>\n   </g>\n  </g>\n  <g id=\"axes_5\">\n   <g clip-path=\"url(#p561afab5db)\">\n    <image height=\"60\" id=\"image81abdc3d0d\" transform=\"scale(1 -1)translate(0 -60)\" width=\"178\" x=\"25.321875\" xlink:href=\"data:image/png;base64,\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\" y=\"-162.791902\"/>\n   </g>\n   <g id=\"text_5\">\n    <!-- TR3V -->\n    <defs>\n     <path d=\"M 35.15625 61.1875 \nL 35.15625 0 \nL 25.875 0 \nL 25.875 61.1875 \nL 2.25 61.1875 \nL 2.25 68.796875 \nL 58.796875 68.796875 \nL 58.796875 61.1875 \nz\n\" id=\"LiberationSans-84\"/>\n     <path d=\"M 56.84375 0 \nL 38.96875 28.5625 \nL 17.53125 28.5625 \nL 17.53125 0 \nL 8.203125 0 \nL 8.203125 68.796875 \nL 40.578125 68.796875 \nQ 46.4375 68.796875 50.953125 67.453125 \nQ 55.46875 66.109375 58.546875 63.5625 \nQ 61.625 61.03125 63.234375 57.375 \nQ 64.84375 53.71875 64.84375 49.125 \nQ 64.84375 45.84375 63.890625 42.671875 \nQ 62.9375 39.5 60.890625 36.859375 \nQ 58.84375 34.234375 55.65625 32.328125 \nQ 52.484375 30.421875 48.046875 29.640625 \nL 67.578125 0 \nz\nM 55.46875 49.03125 \nQ 55.46875 52.15625 54.390625 54.4375 \nQ 53.328125 56.734375 51.265625 58.265625 \nQ 49.21875 59.8125 46.28125 60.5625 \nQ 43.359375 61.328125 39.65625 61.328125 \nL 17.53125 61.328125 \nL 17.53125 35.9375 \nL 40.046875 35.9375 \nQ 44.046875 35.9375 46.96875 36.9375 \nQ 49.90625 37.9375 51.78125 39.6875 \nQ 53.65625 41.453125 54.5625 43.84375 \nQ 55.46875 46.234375 55.46875 49.03125 \nz\n\" id=\"LiberationSans-82\"/>\n    </defs>\n    <g style=\"fill:#262626;\" transform=\"translate(98.615747 157.704946)scale(0.12 -0.12)\">\n     <use xlink:href=\"#LiberationSans-84\"/>\n     <use x=\"61.083984\" xlink:href=\"#LiberationSans-82\"/>\n     <use x=\"133.300781\" xlink:href=\"#LiberationSans-51\"/>\n     <use x=\"188.916016\" xlink:href=\"#LiberationSans-86\"/>\n    </g>\n   </g>\n  </g>\n  <g id=\"axes_6\">\n   <g clip-path=\"url(#p4d4ad33b88)\">\n    <image height=\"60\" id=\"image2a9e48adf6\" transform=\"scale(1 -1)translate(0 -60)\" width=\"178\" x=\"268.812784\" xlink:href=\"data:image/png;base64,\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\" y=\"-162.791902\"/>\n   </g>\n   <g id=\"text_6\">\n    <!-- BKQP -->\n    <defs>\n     <path d=\"M 54 0 \nL 26.515625 33.203125 \nL 17.53125 26.375 \nL 17.53125 0 \nL 8.203125 0 \nL 8.203125 68.796875 \nL 17.53125 68.796875 \nL 17.53125 34.328125 \nL 50.6875 68.796875 \nL 61.671875 68.796875 \nL 32.375 38.921875 \nL 65.578125 0 \nz\n\" id=\"LiberationSans-75\"/>\n     <path d=\"M 73 34.71875 \nQ 73 27.4375 71.109375 21.40625 \nQ 69.234375 15.375 65.6875 10.828125 \nQ 62.15625 6.296875 57 3.4375 \nQ 51.859375 0.59375 45.3125 -0.296875 \nQ 46.34375 -3.421875 47.625 -5.609375 \nQ 48.921875 -7.8125 50.578125 -9.203125 \nQ 52.25 -10.59375 54.265625 -11.25 \nQ 56.296875 -11.921875 58.796875 -11.921875 \nQ 60.15625 -11.921875 61.71875 -11.71875 \nQ 63.28125 -11.53125 64.40625 -11.28125 \nL 64.40625 -17.828125 \nQ 62.546875 -18.265625 60.328125 -18.578125 \nQ 58.109375 -18.890625 55.71875 -18.890625 \nQ 51.515625 -18.890625 48.390625 -17.640625 \nQ 45.265625 -16.40625 42.890625 -14.078125 \nQ 40.53125 -11.765625 38.8125 -8.390625 \nQ 37.109375 -5.03125 35.796875 -0.78125 \nQ 28.078125 -0.390625 22.234375 2.40625 \nQ 16.40625 5.21875 12.515625 9.9375 \nQ 8.640625 14.65625 6.6875 20.96875 \nQ 4.734375 27.296875 4.734375 34.71875 \nQ 4.734375 42.78125 6.984375 49.265625 \nQ 9.234375 55.765625 13.578125 60.328125 \nQ 17.921875 64.890625 24.296875 67.359375 \nQ 30.671875 69.828125 38.921875 69.828125 \nQ 47.125 69.828125 53.484375 67.328125 \nQ 59.859375 64.84375 64.171875 60.25 \nQ 68.5 55.671875 70.75 49.171875 \nQ 73 42.671875 73 34.71875 \nz\nM 63.484375 34.71875 \nQ 63.484375 40.921875 61.890625 46 \nQ 60.296875 51.078125 57.203125 54.6875 \nQ 54.109375 58.296875 49.515625 60.25 \nQ 44.921875 62.203125 38.921875 62.203125 \nQ 32.765625 62.203125 28.125 60.25 \nQ 23.484375 58.296875 20.375 54.6875 \nQ 17.28125 51.078125 15.734375 46 \nQ 14.203125 40.921875 14.203125 34.71875 \nQ 14.203125 28.515625 15.796875 23.359375 \nQ 17.390625 18.21875 20.484375 14.484375 \nQ 23.578125 10.75 28.1875 8.671875 \nQ 32.8125 6.59375 38.8125 6.59375 \nQ 45.265625 6.59375 49.921875 8.6875 \nQ 54.59375 10.796875 57.59375 14.53125 \nQ 60.59375 18.265625 62.03125 23.4375 \nQ 63.484375 28.609375 63.484375 34.71875 \nz\n\" id=\"LiberationSans-81\"/>\n    </defs>\n    <g style=\"fill:#262626;\" transform=\"translate(340.769781 157.704946)scale(0.12 -0.12)\">\n     <use xlink:href=\"#LiberationSans-66\"/>\n     <use x=\"66.699219\" xlink:href=\"#LiberationSans-75\"/>\n     <use x=\"133.398438\" xlink:href=\"#LiberationSans-81\"/>\n     <use x=\"211.181641\" xlink:href=\"#LiberationSans-80\"/>\n    </g>\n   </g>\n  </g>\n  <g id=\"axes_7\">\n   <g clip-path=\"url(#p077ac2741b)\">\n    <image height=\"60\" id=\"image9ac03bacb4\" transform=\"scale(1 -1)translate(0 -60)\" width=\"178\" x=\"25.321875\" xlink:href=\"data:image/png;base64,\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\" y=\"-233.69625\"/>\n   </g>\n   <g id=\"text_7\">\n    <!-- 6KTJ -->\n    <defs>\n     <path d=\"M 22.3125 -0.984375 \nQ 13.96875 -0.984375 8.609375 3.359375 \nQ 3.265625 7.71875 1.5625 17.09375 \nL 10.6875 18.609375 \nQ 11.1875 15.4375 12.296875 13.15625 \nQ 13.421875 10.890625 14.984375 9.421875 \nQ 16.546875 7.953125 18.453125 7.265625 \nQ 20.359375 6.59375 22.359375 6.59375 \nQ 27.4375 6.59375 30.359375 10.078125 \nQ 33.296875 13.578125 33.296875 20.3125 \nL 33.296875 61.1875 \nL 20.0625 61.1875 \nL 20.0625 68.796875 \nL 42.578125 68.796875 \nL 42.578125 20.515625 \nQ 42.578125 15.578125 41.203125 11.625 \nQ 39.84375 7.671875 37.234375 4.859375 \nQ 34.625 2.046875 30.859375 0.53125 \nQ 27.09375 -0.984375 22.3125 -0.984375 \nz\n\" id=\"LiberationSans-74\"/>\n    </defs>\n    <g style=\"fill:#262626;\" transform=\"translate(99.948872 228.609293)scale(0.12 -0.12)\">\n     <use xlink:href=\"#LiberationSans-54\"/>\n     <use x=\"55.615234\" xlink:href=\"#LiberationSans-75\"/>\n     <use x=\"122.314453\" xlink:href=\"#LiberationSans-84\"/>\n     <use x=\"183.398438\" xlink:href=\"#LiberationSans-74\"/>\n    </g>\n   </g>\n  </g>\n  <g id=\"axes_8\">\n   <g clip-path=\"url(#pa538d90742)\">\n    <image height=\"60\" id=\"image034983b2b0\" transform=\"scale(1 -1)translate(0 -60)\" width=\"178\" x=\"268.812784\" xlink:href=\"data:image/png;base64,\niVBORw0KGgoAAAANSUhEUgAAALIAAAA8CAYAAADCMODAAAAABHNCSVQICAgIfAhkiAAABoFJREFUeJztnVuIzV0UwH8jtym3IhoN5RqakXvSuD0QSoSQTEbJg9wfDHItoQi5lFtyKTwQkcvgRSENISYpHtyiJHfJdb6H71vrv//fHGf8z/mfM/Ptb/1ezmrtc85ezVmt/157r7Unp7KyshLD+I9Tp6YNMIw4MEc2vMAc2fACc2TDC8yRDS8wRza8wBzZ8AJzZMMLzJENLzBHNrzAHNnwAnNkwwvMkQ0vMEc2vKBuTRtg1AzPnz9X+d69ewDUqfN3XOvTp4+ONW/ePLuGpYhFZMMLzJENL8jxrUPk+/fvAHz9+lV1P3/+BKBhw4aqa9CgAQBfvnxR3atXrwD49u2b6n78+BF6BcjJyQGgoKAgVtuzwa5duwA4evSo6vr16wfAu3fvADh16pSOTZw4EYCNGzeqrl69ehm3MyoWkQ0viCUib968WeWtW7cC8OLFC9V17NgRgKlTp6puzpw5ADRq1Cjd6endu7fKt27d+u37Dh06pLLYcvr0adWNGzcOCEffRAwYMACAq1evRrLz3LlzKl+/fh0I/jau3L59e9W1atUq0hzVIU+sZFH12bNnKvfo0QOAadOmqW7Tpk2x2hQHFpENLzBHNrwgraXFmjVrAFi+fLnqhg4dCsCOHTtU16ZNGwDOnDmjugMHDlR5X7t27VKy4/379yofPHgQgPnz56tu0aJFAKxbty7p9xw5cgSAKVOmVBmbMWOGynv27EnJzidPnqi8ePFiIJx0CXXrBtv7y5YtA2DlypUpzZkusqQ4duyY6t68eQMECXNtwCKy4QWRI/KnT59UzsvLA6BFixaqu3//PgC5ublJv+fjx49AsOUF0KFDhyimJKW0tFRlSUDLy8tVV1hYGLIDoHv37gA8fvxYdZKA3b59W3VxJKgVFRUhO1zOnj2r8siRI9OeKx3k6SRPKwiSwfz8/BqxKREWkQ0vMEc2vCBy0dCNGzdUlmWGm1hVt6QQGjduHHqNG0lEAS5cuADA5MmTVXfz5k0AFi5cqDpZUkjxDMC+ffuAeJYTf0qzZs2yNlci3r59q7LsfTdp0kR1ce9tx4FFZMMLIkdkOY936dy5cyzGxIl7cnX48GEAevXqpbrhw4cDcOXKlSqfnTt3rsoDBw7MlIm/xd1+yxRukitPHXkS7dy5U8fk916yZInqrNbCMDKEObLhBZGfYe6eseCWPdZGunbtCsD69etV5yaogiyR1q5dm3GbPn/+nPE5klG/fn2V5aROEuT+/fvr2JYtWwCYN29eFq2LjkVkwwsiR+Ru3boFH/4nKXn69Gl8FmUQOU37HWPHjgX+fAsxHdyE6t+cP39e5b59+2ZkfrdOYvXq1UDwZHVLYWfPnp2R+ePGIrLhBebIhhekVcYpJZvuvufFixfTtypmysrKABgxYkSVsdatW6v8+vVrIDj1g8RFPany8OFDlWWJ5najDBkyBIAHDx6oTpZt6ezdjhkzRmVp9XdLbwU5tZUePgjKTCdNmpTy/NnAIrLhBWkdIS1duhSAUaNGqU5K/KSYvqZwi+3donhB+uLc0s5BgwYBUFJSojrprYvjNMstLZVI3LJlS9WdPHkSCCfUEhGLi4tTntc9ed29ezeQOCIn6nd0L3KpzVhENrzAHNnwgliuA3Afe1J4Ij151eFepBJnD9j06dNV3r9/f8g2gMuXLwNQVFSkOkl2pN0fguWT7LWmQrJkU7pXILgiwZ1Llhtuh0pU3K6e0aNHA+HuDumCkTb/X79+6djdu3eB1Psps4VFZMMLYonIciUVBMXr7sUjq1atAsIRVy5LcQvbr127BkCnTp0ize9GdSlJnDVrVpX3ubdMnjhxAghHppcvXwLBNVEQJHtuof6ECROA6nsMpUBdLjlxT0Alobtz547qJKEUOwDatm0LwKVLl1Q3ePDgpPMmQy5o2bt3r+pky1SaHNw6lJ49e6Y8VzaxiGx4gTmy4QUZu43z+PHjKm/fvh0In1jJPmqXLl1Ut2LFCgCGDRsWaS5JyAA2bNgAhMsU5eTRPYGUhM69+02+x7VdPuN+3/jx44Hg8hQXt21e9qOlGKe6ZDMRch+d+zPJssgIsIhseIF39yPXJqQvTqJv06ZNdSxZL+C2bdtUlqj/4cMH1S1YsAAIXwFWm66vqgksIhteYI5seIEtLWoh7r+DePToUejVlWfOnKk6d9nyf8QisuEFFpENL7CIbHiBObLhBebIhheYIxte8BfYsw8plciyUAAAAABJRU5ErkJggg==\" y=\"-233.69625\"/>\n   </g>\n   <g id=\"text_8\">\n    <!-- CXY3 -->\n    <defs>\n     <path d=\"M 38.671875 62.203125 \nQ 32.8125 62.203125 28.296875 60.25 \nQ 23.78125 58.296875 20.71875 54.6875 \nQ 17.671875 51.078125 16.109375 46 \nQ 14.546875 40.921875 14.546875 34.71875 \nQ 14.546875 28.515625 16.234375 23.359375 \nQ 17.921875 18.21875 21.0625 14.5 \nQ 24.21875 10.796875 28.78125 8.734375 \nQ 33.34375 6.6875 39.0625 6.6875 \nQ 43.0625 6.6875 46.359375 7.734375 \nQ 49.65625 8.796875 52.3125 10.6875 \nQ 54.984375 12.59375 57.078125 15.203125 \nQ 59.1875 17.828125 60.796875 21 \nL 68.40625 17.1875 \nQ 66.546875 13.328125 63.8125 10 \nQ 61.078125 6.6875 57.390625 4.25 \nQ 53.71875 1.8125 49.046875 0.40625 \nQ 44.390625 -0.984375 38.625 -0.984375 \nQ 30.28125 -0.984375 24 1.671875 \nQ 17.71875 4.34375 13.5 9.109375 \nQ 9.28125 13.875 7.171875 20.40625 \nQ 5.078125 26.953125 5.078125 34.71875 \nQ 5.078125 42.78125 7.296875 49.265625 \nQ 9.515625 55.765625 13.78125 60.328125 \nQ 18.0625 64.890625 24.3125 67.359375 \nQ 30.5625 69.828125 38.578125 69.828125 \nQ 49.5625 69.828125 56.9375 65.53125 \nQ 64.3125 61.234375 67.78125 52.78125 \nL 58.9375 49.859375 \nQ 57.953125 52.296875 56.296875 54.515625 \nQ 54.640625 56.734375 52.140625 58.4375 \nQ 49.65625 60.15625 46.3125 61.171875 \nQ 42.96875 62.203125 38.671875 62.203125 \nz\n\" id=\"LiberationSans-67\"/>\n     <path d=\"M 37.9375 28.515625 \nL 37.9375 0 \nL 28.65625 0 \nL 28.65625 28.515625 \nL 2.203125 68.796875 \nL 12.453125 68.796875 \nL 33.40625 36.03125 \nL 54.25 68.796875 \nL 64.5 68.796875 \nz\n\" id=\"LiberationSans-89\"/>\n    </defs>\n    <g style=\"fill:#262626;\" transform=\"translate(341.769156 228.609293)scale(0.12 -0.12)\">\n     <use xlink:href=\"#LiberationSans-67\"/>\n     <use x=\"72.216797\" xlink:href=\"#LiberationSans-88\"/>\n     <use x=\"138.916016\" xlink:href=\"#LiberationSans-89\"/>\n     <use x=\"205.615234\" xlink:href=\"#LiberationSans-51\"/>\n    </g>\n   </g>\n  </g>\n </g>\n <defs>\n  <clipPath id=\"p9de161d7f5\">\n   <rect height=\"59.086957\" width=\"177.26087\" x=\"25.321875\" y=\"21.89625\"/>\n  </clipPath>\n  <clipPath id=\"p70d68d4f6c\">\n   <rect height=\"59.086957\" width=\"177.26087\" x=\"268.812784\" y=\"21.89625\"/>\n  </clipPath>\n  <clipPath id=\"pcc47f68403\">\n   <rect height=\"59.086957\" width=\"177.26087\" x=\"25.321875\" y=\"92.800598\"/>\n  </clipPath>\n  <clipPath id=\"p9fca473b72\">\n   <rect height=\"59.086957\" width=\"177.26087\" x=\"268.812784\" y=\"92.800598\"/>\n  </clipPath>\n  <clipPath id=\"p561afab5db\">\n   <rect height=\"59.086957\" width=\"177.26087\" x=\"25.321875\" y=\"163.704946\"/>\n  </clipPath>\n  <clipPath id=\"p4d4ad33b88\">\n   <rect height=\"59.086957\" width=\"177.26087\" x=\"268.812784\" y=\"163.704946\"/>\n  </clipPath>\n  <clipPath id=\"p077ac2741b\">\n   <rect height=\"59.086957\" width=\"177.26087\" x=\"25.321875\" y=\"234.609293\"/>\n  </clipPath>\n  <clipPath id=\"pa538d90742\">\n   <rect height=\"59.086957\" width=\"177.26087\" x=\"268.812784\" y=\"234.609293\"/>\n  </clipPath>\n </defs>\n</svg>\n"
          },
          "metadata": {
            "tags": []
          }
        }
      ]
    },
    {
      "metadata": {
        "id": "rcwGXFnVe3YA",
        "colab_type": "text"
      },
      "cell_type": "markdown",
      "source": [
        "## 7. Data Generator "
      ]
    },
    {
      "metadata": {
        "id": "aDZUuJ8reyE-",
        "colab_type": "code",
        "colab": {}
      },
      "cell_type": "code",
      "source": [
        "def data_generator(df, \n",
        "                   batch_size, \n",
        "                   img_width, \n",
        "                   img_height, \n",
        "                   downsample_factor, \n",
        "                   max_text_len, \n",
        "                   is_validation_data=False):\n",
        "    \"\"\"This is a data generator which yields batches \n",
        "    of (image, label) pairs.\n",
        "    \n",
        "    Args:\n",
        "        df                : training or validation dataframe\n",
        "        batch_size        : batch size ti be used during training\n",
        "        img_width         : width of images to be considered  \n",
        "        img_height        : height of images to be considered\n",
        "        downsample_factor : by what factor the CNN has downsampled the images\n",
        "        max_text_len      : maximum length of the text in your data\n",
        "        is_validation_data: is the data being considered a validation data?\n",
        "        \n",
        "    Returns:\n",
        "        inputs: numpy array containg inputs that are required for the final model\n",
        "        outputs: a dummy array of zeros \n",
        "    \"\"\"\n",
        "    n = len(df)\n",
        "    indices = np.arange(n)\n",
        "    np.random.shuffle(indices)\n",
        "    nb_batches = int(np.ceil(n/batch_size))\n",
        "    \n",
        "    if not is_validation_data:\n",
        "        images, texts = training_images, training_labels\n",
        "    else:\n",
        "        images, texts = validation_images, validation_labels\n",
        "    \n",
        "    batch_images = np.ones((batch_size, img_width, img_height, 1), dtype=np.float32)\n",
        "    batch_labels = np.ones((batch_size, max_text_len), dtype=np.float32)\n",
        "    input_length = np.ones((batch_size, 1), dtype=np.int64) * \\\n",
        "                                            (img_width // downsample_factor - 2)\n",
        "    label_length = np.zeros((batch_size, 1), dtype=np.int64)\n",
        "    \n",
        "    while True:\n",
        "        for i in range(nb_batches):\n",
        "            idx_to_consider = indices[i*batch_size:(i+1)*batch_size]\n",
        "            \n",
        "            for j, idx in enumerate(idx_to_consider):\n",
        "                img = images[idx].T\n",
        "                img = np.expand_dims(img, axis=-1)\n",
        "                text = texts[idx]\n",
        "                \n",
        "                if is_valid_str(text):\n",
        "                    label = text_to_labels(texts[idx])\n",
        "                    batch_images[j] = img\n",
        "                    batch_labels[j] = label\n",
        "                    label_length[j] = len(text)\n",
        "\n",
        "            inputs = {\n",
        "            'input_data': batch_images,\n",
        "            'input_label': batch_labels,\n",
        "            'input_length': input_length,\n",
        "            'label_length': label_length,\n",
        "            }\n",
        "            \n",
        "            outputs = {'ctc_loss': np.zeros([batch_size], dtype=np.float32)}\n",
        "            yield inputs, outputs"
      ],
      "execution_count": 0,
      "outputs": []
    },
    {
      "metadata": {
        "id": "_HU1fz5he8pF",
        "colab_type": "code",
        "colab": {}
      },
      "cell_type": "code",
      "source": [
        "# batch size to be used for training\n",
        "batch_size = 32\n",
        "\n",
        "# image dimensions\n",
        "img_width=72\n",
        "img_height=24 \n",
        "\n",
        "# by what factor the image has been downsampled by the CNN part?\n",
        "downsample_factor=4\n",
        "\n",
        "# maximum length of any text in the data\n",
        "max_text_len=4"
      ],
      "execution_count": 0,
      "outputs": []
    },
    {
      "metadata": {
        "id": "dtOiaqcVfAKN",
        "colab_type": "code",
        "colab": {}
      },
      "cell_type": "code",
      "source": [
        "# Get a generator object for the training data\n",
        "train_data_generator = data_generator(training_data, \n",
        "                                      batch_size=batch_size, \n",
        "                                      img_width=img_width, \n",
        "                                      img_height=img_height, \n",
        "                                      downsample_factor=downsample_factor, \n",
        "                                      max_text_len=max_text_len, \n",
        "                                      is_validation_data=False)\n",
        "\n",
        "# Get a generator object for the validation data \n",
        "valid_data_generator = data_generator(validation_data, \n",
        "                                      batch_size=batch_size, \n",
        "                                      img_width=img_width, \n",
        "                                      img_height=img_height, \n",
        "                                      downsample_factor=downsample_factor, \n",
        "                                      max_text_len=max_text_len, \n",
        "                                      is_validation_data=True)"
      ],
      "execution_count": 0,
      "outputs": []
    },
    {
      "metadata": {
        "id": "7CyYwvgzfDQc",
        "colab_type": "code",
        "colab": {}
      },
      "cell_type": "code",
      "source": [
        "# A handy-dandy function for checking the generator output\n",
        "# always sanity-check your data before passing it to the model\n",
        "def visualize_data_gen_output(data_gen, samples_to_visualize=2):\n",
        "    for i, (inp, out) in enumerate(data_gen):\n",
        "        print('Text generator output (data which will be fed into the neutral network):')\n",
        "        print('1)the_input (image)')\n",
        "        img = (inp['input_data'][i, :, :, 0]*255).astype(np.uint8)\n",
        "        plt.imshow(img.T, cmap='gray')\n",
        "        plt.show()\n",
        "        print(f\"2) the_labels(captcha) {labels_to_text(inp['input_label'][i])} is encoded as {list(map(int, inp['input_label'][i]))}\") \n",
        "        print(f\"3) input_length (width of image that is fed to the network after CNN): {inp['input_length'][i][0]} == (72/4 - 2)\")\n",
        "        print(f\"4) label_length (length of captcha): {inp['label_length'][i][0]}\")\n",
        "        print(\" \")\n",
        "        if i==samples_to_visualize:\n",
        "            break"
      ],
      "execution_count": 0,
      "outputs": []
    },
    {
      "metadata": {
        "id": "46rPsT9ff_8E",
        "colab_type": "code",
        "outputId": "213adc7a-a9e5-46c9-d5c5-b50ee205f42d",
        "colab": {
          "base_uri": "https://localhost:8080/",
          "height": 909
        }
      },
      "cell_type": "code",
      "source": [
        "visualize_data_gen_output(train_data_generator)"
      ],
      "execution_count": 0,
      "outputs": [
        {
          "output_type": "stream",
          "text": [
            "Text generator output (data which will be fed into the neutral network):\n",
            "1)the_input (image)\n"
          ],
          "name": "stdout"
        },
        {
          "output_type": "display_data",
          "data": {
            "text/plain": [
              "<Figure size 432x288 with 1 Axes>"
            ],
            "image/svg+xml": "<?xml version=\"1.0\" encoding=\"utf-8\" standalone=\"no\"?>\n<!DOCTYPE svg PUBLIC \"-//W3C//DTD SVG 1.1//EN\"\n  \"http://www.w3.org/Graphics/SVG/1.1/DTD/svg11.dtd\">\n<!-- Created with matplotlib (https://matplotlib.org/) -->\n<svg height=\"143.620312pt\" version=\"1.1\" viewBox=\"0 0 367.321875 143.620312\" width=\"367.321875pt\" xmlns=\"http://www.w3.org/2000/svg\" xmlns:xlink=\"http://www.w3.org/1999/xlink\">\n <defs>\n  <style type=\"text/css\">\n*{stroke-linecap:butt;stroke-linejoin:round;}\n  </style>\n </defs>\n <g id=\"figure_1\">\n  <g id=\"patch_1\">\n   <path d=\"M 0 143.620312 \nL 367.321875 143.620312 \nL 367.321875 0 \nL 0 0 \nz\n\" style=\"fill:none;\"/>\n  </g>\n  <g id=\"axes_1\">\n   <g id=\"patch_2\">\n    <path d=\"M 25.321875 120.098437 \nL 360.121875 120.098437 \nL 360.121875 8.498437 \nL 25.321875 8.498437 \nz\n\" style=\"fill:#eaeaf2;\"/>\n   </g>\n   <g clip-path=\"url(#p9f5d5919bd)\">\n    <image height=\"112\" id=\"imagef9fb321ac0\" transform=\"scale(1 -1)translate(0 -112)\" width=\"335\" x=\"25.321875\" xlink:href=\"data:image/png;base64,\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\" y=\"-8.098437\"/>\n   </g>\n   <g id=\"matplotlib.axis_1\">\n    <g id=\"xtick_1\">\n     <g id=\"line2d_1\">\n      <path clip-path=\"url(#p9f5d5919bd)\" d=\"M 27.646875 120.098437 \nL 27.646875 8.498437 \n\" style=\"fill:none;stroke:#ffffff;stroke-linecap:round;\"/>\n     </g>\n     <g id=\"line2d_2\"/>\n     <g id=\"text_1\">\n      <!-- 0 -->\n      <defs>\n       <path d=\"M 51.703125 34.421875 \nQ 51.703125 24.515625 49.828125 17.75 \nQ 47.953125 10.984375 44.703125 6.8125 \nQ 41.453125 2.640625 37.0625 0.828125 \nQ 32.671875 -0.984375 27.6875 -0.984375 \nQ 22.65625 -0.984375 18.3125 0.828125 \nQ 13.96875 2.640625 10.765625 6.78125 \nQ 7.5625 10.9375 5.734375 17.703125 \nQ 3.90625 24.46875 3.90625 34.421875 \nQ 3.90625 44.828125 5.734375 51.640625 \nQ 7.5625 58.453125 10.78125 62.5 \nQ 14.015625 66.546875 18.40625 68.1875 \nQ 22.796875 69.828125 27.984375 69.828125 \nQ 32.90625 69.828125 37.21875 68.1875 \nQ 41.546875 66.546875 44.765625 62.5 \nQ 48 58.453125 49.84375 51.640625 \nQ 51.703125 44.828125 51.703125 34.421875 \nz\nM 42.78125 34.421875 \nQ 42.78125 42.625 41.796875 48.0625 \nQ 40.828125 53.515625 38.921875 56.765625 \nQ 37.015625 60.015625 34.25 61.359375 \nQ 31.5 62.703125 27.984375 62.703125 \nQ 24.265625 62.703125 21.4375 61.328125 \nQ 18.609375 59.96875 16.671875 56.71875 \nQ 14.75 53.46875 13.765625 48.015625 \nQ 12.796875 42.578125 12.796875 34.421875 \nQ 12.796875 26.515625 13.796875 21.09375 \nQ 14.796875 15.671875 16.71875 12.375 \nQ 18.65625 9.078125 21.4375 7.640625 \nQ 24.21875 6.203125 27.78125 6.203125 \nQ 31.25 6.203125 34.03125 7.640625 \nQ 36.8125 9.078125 38.734375 12.375 \nQ 40.671875 15.671875 41.71875 21.09375 \nQ 42.78125 26.515625 42.78125 34.421875 \nz\n\" id=\"LiberationSans-48\"/>\n      </defs>\n      <g style=\"fill:#262626;\" transform=\"translate(24.866406 134.345312)scale(0.1 -0.1)\">\n       <use xlink:href=\"#LiberationSans-48\"/>\n      </g>\n     </g>\n    </g>\n    <g id=\"xtick_2\">\n     <g id=\"line2d_3\">\n      <path clip-path=\"url(#p9f5d5919bd)\" d=\"M 74.146875 120.098437 \nL 74.146875 8.498437 \n\" style=\"fill:none;stroke:#ffffff;stroke-linecap:round;\"/>\n     </g>\n     <g id=\"line2d_4\"/>\n     <g id=\"text_2\">\n      <!-- 10 -->\n      <defs>\n       <path d=\"M 7.625 0 \nL 7.625 7.46875 \nL 25.140625 7.46875 \nL 25.140625 60.40625 \nL 9.625 49.3125 \nL 9.625 57.625 \nL 25.875 68.796875 \nL 33.984375 68.796875 \nL 33.984375 7.46875 \nL 50.734375 7.46875 \nL 50.734375 0 \nz\n\" id=\"LiberationSans-49\"/>\n      </defs>\n      <g style=\"fill:#262626;\" transform=\"translate(68.585938 134.345312)scale(0.1 -0.1)\">\n       <use xlink:href=\"#LiberationSans-49\"/>\n       <use x=\"55.615234\" xlink:href=\"#LiberationSans-48\"/>\n      </g>\n     </g>\n    </g>\n    <g id=\"xtick_3\">\n     <g id=\"line2d_5\">\n      <path clip-path=\"url(#p9f5d5919bd)\" d=\"M 120.646875 120.098437 \nL 120.646875 8.498437 \n\" style=\"fill:none;stroke:#ffffff;stroke-linecap:round;\"/>\n     </g>\n     <g id=\"line2d_6\"/>\n     <g id=\"text_3\">\n      <!-- 20 -->\n      <defs>\n       <path d=\"M 5.03125 0 \nL 5.03125 6.203125 \nQ 7.515625 11.921875 11.109375 16.28125 \nQ 14.703125 20.65625 18.65625 24.1875 \nQ 22.609375 27.734375 26.484375 30.765625 \nQ 30.375 33.796875 33.5 36.8125 \nQ 36.625 39.84375 38.546875 43.15625 \nQ 40.484375 46.484375 40.484375 50.6875 \nQ 40.484375 53.609375 39.59375 55.828125 \nQ 38.71875 58.0625 37.0625 59.5625 \nQ 35.40625 61.078125 33.078125 61.828125 \nQ 30.765625 62.59375 27.9375 62.59375 \nQ 25.296875 62.59375 22.96875 61.859375 \nQ 20.65625 61.140625 18.84375 59.671875 \nQ 17.046875 58.203125 15.890625 56.03125 \nQ 14.75 53.859375 14.40625 50.984375 \nL 5.421875 51.8125 \nQ 5.859375 55.515625 7.46875 58.78125 \nQ 9.078125 62.0625 11.90625 64.53125 \nQ 14.75 67 18.71875 68.40625 \nQ 22.703125 69.828125 27.9375 69.828125 \nQ 33.0625 69.828125 37.0625 68.609375 \nQ 41.0625 67.390625 43.8125 64.984375 \nQ 46.578125 62.59375 48.046875 59.078125 \nQ 49.515625 55.5625 49.515625 50.984375 \nQ 49.515625 47.515625 48.265625 44.390625 \nQ 47.015625 41.265625 44.9375 38.421875 \nQ 42.875 35.59375 40.140625 32.953125 \nQ 37.40625 30.328125 34.421875 27.8125 \nQ 31.453125 25.296875 28.421875 22.828125 \nQ 25.390625 20.359375 22.71875 17.859375 \nQ 20.0625 15.375 17.96875 12.8125 \nQ 15.875 10.25 14.703125 7.46875 \nL 50.59375 7.46875 \nL 50.59375 0 \nz\n\" id=\"LiberationSans-50\"/>\n      </defs>\n      <g style=\"fill:#262626;\" transform=\"translate(115.085938 134.345312)scale(0.1 -0.1)\">\n       <use xlink:href=\"#LiberationSans-50\"/>\n       <use x=\"55.615234\" xlink:href=\"#LiberationSans-48\"/>\n      </g>\n     </g>\n    </g>\n    <g id=\"xtick_4\">\n     <g id=\"line2d_7\">\n      <path clip-path=\"url(#p9f5d5919bd)\" d=\"M 167.146875 120.098437 \nL 167.146875 8.498437 \n\" style=\"fill:none;stroke:#ffffff;stroke-linecap:round;\"/>\n     </g>\n     <g id=\"line2d_8\"/>\n     <g id=\"text_4\">\n      <!-- 30 -->\n      <defs>\n       <path d=\"M 51.21875 19 \nQ 51.21875 14.265625 49.671875 10.546875 \nQ 48.140625 6.84375 45.1875 4.265625 \nQ 42.234375 1.703125 37.859375 0.359375 \nQ 33.5 -0.984375 27.875 -0.984375 \nQ 21.484375 -0.984375 17.109375 0.609375 \nQ 12.75 2.203125 9.90625 4.8125 \nQ 7.078125 7.421875 5.65625 10.765625 \nQ 4.25 14.109375 3.8125 17.671875 \nL 12.890625 18.5 \nQ 13.28125 15.765625 14.328125 13.515625 \nQ 15.375 11.28125 17.1875 9.671875 \nQ 19 8.0625 21.625 7.171875 \nQ 24.265625 6.296875 27.875 6.296875 \nQ 34.515625 6.296875 38.296875 9.5625 \nQ 42.09375 12.84375 42.09375 19.28125 \nQ 42.09375 23.09375 40.40625 25.40625 \nQ 38.71875 27.734375 36.203125 29.03125 \nQ 33.6875 30.328125 30.734375 30.765625 \nQ 27.78125 31.203125 25.296875 31.203125 \nL 20.3125 31.203125 \nL 20.3125 38.8125 \nL 25.09375 38.8125 \nQ 27.59375 38.8125 30.265625 39.328125 \nQ 32.953125 39.84375 35.171875 41.1875 \nQ 37.40625 42.53125 38.84375 44.828125 \nQ 40.28125 47.125 40.28125 50.6875 \nQ 40.28125 56.203125 37.03125 59.390625 \nQ 33.796875 62.59375 27.390625 62.59375 \nQ 21.578125 62.59375 17.984375 59.609375 \nQ 14.40625 56.640625 13.8125 51.21875 \nL 4.984375 51.90625 \nQ 5.515625 56.453125 7.46875 59.8125 \nQ 9.421875 63.1875 12.421875 65.40625 \nQ 15.4375 67.625 19.28125 68.71875 \nQ 23.140625 69.828125 27.484375 69.828125 \nQ 33.25 69.828125 37.390625 68.375 \nQ 41.546875 66.9375 44.1875 64.46875 \nQ 46.828125 62.015625 48.0625 58.6875 \nQ 49.3125 55.375 49.3125 51.609375 \nQ 49.3125 48.578125 48.484375 45.9375 \nQ 47.65625 43.3125 45.890625 41.203125 \nQ 44.140625 39.109375 41.421875 37.59375 \nQ 38.71875 36.078125 34.90625 35.296875 \nL 34.90625 35.109375 \nQ 39.0625 34.671875 42.140625 33.21875 \nQ 45.21875 31.78125 47.21875 29.625 \nQ 49.21875 27.484375 50.21875 24.75 \nQ 51.21875 22.015625 51.21875 19 \nz\n\" id=\"LiberationSans-51\"/>\n      </defs>\n      <g style=\"fill:#262626;\" transform=\"translate(161.585938 134.345312)scale(0.1 -0.1)\">\n       <use xlink:href=\"#LiberationSans-51\"/>\n       <use x=\"55.615234\" xlink:href=\"#LiberationSans-48\"/>\n      </g>\n     </g>\n    </g>\n    <g id=\"xtick_5\">\n     <g id=\"line2d_9\">\n      <path clip-path=\"url(#p9f5d5919bd)\" d=\"M 213.646875 120.098437 \nL 213.646875 8.498437 \n\" style=\"fill:none;stroke:#ffffff;stroke-linecap:round;\"/>\n     </g>\n     <g id=\"line2d_10\"/>\n     <g id=\"text_5\">\n      <!-- 40 -->\n      <defs>\n       <path d=\"M 43.015625 15.578125 \nL 43.015625 0 \nL 34.71875 0 \nL 34.71875 15.578125 \nL 2.296875 15.578125 \nL 2.296875 22.40625 \nL 33.796875 68.796875 \nL 43.015625 68.796875 \nL 43.015625 22.515625 \nL 52.6875 22.515625 \nL 52.6875 15.578125 \nz\nM 34.71875 58.890625 \nQ 34.625 58.640625 34.234375 57.9375 \nQ 33.84375 57.234375 33.34375 56.34375 \nQ 32.859375 55.46875 32.34375 54.5625 \nQ 31.84375 53.65625 31.453125 53.078125 \nL 13.8125 27.09375 \nQ 13.578125 26.703125 13.109375 26.0625 \nQ 12.640625 25.4375 12.15625 24.78125 \nQ 11.671875 24.125 11.171875 23.484375 \nQ 10.6875 22.859375 10.40625 22.515625 \nL 34.71875 22.515625 \nz\n\" id=\"LiberationSans-52\"/>\n      </defs>\n      <g style=\"fill:#262626;\" transform=\"translate(208.085938 134.345312)scale(0.1 -0.1)\">\n       <use xlink:href=\"#LiberationSans-52\"/>\n       <use x=\"55.615234\" xlink:href=\"#LiberationSans-48\"/>\n      </g>\n     </g>\n    </g>\n    <g id=\"xtick_6\">\n     <g id=\"line2d_11\">\n      <path clip-path=\"url(#p9f5d5919bd)\" d=\"M 260.146875 120.098437 \nL 260.146875 8.498437 \n\" style=\"fill:none;stroke:#ffffff;stroke-linecap:round;\"/>\n     </g>\n     <g id=\"line2d_12\"/>\n     <g id=\"text_6\">\n      <!-- 50 -->\n      <defs>\n       <path d=\"M 51.421875 22.40625 \nQ 51.421875 17.234375 49.859375 12.9375 \nQ 48.296875 8.640625 45.21875 5.53125 \nQ 42.140625 2.4375 37.578125 0.71875 \nQ 33.015625 -0.984375 27 -0.984375 \nQ 21.578125 -0.984375 17.546875 0.28125 \nQ 13.53125 1.5625 10.734375 3.78125 \nQ 7.953125 6 6.3125 8.984375 \nQ 4.6875 11.96875 4 15.375 \nL 12.890625 16.40625 \nQ 13.421875 14.453125 14.390625 12.625 \nQ 15.375 10.796875 17.0625 9.34375 \nQ 18.75 7.90625 21.21875 7.046875 \nQ 23.6875 6.203125 27.203125 6.203125 \nQ 30.609375 6.203125 33.390625 7.25 \nQ 36.1875 8.296875 38.15625 10.34375 \nQ 40.140625 12.40625 41.203125 15.375 \nQ 42.28125 18.359375 42.28125 22.21875 \nQ 42.28125 25.390625 41.25 28.046875 \nQ 40.234375 30.71875 38.328125 32.640625 \nQ 36.421875 34.578125 33.65625 35.640625 \nQ 30.90625 36.71875 27.390625 36.71875 \nQ 25.203125 36.71875 23.34375 36.328125 \nQ 21.484375 35.9375 19.890625 35.25 \nQ 18.3125 34.578125 17.015625 33.671875 \nQ 15.71875 32.765625 14.59375 31.78125 \nL 6 31.78125 \nL 8.296875 68.796875 \nL 47.40625 68.796875 \nL 47.40625 61.328125 \nL 16.3125 61.328125 \nL 14.984375 39.5 \nQ 17.328125 41.3125 20.84375 42.59375 \nQ 24.359375 43.890625 29.203125 43.890625 \nQ 34.328125 43.890625 38.421875 42.328125 \nQ 42.53125 40.765625 45.40625 37.90625 \nQ 48.296875 35.0625 49.859375 31.109375 \nQ 51.421875 27.15625 51.421875 22.40625 \nz\n\" id=\"LiberationSans-53\"/>\n      </defs>\n      <g style=\"fill:#262626;\" transform=\"translate(254.585938 134.345312)scale(0.1 -0.1)\">\n       <use xlink:href=\"#LiberationSans-53\"/>\n       <use x=\"55.615234\" xlink:href=\"#LiberationSans-48\"/>\n      </g>\n     </g>\n    </g>\n    <g id=\"xtick_7\">\n     <g id=\"line2d_13\">\n      <path clip-path=\"url(#p9f5d5919bd)\" d=\"M 306.646875 120.098437 \nL 306.646875 8.498437 \n\" style=\"fill:none;stroke:#ffffff;stroke-linecap:round;\"/>\n     </g>\n     <g id=\"line2d_14\"/>\n     <g id=\"text_7\">\n      <!-- 60 -->\n      <defs>\n       <path d=\"M 51.21875 22.515625 \nQ 51.21875 17.328125 49.78125 13 \nQ 48.34375 8.6875 45.53125 5.578125 \nQ 42.71875 2.484375 38.5625 0.75 \nQ 34.421875 -0.984375 29 -0.984375 \nQ 23 -0.984375 18.5 1.3125 \nQ 14.015625 3.609375 11.03125 7.921875 \nQ 8.0625 12.25 6.5625 18.53125 \nQ 5.078125 24.8125 5.078125 32.8125 \nQ 5.078125 42 6.765625 48.921875 \nQ 8.453125 55.859375 11.625 60.5 \nQ 14.796875 65.140625 19.359375 67.484375 \nQ 23.921875 69.828125 29.6875 69.828125 \nQ 33.203125 69.828125 36.28125 69.09375 \nQ 39.359375 68.359375 41.875 66.71875 \nQ 44.390625 65.09375 46.28125 62.40625 \nQ 48.1875 59.71875 49.3125 55.8125 \nL 40.921875 54.296875 \nQ 39.546875 58.734375 36.546875 60.71875 \nQ 33.546875 62.703125 29.59375 62.703125 \nQ 25.984375 62.703125 23.046875 60.984375 \nQ 20.125 59.28125 18.0625 55.875 \nQ 16.015625 52.484375 14.90625 47.359375 \nQ 13.8125 42.234375 13.8125 35.40625 \nQ 16.21875 39.84375 20.5625 42.15625 \nQ 24.90625 44.484375 30.515625 44.484375 \nQ 35.203125 44.484375 39.015625 42.96875 \nQ 42.828125 41.453125 45.53125 38.59375 \nQ 48.25 35.75 49.734375 31.671875 \nQ 51.21875 27.59375 51.21875 22.515625 \nz\nM 42.28125 22.125 \nQ 42.28125 25.6875 41.40625 28.5625 \nQ 40.53125 31.453125 38.765625 33.46875 \nQ 37.015625 35.5 34.421875 36.59375 \nQ 31.84375 37.703125 28.421875 37.703125 \nQ 26.03125 37.703125 23.578125 36.984375 \nQ 21.140625 36.28125 19.15625 34.6875 \nQ 17.1875 33.109375 15.9375 30.515625 \nQ 14.703125 27.9375 14.703125 24.21875 \nQ 14.703125 20.40625 15.671875 17.109375 \nQ 16.65625 13.8125 18.484375 11.375 \nQ 20.3125 8.9375 22.890625 7.515625 \nQ 25.484375 6.109375 28.71875 6.109375 \nQ 31.890625 6.109375 34.40625 7.203125 \nQ 36.921875 8.296875 38.671875 10.375 \nQ 40.4375 12.453125 41.359375 15.421875 \nQ 42.28125 18.40625 42.28125 22.125 \nz\n\" id=\"LiberationSans-54\"/>\n      </defs>\n      <g style=\"fill:#262626;\" transform=\"translate(301.085938 134.345312)scale(0.1 -0.1)\">\n       <use xlink:href=\"#LiberationSans-54\"/>\n       <use x=\"55.615234\" xlink:href=\"#LiberationSans-48\"/>\n      </g>\n     </g>\n    </g>\n    <g id=\"xtick_8\">\n     <g id=\"line2d_15\">\n      <path clip-path=\"url(#p9f5d5919bd)\" d=\"M 353.146875 120.098437 \nL 353.146875 8.498437 \n\" style=\"fill:none;stroke:#ffffff;stroke-linecap:round;\"/>\n     </g>\n     <g id=\"line2d_16\"/>\n     <g id=\"text_8\">\n      <!-- 70 -->\n      <defs>\n       <path d=\"M 50.59375 61.671875 \nQ 45.40625 53.765625 41.0625 46.453125 \nQ 36.71875 39.15625 33.59375 31.75 \nQ 30.46875 24.359375 28.734375 16.578125 \nQ 27 8.796875 27 0 \nL 17.828125 0 \nQ 17.828125 8.25 19.78125 16.1875 \nQ 21.734375 24.125 25.046875 31.765625 \nQ 28.375 39.40625 32.765625 46.78125 \nQ 37.15625 54.15625 42.09375 61.328125 \nL 5.125 61.328125 \nL 5.125 68.796875 \nL 50.59375 68.796875 \nz\n\" id=\"LiberationSans-55\"/>\n      </defs>\n      <g style=\"fill:#262626;\" transform=\"translate(347.585938 134.345312)scale(0.1 -0.1)\">\n       <use xlink:href=\"#LiberationSans-55\"/>\n       <use x=\"55.615234\" xlink:href=\"#LiberationSans-48\"/>\n      </g>\n     </g>\n    </g>\n   </g>\n   <g id=\"matplotlib.axis_2\">\n    <g id=\"ytick_1\">\n     <g id=\"line2d_17\">\n      <path clip-path=\"url(#p9f5d5919bd)\" d=\"M 25.321875 10.823437 \nL 360.121875 10.823437 \n\" style=\"fill:none;stroke:#ffffff;stroke-linecap:round;\"/>\n     </g>\n     <g id=\"line2d_18\"/>\n     <g id=\"text_9\">\n      <!-- 0 -->\n      <g style=\"fill:#262626;\" transform=\"translate(12.760938 14.446875)scale(0.1 -0.1)\">\n       <use xlink:href=\"#LiberationSans-48\"/>\n      </g>\n     </g>\n    </g>\n    <g id=\"ytick_2\">\n     <g id=\"line2d_19\">\n      <path clip-path=\"url(#p9f5d5919bd)\" d=\"M 25.321875 34.073437 \nL 360.121875 34.073437 \n\" style=\"fill:none;stroke:#ffffff;stroke-linecap:round;\"/>\n     </g>\n     <g id=\"line2d_20\"/>\n     <g id=\"text_10\">\n      <!-- 5 -->\n      <g style=\"fill:#262626;\" transform=\"translate(12.760938 37.696875)scale(0.1 -0.1)\">\n       <use xlink:href=\"#LiberationSans-53\"/>\n      </g>\n     </g>\n    </g>\n    <g id=\"ytick_3\">\n     <g id=\"line2d_21\">\n      <path clip-path=\"url(#p9f5d5919bd)\" d=\"M 25.321875 57.323437 \nL 360.121875 57.323437 \n\" style=\"fill:none;stroke:#ffffff;stroke-linecap:round;\"/>\n     </g>\n     <g id=\"line2d_22\"/>\n     <g id=\"text_11\">\n      <!-- 10 -->\n      <g style=\"fill:#262626;\" transform=\"translate(7.2 60.946875)scale(0.1 -0.1)\">\n       <use xlink:href=\"#LiberationSans-49\"/>\n       <use x=\"55.615234\" xlink:href=\"#LiberationSans-48\"/>\n      </g>\n     </g>\n    </g>\n    <g id=\"ytick_4\">\n     <g id=\"line2d_23\">\n      <path clip-path=\"url(#p9f5d5919bd)\" d=\"M 25.321875 80.573437 \nL 360.121875 80.573437 \n\" style=\"fill:none;stroke:#ffffff;stroke-linecap:round;\"/>\n     </g>\n     <g id=\"line2d_24\"/>\n     <g id=\"text_12\">\n      <!-- 15 -->\n      <g style=\"fill:#262626;\" transform=\"translate(7.2 84.196875)scale(0.1 -0.1)\">\n       <use xlink:href=\"#LiberationSans-49\"/>\n       <use x=\"55.615234\" xlink:href=\"#LiberationSans-53\"/>\n      </g>\n     </g>\n    </g>\n    <g id=\"ytick_5\">\n     <g id=\"line2d_25\">\n      <path clip-path=\"url(#p9f5d5919bd)\" d=\"M 25.321875 103.823437 \nL 360.121875 103.823437 \n\" style=\"fill:none;stroke:#ffffff;stroke-linecap:round;\"/>\n     </g>\n     <g id=\"line2d_26\"/>\n     <g id=\"text_13\">\n      <!-- 20 -->\n      <g style=\"fill:#262626;\" transform=\"translate(7.2 107.446875)scale(0.1 -0.1)\">\n       <use xlink:href=\"#LiberationSans-50\"/>\n       <use x=\"55.615234\" xlink:href=\"#LiberationSans-48\"/>\n      </g>\n     </g>\n    </g>\n   </g>\n   <g id=\"patch_3\">\n    <path d=\"M 25.321875 120.098437 \nL 25.321875 8.498437 \n\" style=\"fill:none;\"/>\n   </g>\n   <g id=\"patch_4\">\n    <path d=\"M 360.121875 120.098437 \nL 360.121875 8.498437 \n\" style=\"fill:none;\"/>\n   </g>\n   <g id=\"patch_5\">\n    <path d=\"M 25.321875 120.098437 \nL 360.121875 120.098437 \n\" style=\"fill:none;\"/>\n   </g>\n   <g id=\"patch_6\">\n    <path d=\"M 25.321875 8.498437 \nL 360.121875 8.498437 \n\" style=\"fill:none;\"/>\n   </g>\n  </g>\n </g>\n <defs>\n  <clipPath id=\"p9f5d5919bd\">\n   <rect height=\"111.6\" width=\"334.8\" x=\"25.321875\" y=\"8.498437\"/>\n  </clipPath>\n </defs>\n</svg>\n"
          },
          "metadata": {
            "tags": []
          }
        },
        {
          "output_type": "stream",
          "text": [
            "2) the_labels(captcha) 4DXU is encoded as [2, 11, 29, 26]\n",
            "3) input_length (width of image that is fed to the network after CNN): 16 == (72/4 - 2)\n",
            "4) label_length (length of captcha): 4\n",
            " \n",
            "Text generator output (data which will be fed into the neutral network):\n",
            "1)the_input (image)\n"
          ],
          "name": "stdout"
        },
        {
          "output_type": "display_data",
          "data": {
            "text/plain": [
              "<Figure size 432x288 with 1 Axes>"
            ],
            "image/svg+xml": "<?xml version=\"1.0\" encoding=\"utf-8\" standalone=\"no\"?>\n<!DOCTYPE svg PUBLIC \"-//W3C//DTD SVG 1.1//EN\"\n  \"http://www.w3.org/Graphics/SVG/1.1/DTD/svg11.dtd\">\n<!-- Created with matplotlib (https://matplotlib.org/) -->\n<svg height=\"143.620312pt\" version=\"1.1\" viewBox=\"0 0 367.321875 143.620312\" width=\"367.321875pt\" xmlns=\"http://www.w3.org/2000/svg\" xmlns:xlink=\"http://www.w3.org/1999/xlink\">\n <defs>\n  <style type=\"text/css\">\n*{stroke-linecap:butt;stroke-linejoin:round;}\n  </style>\n </defs>\n <g id=\"figure_1\">\n  <g id=\"patch_1\">\n   <path d=\"M 0 143.620312 \nL 367.321875 143.620312 \nL 367.321875 0 \nL 0 0 \nz\n\" style=\"fill:none;\"/>\n  </g>\n  <g id=\"axes_1\">\n   <g id=\"patch_2\">\n    <path d=\"M 25.321875 120.098437 \nL 360.121875 120.098437 \nL 360.121875 8.498437 \nL 25.321875 8.498437 \nz\n\" style=\"fill:#eaeaf2;\"/>\n   </g>\n   <g clip-path=\"url(#p89ea21b4b8)\">\n    <image height=\"112\" id=\"image2600f3a820\" transform=\"scale(1 -1)translate(0 -112)\" width=\"335\" x=\"25.321875\" xlink:href=\"data:image/png;base64,\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\" y=\"-8.098437\"/>\n   </g>\n   <g id=\"matplotlib.axis_1\">\n    <g id=\"xtick_1\">\n     <g id=\"line2d_1\">\n      <path clip-path=\"url(#p89ea21b4b8)\" d=\"M 27.646875 120.098437 \nL 27.646875 8.498437 \n\" style=\"fill:none;stroke:#ffffff;stroke-linecap:round;\"/>\n     </g>\n     <g id=\"line2d_2\"/>\n     <g id=\"text_1\">\n      <!-- 0 -->\n      <defs>\n       <path d=\"M 51.703125 34.421875 \nQ 51.703125 24.515625 49.828125 17.75 \nQ 47.953125 10.984375 44.703125 6.8125 \nQ 41.453125 2.640625 37.0625 0.828125 \nQ 32.671875 -0.984375 27.6875 -0.984375 \nQ 22.65625 -0.984375 18.3125 0.828125 \nQ 13.96875 2.640625 10.765625 6.78125 \nQ 7.5625 10.9375 5.734375 17.703125 \nQ 3.90625 24.46875 3.90625 34.421875 \nQ 3.90625 44.828125 5.734375 51.640625 \nQ 7.5625 58.453125 10.78125 62.5 \nQ 14.015625 66.546875 18.40625 68.1875 \nQ 22.796875 69.828125 27.984375 69.828125 \nQ 32.90625 69.828125 37.21875 68.1875 \nQ 41.546875 66.546875 44.765625 62.5 \nQ 48 58.453125 49.84375 51.640625 \nQ 51.703125 44.828125 51.703125 34.421875 \nz\nM 42.78125 34.421875 \nQ 42.78125 42.625 41.796875 48.0625 \nQ 40.828125 53.515625 38.921875 56.765625 \nQ 37.015625 60.015625 34.25 61.359375 \nQ 31.5 62.703125 27.984375 62.703125 \nQ 24.265625 62.703125 21.4375 61.328125 \nQ 18.609375 59.96875 16.671875 56.71875 \nQ 14.75 53.46875 13.765625 48.015625 \nQ 12.796875 42.578125 12.796875 34.421875 \nQ 12.796875 26.515625 13.796875 21.09375 \nQ 14.796875 15.671875 16.71875 12.375 \nQ 18.65625 9.078125 21.4375 7.640625 \nQ 24.21875 6.203125 27.78125 6.203125 \nQ 31.25 6.203125 34.03125 7.640625 \nQ 36.8125 9.078125 38.734375 12.375 \nQ 40.671875 15.671875 41.71875 21.09375 \nQ 42.78125 26.515625 42.78125 34.421875 \nz\n\" id=\"LiberationSans-48\"/>\n      </defs>\n      <g style=\"fill:#262626;\" transform=\"translate(24.866406 134.345312)scale(0.1 -0.1)\">\n       <use xlink:href=\"#LiberationSans-48\"/>\n      </g>\n     </g>\n    </g>\n    <g id=\"xtick_2\">\n     <g id=\"line2d_3\">\n      <path clip-path=\"url(#p89ea21b4b8)\" d=\"M 74.146875 120.098437 \nL 74.146875 8.498437 \n\" style=\"fill:none;stroke:#ffffff;stroke-linecap:round;\"/>\n     </g>\n     <g id=\"line2d_4\"/>\n     <g id=\"text_2\">\n      <!-- 10 -->\n      <defs>\n       <path d=\"M 7.625 0 \nL 7.625 7.46875 \nL 25.140625 7.46875 \nL 25.140625 60.40625 \nL 9.625 49.3125 \nL 9.625 57.625 \nL 25.875 68.796875 \nL 33.984375 68.796875 \nL 33.984375 7.46875 \nL 50.734375 7.46875 \nL 50.734375 0 \nz\n\" id=\"LiberationSans-49\"/>\n      </defs>\n      <g style=\"fill:#262626;\" transform=\"translate(68.585938 134.345312)scale(0.1 -0.1)\">\n       <use xlink:href=\"#LiberationSans-49\"/>\n       <use x=\"55.615234\" xlink:href=\"#LiberationSans-48\"/>\n      </g>\n     </g>\n    </g>\n    <g id=\"xtick_3\">\n     <g id=\"line2d_5\">\n      <path clip-path=\"url(#p89ea21b4b8)\" d=\"M 120.646875 120.098437 \nL 120.646875 8.498437 \n\" style=\"fill:none;stroke:#ffffff;stroke-linecap:round;\"/>\n     </g>\n     <g id=\"line2d_6\"/>\n     <g id=\"text_3\">\n      <!-- 20 -->\n      <defs>\n       <path d=\"M 5.03125 0 \nL 5.03125 6.203125 \nQ 7.515625 11.921875 11.109375 16.28125 \nQ 14.703125 20.65625 18.65625 24.1875 \nQ 22.609375 27.734375 26.484375 30.765625 \nQ 30.375 33.796875 33.5 36.8125 \nQ 36.625 39.84375 38.546875 43.15625 \nQ 40.484375 46.484375 40.484375 50.6875 \nQ 40.484375 53.609375 39.59375 55.828125 \nQ 38.71875 58.0625 37.0625 59.5625 \nQ 35.40625 61.078125 33.078125 61.828125 \nQ 30.765625 62.59375 27.9375 62.59375 \nQ 25.296875 62.59375 22.96875 61.859375 \nQ 20.65625 61.140625 18.84375 59.671875 \nQ 17.046875 58.203125 15.890625 56.03125 \nQ 14.75 53.859375 14.40625 50.984375 \nL 5.421875 51.8125 \nQ 5.859375 55.515625 7.46875 58.78125 \nQ 9.078125 62.0625 11.90625 64.53125 \nQ 14.75 67 18.71875 68.40625 \nQ 22.703125 69.828125 27.9375 69.828125 \nQ 33.0625 69.828125 37.0625 68.609375 \nQ 41.0625 67.390625 43.8125 64.984375 \nQ 46.578125 62.59375 48.046875 59.078125 \nQ 49.515625 55.5625 49.515625 50.984375 \nQ 49.515625 47.515625 48.265625 44.390625 \nQ 47.015625 41.265625 44.9375 38.421875 \nQ 42.875 35.59375 40.140625 32.953125 \nQ 37.40625 30.328125 34.421875 27.8125 \nQ 31.453125 25.296875 28.421875 22.828125 \nQ 25.390625 20.359375 22.71875 17.859375 \nQ 20.0625 15.375 17.96875 12.8125 \nQ 15.875 10.25 14.703125 7.46875 \nL 50.59375 7.46875 \nL 50.59375 0 \nz\n\" id=\"LiberationSans-50\"/>\n      </defs>\n      <g style=\"fill:#262626;\" transform=\"translate(115.085938 134.345312)scale(0.1 -0.1)\">\n       <use xlink:href=\"#LiberationSans-50\"/>\n       <use x=\"55.615234\" xlink:href=\"#LiberationSans-48\"/>\n      </g>\n     </g>\n    </g>\n    <g id=\"xtick_4\">\n     <g id=\"line2d_7\">\n      <path clip-path=\"url(#p89ea21b4b8)\" d=\"M 167.146875 120.098437 \nL 167.146875 8.498437 \n\" style=\"fill:none;stroke:#ffffff;stroke-linecap:round;\"/>\n     </g>\n     <g id=\"line2d_8\"/>\n     <g id=\"text_4\">\n      <!-- 30 -->\n      <defs>\n       <path d=\"M 51.21875 19 \nQ 51.21875 14.265625 49.671875 10.546875 \nQ 48.140625 6.84375 45.1875 4.265625 \nQ 42.234375 1.703125 37.859375 0.359375 \nQ 33.5 -0.984375 27.875 -0.984375 \nQ 21.484375 -0.984375 17.109375 0.609375 \nQ 12.75 2.203125 9.90625 4.8125 \nQ 7.078125 7.421875 5.65625 10.765625 \nQ 4.25 14.109375 3.8125 17.671875 \nL 12.890625 18.5 \nQ 13.28125 15.765625 14.328125 13.515625 \nQ 15.375 11.28125 17.1875 9.671875 \nQ 19 8.0625 21.625 7.171875 \nQ 24.265625 6.296875 27.875 6.296875 \nQ 34.515625 6.296875 38.296875 9.5625 \nQ 42.09375 12.84375 42.09375 19.28125 \nQ 42.09375 23.09375 40.40625 25.40625 \nQ 38.71875 27.734375 36.203125 29.03125 \nQ 33.6875 30.328125 30.734375 30.765625 \nQ 27.78125 31.203125 25.296875 31.203125 \nL 20.3125 31.203125 \nL 20.3125 38.8125 \nL 25.09375 38.8125 \nQ 27.59375 38.8125 30.265625 39.328125 \nQ 32.953125 39.84375 35.171875 41.1875 \nQ 37.40625 42.53125 38.84375 44.828125 \nQ 40.28125 47.125 40.28125 50.6875 \nQ 40.28125 56.203125 37.03125 59.390625 \nQ 33.796875 62.59375 27.390625 62.59375 \nQ 21.578125 62.59375 17.984375 59.609375 \nQ 14.40625 56.640625 13.8125 51.21875 \nL 4.984375 51.90625 \nQ 5.515625 56.453125 7.46875 59.8125 \nQ 9.421875 63.1875 12.421875 65.40625 \nQ 15.4375 67.625 19.28125 68.71875 \nQ 23.140625 69.828125 27.484375 69.828125 \nQ 33.25 69.828125 37.390625 68.375 \nQ 41.546875 66.9375 44.1875 64.46875 \nQ 46.828125 62.015625 48.0625 58.6875 \nQ 49.3125 55.375 49.3125 51.609375 \nQ 49.3125 48.578125 48.484375 45.9375 \nQ 47.65625 43.3125 45.890625 41.203125 \nQ 44.140625 39.109375 41.421875 37.59375 \nQ 38.71875 36.078125 34.90625 35.296875 \nL 34.90625 35.109375 \nQ 39.0625 34.671875 42.140625 33.21875 \nQ 45.21875 31.78125 47.21875 29.625 \nQ 49.21875 27.484375 50.21875 24.75 \nQ 51.21875 22.015625 51.21875 19 \nz\n\" id=\"LiberationSans-51\"/>\n      </defs>\n      <g style=\"fill:#262626;\" transform=\"translate(161.585938 134.345312)scale(0.1 -0.1)\">\n       <use xlink:href=\"#LiberationSans-51\"/>\n       <use x=\"55.615234\" xlink:href=\"#LiberationSans-48\"/>\n      </g>\n     </g>\n    </g>\n    <g id=\"xtick_5\">\n     <g id=\"line2d_9\">\n      <path clip-path=\"url(#p89ea21b4b8)\" d=\"M 213.646875 120.098437 \nL 213.646875 8.498437 \n\" style=\"fill:none;stroke:#ffffff;stroke-linecap:round;\"/>\n     </g>\n     <g id=\"line2d_10\"/>\n     <g id=\"text_5\">\n      <!-- 40 -->\n      <defs>\n       <path d=\"M 43.015625 15.578125 \nL 43.015625 0 \nL 34.71875 0 \nL 34.71875 15.578125 \nL 2.296875 15.578125 \nL 2.296875 22.40625 \nL 33.796875 68.796875 \nL 43.015625 68.796875 \nL 43.015625 22.515625 \nL 52.6875 22.515625 \nL 52.6875 15.578125 \nz\nM 34.71875 58.890625 \nQ 34.625 58.640625 34.234375 57.9375 \nQ 33.84375 57.234375 33.34375 56.34375 \nQ 32.859375 55.46875 32.34375 54.5625 \nQ 31.84375 53.65625 31.453125 53.078125 \nL 13.8125 27.09375 \nQ 13.578125 26.703125 13.109375 26.0625 \nQ 12.640625 25.4375 12.15625 24.78125 \nQ 11.671875 24.125 11.171875 23.484375 \nQ 10.6875 22.859375 10.40625 22.515625 \nL 34.71875 22.515625 \nz\n\" id=\"LiberationSans-52\"/>\n      </defs>\n      <g style=\"fill:#262626;\" transform=\"translate(208.085938 134.345312)scale(0.1 -0.1)\">\n       <use xlink:href=\"#LiberationSans-52\"/>\n       <use x=\"55.615234\" xlink:href=\"#LiberationSans-48\"/>\n      </g>\n     </g>\n    </g>\n    <g id=\"xtick_6\">\n     <g id=\"line2d_11\">\n      <path clip-path=\"url(#p89ea21b4b8)\" d=\"M 260.146875 120.098437 \nL 260.146875 8.498437 \n\" style=\"fill:none;stroke:#ffffff;stroke-linecap:round;\"/>\n     </g>\n     <g id=\"line2d_12\"/>\n     <g id=\"text_6\">\n      <!-- 50 -->\n      <defs>\n       <path d=\"M 51.421875 22.40625 \nQ 51.421875 17.234375 49.859375 12.9375 \nQ 48.296875 8.640625 45.21875 5.53125 \nQ 42.140625 2.4375 37.578125 0.71875 \nQ 33.015625 -0.984375 27 -0.984375 \nQ 21.578125 -0.984375 17.546875 0.28125 \nQ 13.53125 1.5625 10.734375 3.78125 \nQ 7.953125 6 6.3125 8.984375 \nQ 4.6875 11.96875 4 15.375 \nL 12.890625 16.40625 \nQ 13.421875 14.453125 14.390625 12.625 \nQ 15.375 10.796875 17.0625 9.34375 \nQ 18.75 7.90625 21.21875 7.046875 \nQ 23.6875 6.203125 27.203125 6.203125 \nQ 30.609375 6.203125 33.390625 7.25 \nQ 36.1875 8.296875 38.15625 10.34375 \nQ 40.140625 12.40625 41.203125 15.375 \nQ 42.28125 18.359375 42.28125 22.21875 \nQ 42.28125 25.390625 41.25 28.046875 \nQ 40.234375 30.71875 38.328125 32.640625 \nQ 36.421875 34.578125 33.65625 35.640625 \nQ 30.90625 36.71875 27.390625 36.71875 \nQ 25.203125 36.71875 23.34375 36.328125 \nQ 21.484375 35.9375 19.890625 35.25 \nQ 18.3125 34.578125 17.015625 33.671875 \nQ 15.71875 32.765625 14.59375 31.78125 \nL 6 31.78125 \nL 8.296875 68.796875 \nL 47.40625 68.796875 \nL 47.40625 61.328125 \nL 16.3125 61.328125 \nL 14.984375 39.5 \nQ 17.328125 41.3125 20.84375 42.59375 \nQ 24.359375 43.890625 29.203125 43.890625 \nQ 34.328125 43.890625 38.421875 42.328125 \nQ 42.53125 40.765625 45.40625 37.90625 \nQ 48.296875 35.0625 49.859375 31.109375 \nQ 51.421875 27.15625 51.421875 22.40625 \nz\n\" id=\"LiberationSans-53\"/>\n      </defs>\n      <g style=\"fill:#262626;\" transform=\"translate(254.585938 134.345312)scale(0.1 -0.1)\">\n       <use xlink:href=\"#LiberationSans-53\"/>\n       <use x=\"55.615234\" xlink:href=\"#LiberationSans-48\"/>\n      </g>\n     </g>\n    </g>\n    <g id=\"xtick_7\">\n     <g id=\"line2d_13\">\n      <path clip-path=\"url(#p89ea21b4b8)\" d=\"M 306.646875 120.098437 \nL 306.646875 8.498437 \n\" style=\"fill:none;stroke:#ffffff;stroke-linecap:round;\"/>\n     </g>\n     <g id=\"line2d_14\"/>\n     <g id=\"text_7\">\n      <!-- 60 -->\n      <defs>\n       <path d=\"M 51.21875 22.515625 \nQ 51.21875 17.328125 49.78125 13 \nQ 48.34375 8.6875 45.53125 5.578125 \nQ 42.71875 2.484375 38.5625 0.75 \nQ 34.421875 -0.984375 29 -0.984375 \nQ 23 -0.984375 18.5 1.3125 \nQ 14.015625 3.609375 11.03125 7.921875 \nQ 8.0625 12.25 6.5625 18.53125 \nQ 5.078125 24.8125 5.078125 32.8125 \nQ 5.078125 42 6.765625 48.921875 \nQ 8.453125 55.859375 11.625 60.5 \nQ 14.796875 65.140625 19.359375 67.484375 \nQ 23.921875 69.828125 29.6875 69.828125 \nQ 33.203125 69.828125 36.28125 69.09375 \nQ 39.359375 68.359375 41.875 66.71875 \nQ 44.390625 65.09375 46.28125 62.40625 \nQ 48.1875 59.71875 49.3125 55.8125 \nL 40.921875 54.296875 \nQ 39.546875 58.734375 36.546875 60.71875 \nQ 33.546875 62.703125 29.59375 62.703125 \nQ 25.984375 62.703125 23.046875 60.984375 \nQ 20.125 59.28125 18.0625 55.875 \nQ 16.015625 52.484375 14.90625 47.359375 \nQ 13.8125 42.234375 13.8125 35.40625 \nQ 16.21875 39.84375 20.5625 42.15625 \nQ 24.90625 44.484375 30.515625 44.484375 \nQ 35.203125 44.484375 39.015625 42.96875 \nQ 42.828125 41.453125 45.53125 38.59375 \nQ 48.25 35.75 49.734375 31.671875 \nQ 51.21875 27.59375 51.21875 22.515625 \nz\nM 42.28125 22.125 \nQ 42.28125 25.6875 41.40625 28.5625 \nQ 40.53125 31.453125 38.765625 33.46875 \nQ 37.015625 35.5 34.421875 36.59375 \nQ 31.84375 37.703125 28.421875 37.703125 \nQ 26.03125 37.703125 23.578125 36.984375 \nQ 21.140625 36.28125 19.15625 34.6875 \nQ 17.1875 33.109375 15.9375 30.515625 \nQ 14.703125 27.9375 14.703125 24.21875 \nQ 14.703125 20.40625 15.671875 17.109375 \nQ 16.65625 13.8125 18.484375 11.375 \nQ 20.3125 8.9375 22.890625 7.515625 \nQ 25.484375 6.109375 28.71875 6.109375 \nQ 31.890625 6.109375 34.40625 7.203125 \nQ 36.921875 8.296875 38.671875 10.375 \nQ 40.4375 12.453125 41.359375 15.421875 \nQ 42.28125 18.40625 42.28125 22.125 \nz\n\" id=\"LiberationSans-54\"/>\n      </defs>\n      <g style=\"fill:#262626;\" transform=\"translate(301.085938 134.345312)scale(0.1 -0.1)\">\n       <use xlink:href=\"#LiberationSans-54\"/>\n       <use x=\"55.615234\" xlink:href=\"#LiberationSans-48\"/>\n      </g>\n     </g>\n    </g>\n    <g id=\"xtick_8\">\n     <g id=\"line2d_15\">\n      <path clip-path=\"url(#p89ea21b4b8)\" d=\"M 353.146875 120.098437 \nL 353.146875 8.498437 \n\" style=\"fill:none;stroke:#ffffff;stroke-linecap:round;\"/>\n     </g>\n     <g id=\"line2d_16\"/>\n     <g id=\"text_8\">\n      <!-- 70 -->\n      <defs>\n       <path d=\"M 50.59375 61.671875 \nQ 45.40625 53.765625 41.0625 46.453125 \nQ 36.71875 39.15625 33.59375 31.75 \nQ 30.46875 24.359375 28.734375 16.578125 \nQ 27 8.796875 27 0 \nL 17.828125 0 \nQ 17.828125 8.25 19.78125 16.1875 \nQ 21.734375 24.125 25.046875 31.765625 \nQ 28.375 39.40625 32.765625 46.78125 \nQ 37.15625 54.15625 42.09375 61.328125 \nL 5.125 61.328125 \nL 5.125 68.796875 \nL 50.59375 68.796875 \nz\n\" id=\"LiberationSans-55\"/>\n      </defs>\n      <g style=\"fill:#262626;\" transform=\"translate(347.585938 134.345312)scale(0.1 -0.1)\">\n       <use xlink:href=\"#LiberationSans-55\"/>\n       <use x=\"55.615234\" xlink:href=\"#LiberationSans-48\"/>\n      </g>\n     </g>\n    </g>\n   </g>\n   <g id=\"matplotlib.axis_2\">\n    <g id=\"ytick_1\">\n     <g id=\"line2d_17\">\n      <path clip-path=\"url(#p89ea21b4b8)\" d=\"M 25.321875 10.823437 \nL 360.121875 10.823437 \n\" style=\"fill:none;stroke:#ffffff;stroke-linecap:round;\"/>\n     </g>\n     <g id=\"line2d_18\"/>\n     <g id=\"text_9\">\n      <!-- 0 -->\n      <g style=\"fill:#262626;\" transform=\"translate(12.760938 14.446875)scale(0.1 -0.1)\">\n       <use xlink:href=\"#LiberationSans-48\"/>\n      </g>\n     </g>\n    </g>\n    <g id=\"ytick_2\">\n     <g id=\"line2d_19\">\n      <path clip-path=\"url(#p89ea21b4b8)\" d=\"M 25.321875 34.073437 \nL 360.121875 34.073437 \n\" style=\"fill:none;stroke:#ffffff;stroke-linecap:round;\"/>\n     </g>\n     <g id=\"line2d_20\"/>\n     <g id=\"text_10\">\n      <!-- 5 -->\n      <g style=\"fill:#262626;\" transform=\"translate(12.760938 37.696875)scale(0.1 -0.1)\">\n       <use xlink:href=\"#LiberationSans-53\"/>\n      </g>\n     </g>\n    </g>\n    <g id=\"ytick_3\">\n     <g id=\"line2d_21\">\n      <path clip-path=\"url(#p89ea21b4b8)\" d=\"M 25.321875 57.323437 \nL 360.121875 57.323437 \n\" style=\"fill:none;stroke:#ffffff;stroke-linecap:round;\"/>\n     </g>\n     <g id=\"line2d_22\"/>\n     <g id=\"text_11\">\n      <!-- 10 -->\n      <g style=\"fill:#262626;\" transform=\"translate(7.2 60.946875)scale(0.1 -0.1)\">\n       <use xlink:href=\"#LiberationSans-49\"/>\n       <use x=\"55.615234\" xlink:href=\"#LiberationSans-48\"/>\n      </g>\n     </g>\n    </g>\n    <g id=\"ytick_4\">\n     <g id=\"line2d_23\">\n      <path clip-path=\"url(#p89ea21b4b8)\" d=\"M 25.321875 80.573437 \nL 360.121875 80.573437 \n\" style=\"fill:none;stroke:#ffffff;stroke-linecap:round;\"/>\n     </g>\n     <g id=\"line2d_24\"/>\n     <g id=\"text_12\">\n      <!-- 15 -->\n      <g style=\"fill:#262626;\" transform=\"translate(7.2 84.196875)scale(0.1 -0.1)\">\n       <use xlink:href=\"#LiberationSans-49\"/>\n       <use x=\"55.615234\" xlink:href=\"#LiberationSans-53\"/>\n      </g>\n     </g>\n    </g>\n    <g id=\"ytick_5\">\n     <g id=\"line2d_25\">\n      <path clip-path=\"url(#p89ea21b4b8)\" d=\"M 25.321875 103.823437 \nL 360.121875 103.823437 \n\" style=\"fill:none;stroke:#ffffff;stroke-linecap:round;\"/>\n     </g>\n     <g id=\"line2d_26\"/>\n     <g id=\"text_13\">\n      <!-- 20 -->\n      <g style=\"fill:#262626;\" transform=\"translate(7.2 107.446875)scale(0.1 -0.1)\">\n       <use xlink:href=\"#LiberationSans-50\"/>\n       <use x=\"55.615234\" xlink:href=\"#LiberationSans-48\"/>\n      </g>\n     </g>\n    </g>\n   </g>\n   <g id=\"patch_3\">\n    <path d=\"M 25.321875 120.098437 \nL 25.321875 8.498437 \n\" style=\"fill:none;\"/>\n   </g>\n   <g id=\"patch_4\">\n    <path d=\"M 360.121875 120.098437 \nL 360.121875 8.498437 \n\" style=\"fill:none;\"/>\n   </g>\n   <g id=\"patch_5\">\n    <path d=\"M 25.321875 120.098437 \nL 360.121875 120.098437 \n\" style=\"fill:none;\"/>\n   </g>\n   <g id=\"patch_6\">\n    <path d=\"M 25.321875 8.498437 \nL 360.121875 8.498437 \n\" style=\"fill:none;\"/>\n   </g>\n  </g>\n </g>\n <defs>\n  <clipPath id=\"p89ea21b4b8\">\n   <rect height=\"111.6\" width=\"334.8\" x=\"25.321875\" y=\"8.498437\"/>\n  </clipPath>\n </defs>\n</svg>\n"
          },
          "metadata": {
            "tags": []
          }
        },
        {
          "output_type": "stream",
          "text": [
            "2) the_labels(captcha) 4FNS is encoded as [2, 13, 20, 24]\n",
            "3) input_length (width of image that is fed to the network after CNN): 16 == (72/4 - 2)\n",
            "4) label_length (length of captcha): 4\n",
            " \n",
            "Text generator output (data which will be fed into the neutral network):\n",
            "1)the_input (image)\n"
          ],
          "name": "stdout"
        },
        {
          "output_type": "display_data",
          "data": {
            "text/plain": [
              "<Figure size 432x288 with 1 Axes>"
            ],
            "image/svg+xml": "<?xml version=\"1.0\" encoding=\"utf-8\" standalone=\"no\"?>\n<!DOCTYPE svg PUBLIC \"-//W3C//DTD SVG 1.1//EN\"\n  \"http://www.w3.org/Graphics/SVG/1.1/DTD/svg11.dtd\">\n<!-- Created with matplotlib (https://matplotlib.org/) -->\n<svg height=\"143.620312pt\" version=\"1.1\" viewBox=\"0 0 367.321875 143.620312\" width=\"367.321875pt\" xmlns=\"http://www.w3.org/2000/svg\" xmlns:xlink=\"http://www.w3.org/1999/xlink\">\n <defs>\n  <style type=\"text/css\">\n*{stroke-linecap:butt;stroke-linejoin:round;}\n  </style>\n </defs>\n <g id=\"figure_1\">\n  <g id=\"patch_1\">\n   <path d=\"M 0 143.620312 \nL 367.321875 143.620312 \nL 367.321875 0 \nL 0 0 \nz\n\" style=\"fill:none;\"/>\n  </g>\n  <g id=\"axes_1\">\n   <g id=\"patch_2\">\n    <path d=\"M 25.321875 120.098437 \nL 360.121875 120.098437 \nL 360.121875 8.498437 \nL 25.321875 8.498437 \nz\n\" style=\"fill:#eaeaf2;\"/>\n   </g>\n   <g clip-path=\"url(#p70c2206330)\">\n    <image height=\"112\" id=\"image0605398220\" transform=\"scale(1 -1)translate(0 -112)\" width=\"335\" x=\"25.321875\" xlink:href=\"data:image/png;base64,\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\" y=\"-8.098437\"/>\n   </g>\n   <g id=\"matplotlib.axis_1\">\n    <g id=\"xtick_1\">\n     <g id=\"line2d_1\">\n      <path clip-path=\"url(#p70c2206330)\" d=\"M 27.646875 120.098437 \nL 27.646875 8.498437 \n\" style=\"fill:none;stroke:#ffffff;stroke-linecap:round;\"/>\n     </g>\n     <g id=\"line2d_2\"/>\n     <g id=\"text_1\">\n      <!-- 0 -->\n      <defs>\n       <path d=\"M 51.703125 34.421875 \nQ 51.703125 24.515625 49.828125 17.75 \nQ 47.953125 10.984375 44.703125 6.8125 \nQ 41.453125 2.640625 37.0625 0.828125 \nQ 32.671875 -0.984375 27.6875 -0.984375 \nQ 22.65625 -0.984375 18.3125 0.828125 \nQ 13.96875 2.640625 10.765625 6.78125 \nQ 7.5625 10.9375 5.734375 17.703125 \nQ 3.90625 24.46875 3.90625 34.421875 \nQ 3.90625 44.828125 5.734375 51.640625 \nQ 7.5625 58.453125 10.78125 62.5 \nQ 14.015625 66.546875 18.40625 68.1875 \nQ 22.796875 69.828125 27.984375 69.828125 \nQ 32.90625 69.828125 37.21875 68.1875 \nQ 41.546875 66.546875 44.765625 62.5 \nQ 48 58.453125 49.84375 51.640625 \nQ 51.703125 44.828125 51.703125 34.421875 \nz\nM 42.78125 34.421875 \nQ 42.78125 42.625 41.796875 48.0625 \nQ 40.828125 53.515625 38.921875 56.765625 \nQ 37.015625 60.015625 34.25 61.359375 \nQ 31.5 62.703125 27.984375 62.703125 \nQ 24.265625 62.703125 21.4375 61.328125 \nQ 18.609375 59.96875 16.671875 56.71875 \nQ 14.75 53.46875 13.765625 48.015625 \nQ 12.796875 42.578125 12.796875 34.421875 \nQ 12.796875 26.515625 13.796875 21.09375 \nQ 14.796875 15.671875 16.71875 12.375 \nQ 18.65625 9.078125 21.4375 7.640625 \nQ 24.21875 6.203125 27.78125 6.203125 \nQ 31.25 6.203125 34.03125 7.640625 \nQ 36.8125 9.078125 38.734375 12.375 \nQ 40.671875 15.671875 41.71875 21.09375 \nQ 42.78125 26.515625 42.78125 34.421875 \nz\n\" id=\"LiberationSans-48\"/>\n      </defs>\n      <g style=\"fill:#262626;\" transform=\"translate(24.866406 134.345312)scale(0.1 -0.1)\">\n       <use xlink:href=\"#LiberationSans-48\"/>\n      </g>\n     </g>\n    </g>\n    <g id=\"xtick_2\">\n     <g id=\"line2d_3\">\n      <path clip-path=\"url(#p70c2206330)\" d=\"M 74.146875 120.098437 \nL 74.146875 8.498437 \n\" style=\"fill:none;stroke:#ffffff;stroke-linecap:round;\"/>\n     </g>\n     <g id=\"line2d_4\"/>\n     <g id=\"text_2\">\n      <!-- 10 -->\n      <defs>\n       <path d=\"M 7.625 0 \nL 7.625 7.46875 \nL 25.140625 7.46875 \nL 25.140625 60.40625 \nL 9.625 49.3125 \nL 9.625 57.625 \nL 25.875 68.796875 \nL 33.984375 68.796875 \nL 33.984375 7.46875 \nL 50.734375 7.46875 \nL 50.734375 0 \nz\n\" id=\"LiberationSans-49\"/>\n      </defs>\n      <g style=\"fill:#262626;\" transform=\"translate(68.585938 134.345312)scale(0.1 -0.1)\">\n       <use xlink:href=\"#LiberationSans-49\"/>\n       <use x=\"55.615234\" xlink:href=\"#LiberationSans-48\"/>\n      </g>\n     </g>\n    </g>\n    <g id=\"xtick_3\">\n     <g id=\"line2d_5\">\n      <path clip-path=\"url(#p70c2206330)\" d=\"M 120.646875 120.098437 \nL 120.646875 8.498437 \n\" style=\"fill:none;stroke:#ffffff;stroke-linecap:round;\"/>\n     </g>\n     <g id=\"line2d_6\"/>\n     <g id=\"text_3\">\n      <!-- 20 -->\n      <defs>\n       <path d=\"M 5.03125 0 \nL 5.03125 6.203125 \nQ 7.515625 11.921875 11.109375 16.28125 \nQ 14.703125 20.65625 18.65625 24.1875 \nQ 22.609375 27.734375 26.484375 30.765625 \nQ 30.375 33.796875 33.5 36.8125 \nQ 36.625 39.84375 38.546875 43.15625 \nQ 40.484375 46.484375 40.484375 50.6875 \nQ 40.484375 53.609375 39.59375 55.828125 \nQ 38.71875 58.0625 37.0625 59.5625 \nQ 35.40625 61.078125 33.078125 61.828125 \nQ 30.765625 62.59375 27.9375 62.59375 \nQ 25.296875 62.59375 22.96875 61.859375 \nQ 20.65625 61.140625 18.84375 59.671875 \nQ 17.046875 58.203125 15.890625 56.03125 \nQ 14.75 53.859375 14.40625 50.984375 \nL 5.421875 51.8125 \nQ 5.859375 55.515625 7.46875 58.78125 \nQ 9.078125 62.0625 11.90625 64.53125 \nQ 14.75 67 18.71875 68.40625 \nQ 22.703125 69.828125 27.9375 69.828125 \nQ 33.0625 69.828125 37.0625 68.609375 \nQ 41.0625 67.390625 43.8125 64.984375 \nQ 46.578125 62.59375 48.046875 59.078125 \nQ 49.515625 55.5625 49.515625 50.984375 \nQ 49.515625 47.515625 48.265625 44.390625 \nQ 47.015625 41.265625 44.9375 38.421875 \nQ 42.875 35.59375 40.140625 32.953125 \nQ 37.40625 30.328125 34.421875 27.8125 \nQ 31.453125 25.296875 28.421875 22.828125 \nQ 25.390625 20.359375 22.71875 17.859375 \nQ 20.0625 15.375 17.96875 12.8125 \nQ 15.875 10.25 14.703125 7.46875 \nL 50.59375 7.46875 \nL 50.59375 0 \nz\n\" id=\"LiberationSans-50\"/>\n      </defs>\n      <g style=\"fill:#262626;\" transform=\"translate(115.085938 134.345312)scale(0.1 -0.1)\">\n       <use xlink:href=\"#LiberationSans-50\"/>\n       <use x=\"55.615234\" xlink:href=\"#LiberationSans-48\"/>\n      </g>\n     </g>\n    </g>\n    <g id=\"xtick_4\">\n     <g id=\"line2d_7\">\n      <path clip-path=\"url(#p70c2206330)\" d=\"M 167.146875 120.098437 \nL 167.146875 8.498437 \n\" style=\"fill:none;stroke:#ffffff;stroke-linecap:round;\"/>\n     </g>\n     <g id=\"line2d_8\"/>\n     <g id=\"text_4\">\n      <!-- 30 -->\n      <defs>\n       <path d=\"M 51.21875 19 \nQ 51.21875 14.265625 49.671875 10.546875 \nQ 48.140625 6.84375 45.1875 4.265625 \nQ 42.234375 1.703125 37.859375 0.359375 \nQ 33.5 -0.984375 27.875 -0.984375 \nQ 21.484375 -0.984375 17.109375 0.609375 \nQ 12.75 2.203125 9.90625 4.8125 \nQ 7.078125 7.421875 5.65625 10.765625 \nQ 4.25 14.109375 3.8125 17.671875 \nL 12.890625 18.5 \nQ 13.28125 15.765625 14.328125 13.515625 \nQ 15.375 11.28125 17.1875 9.671875 \nQ 19 8.0625 21.625 7.171875 \nQ 24.265625 6.296875 27.875 6.296875 \nQ 34.515625 6.296875 38.296875 9.5625 \nQ 42.09375 12.84375 42.09375 19.28125 \nQ 42.09375 23.09375 40.40625 25.40625 \nQ 38.71875 27.734375 36.203125 29.03125 \nQ 33.6875 30.328125 30.734375 30.765625 \nQ 27.78125 31.203125 25.296875 31.203125 \nL 20.3125 31.203125 \nL 20.3125 38.8125 \nL 25.09375 38.8125 \nQ 27.59375 38.8125 30.265625 39.328125 \nQ 32.953125 39.84375 35.171875 41.1875 \nQ 37.40625 42.53125 38.84375 44.828125 \nQ 40.28125 47.125 40.28125 50.6875 \nQ 40.28125 56.203125 37.03125 59.390625 \nQ 33.796875 62.59375 27.390625 62.59375 \nQ 21.578125 62.59375 17.984375 59.609375 \nQ 14.40625 56.640625 13.8125 51.21875 \nL 4.984375 51.90625 \nQ 5.515625 56.453125 7.46875 59.8125 \nQ 9.421875 63.1875 12.421875 65.40625 \nQ 15.4375 67.625 19.28125 68.71875 \nQ 23.140625 69.828125 27.484375 69.828125 \nQ 33.25 69.828125 37.390625 68.375 \nQ 41.546875 66.9375 44.1875 64.46875 \nQ 46.828125 62.015625 48.0625 58.6875 \nQ 49.3125 55.375 49.3125 51.609375 \nQ 49.3125 48.578125 48.484375 45.9375 \nQ 47.65625 43.3125 45.890625 41.203125 \nQ 44.140625 39.109375 41.421875 37.59375 \nQ 38.71875 36.078125 34.90625 35.296875 \nL 34.90625 35.109375 \nQ 39.0625 34.671875 42.140625 33.21875 \nQ 45.21875 31.78125 47.21875 29.625 \nQ 49.21875 27.484375 50.21875 24.75 \nQ 51.21875 22.015625 51.21875 19 \nz\n\" id=\"LiberationSans-51\"/>\n      </defs>\n      <g style=\"fill:#262626;\" transform=\"translate(161.585938 134.345312)scale(0.1 -0.1)\">\n       <use xlink:href=\"#LiberationSans-51\"/>\n       <use x=\"55.615234\" xlink:href=\"#LiberationSans-48\"/>\n      </g>\n     </g>\n    </g>\n    <g id=\"xtick_5\">\n     <g id=\"line2d_9\">\n      <path clip-path=\"url(#p70c2206330)\" d=\"M 213.646875 120.098437 \nL 213.646875 8.498437 \n\" style=\"fill:none;stroke:#ffffff;stroke-linecap:round;\"/>\n     </g>\n     <g id=\"line2d_10\"/>\n     <g id=\"text_5\">\n      <!-- 40 -->\n      <defs>\n       <path d=\"M 43.015625 15.578125 \nL 43.015625 0 \nL 34.71875 0 \nL 34.71875 15.578125 \nL 2.296875 15.578125 \nL 2.296875 22.40625 \nL 33.796875 68.796875 \nL 43.015625 68.796875 \nL 43.015625 22.515625 \nL 52.6875 22.515625 \nL 52.6875 15.578125 \nz\nM 34.71875 58.890625 \nQ 34.625 58.640625 34.234375 57.9375 \nQ 33.84375 57.234375 33.34375 56.34375 \nQ 32.859375 55.46875 32.34375 54.5625 \nQ 31.84375 53.65625 31.453125 53.078125 \nL 13.8125 27.09375 \nQ 13.578125 26.703125 13.109375 26.0625 \nQ 12.640625 25.4375 12.15625 24.78125 \nQ 11.671875 24.125 11.171875 23.484375 \nQ 10.6875 22.859375 10.40625 22.515625 \nL 34.71875 22.515625 \nz\n\" id=\"LiberationSans-52\"/>\n      </defs>\n      <g style=\"fill:#262626;\" transform=\"translate(208.085938 134.345312)scale(0.1 -0.1)\">\n       <use xlink:href=\"#LiberationSans-52\"/>\n       <use x=\"55.615234\" xlink:href=\"#LiberationSans-48\"/>\n      </g>\n     </g>\n    </g>\n    <g id=\"xtick_6\">\n     <g id=\"line2d_11\">\n      <path clip-path=\"url(#p70c2206330)\" d=\"M 260.146875 120.098437 \nL 260.146875 8.498437 \n\" style=\"fill:none;stroke:#ffffff;stroke-linecap:round;\"/>\n     </g>\n     <g id=\"line2d_12\"/>\n     <g id=\"text_6\">\n      <!-- 50 -->\n      <defs>\n       <path d=\"M 51.421875 22.40625 \nQ 51.421875 17.234375 49.859375 12.9375 \nQ 48.296875 8.640625 45.21875 5.53125 \nQ 42.140625 2.4375 37.578125 0.71875 \nQ 33.015625 -0.984375 27 -0.984375 \nQ 21.578125 -0.984375 17.546875 0.28125 \nQ 13.53125 1.5625 10.734375 3.78125 \nQ 7.953125 6 6.3125 8.984375 \nQ 4.6875 11.96875 4 15.375 \nL 12.890625 16.40625 \nQ 13.421875 14.453125 14.390625 12.625 \nQ 15.375 10.796875 17.0625 9.34375 \nQ 18.75 7.90625 21.21875 7.046875 \nQ 23.6875 6.203125 27.203125 6.203125 \nQ 30.609375 6.203125 33.390625 7.25 \nQ 36.1875 8.296875 38.15625 10.34375 \nQ 40.140625 12.40625 41.203125 15.375 \nQ 42.28125 18.359375 42.28125 22.21875 \nQ 42.28125 25.390625 41.25 28.046875 \nQ 40.234375 30.71875 38.328125 32.640625 \nQ 36.421875 34.578125 33.65625 35.640625 \nQ 30.90625 36.71875 27.390625 36.71875 \nQ 25.203125 36.71875 23.34375 36.328125 \nQ 21.484375 35.9375 19.890625 35.25 \nQ 18.3125 34.578125 17.015625 33.671875 \nQ 15.71875 32.765625 14.59375 31.78125 \nL 6 31.78125 \nL 8.296875 68.796875 \nL 47.40625 68.796875 \nL 47.40625 61.328125 \nL 16.3125 61.328125 \nL 14.984375 39.5 \nQ 17.328125 41.3125 20.84375 42.59375 \nQ 24.359375 43.890625 29.203125 43.890625 \nQ 34.328125 43.890625 38.421875 42.328125 \nQ 42.53125 40.765625 45.40625 37.90625 \nQ 48.296875 35.0625 49.859375 31.109375 \nQ 51.421875 27.15625 51.421875 22.40625 \nz\n\" id=\"LiberationSans-53\"/>\n      </defs>\n      <g style=\"fill:#262626;\" transform=\"translate(254.585938 134.345312)scale(0.1 -0.1)\">\n       <use xlink:href=\"#LiberationSans-53\"/>\n       <use x=\"55.615234\" xlink:href=\"#LiberationSans-48\"/>\n      </g>\n     </g>\n    </g>\n    <g id=\"xtick_7\">\n     <g id=\"line2d_13\">\n      <path clip-path=\"url(#p70c2206330)\" d=\"M 306.646875 120.098437 \nL 306.646875 8.498437 \n\" style=\"fill:none;stroke:#ffffff;stroke-linecap:round;\"/>\n     </g>\n     <g id=\"line2d_14\"/>\n     <g id=\"text_7\">\n      <!-- 60 -->\n      <defs>\n       <path d=\"M 51.21875 22.515625 \nQ 51.21875 17.328125 49.78125 13 \nQ 48.34375 8.6875 45.53125 5.578125 \nQ 42.71875 2.484375 38.5625 0.75 \nQ 34.421875 -0.984375 29 -0.984375 \nQ 23 -0.984375 18.5 1.3125 \nQ 14.015625 3.609375 11.03125 7.921875 \nQ 8.0625 12.25 6.5625 18.53125 \nQ 5.078125 24.8125 5.078125 32.8125 \nQ 5.078125 42 6.765625 48.921875 \nQ 8.453125 55.859375 11.625 60.5 \nQ 14.796875 65.140625 19.359375 67.484375 \nQ 23.921875 69.828125 29.6875 69.828125 \nQ 33.203125 69.828125 36.28125 69.09375 \nQ 39.359375 68.359375 41.875 66.71875 \nQ 44.390625 65.09375 46.28125 62.40625 \nQ 48.1875 59.71875 49.3125 55.8125 \nL 40.921875 54.296875 \nQ 39.546875 58.734375 36.546875 60.71875 \nQ 33.546875 62.703125 29.59375 62.703125 \nQ 25.984375 62.703125 23.046875 60.984375 \nQ 20.125 59.28125 18.0625 55.875 \nQ 16.015625 52.484375 14.90625 47.359375 \nQ 13.8125 42.234375 13.8125 35.40625 \nQ 16.21875 39.84375 20.5625 42.15625 \nQ 24.90625 44.484375 30.515625 44.484375 \nQ 35.203125 44.484375 39.015625 42.96875 \nQ 42.828125 41.453125 45.53125 38.59375 \nQ 48.25 35.75 49.734375 31.671875 \nQ 51.21875 27.59375 51.21875 22.515625 \nz\nM 42.28125 22.125 \nQ 42.28125 25.6875 41.40625 28.5625 \nQ 40.53125 31.453125 38.765625 33.46875 \nQ 37.015625 35.5 34.421875 36.59375 \nQ 31.84375 37.703125 28.421875 37.703125 \nQ 26.03125 37.703125 23.578125 36.984375 \nQ 21.140625 36.28125 19.15625 34.6875 \nQ 17.1875 33.109375 15.9375 30.515625 \nQ 14.703125 27.9375 14.703125 24.21875 \nQ 14.703125 20.40625 15.671875 17.109375 \nQ 16.65625 13.8125 18.484375 11.375 \nQ 20.3125 8.9375 22.890625 7.515625 \nQ 25.484375 6.109375 28.71875 6.109375 \nQ 31.890625 6.109375 34.40625 7.203125 \nQ 36.921875 8.296875 38.671875 10.375 \nQ 40.4375 12.453125 41.359375 15.421875 \nQ 42.28125 18.40625 42.28125 22.125 \nz\n\" id=\"LiberationSans-54\"/>\n      </defs>\n      <g style=\"fill:#262626;\" transform=\"translate(301.085938 134.345312)scale(0.1 -0.1)\">\n       <use xlink:href=\"#LiberationSans-54\"/>\n       <use x=\"55.615234\" xlink:href=\"#LiberationSans-48\"/>\n      </g>\n     </g>\n    </g>\n    <g id=\"xtick_8\">\n     <g id=\"line2d_15\">\n      <path clip-path=\"url(#p70c2206330)\" d=\"M 353.146875 120.098437 \nL 353.146875 8.498437 \n\" style=\"fill:none;stroke:#ffffff;stroke-linecap:round;\"/>\n     </g>\n     <g id=\"line2d_16\"/>\n     <g id=\"text_8\">\n      <!-- 70 -->\n      <defs>\n       <path d=\"M 50.59375 61.671875 \nQ 45.40625 53.765625 41.0625 46.453125 \nQ 36.71875 39.15625 33.59375 31.75 \nQ 30.46875 24.359375 28.734375 16.578125 \nQ 27 8.796875 27 0 \nL 17.828125 0 \nQ 17.828125 8.25 19.78125 16.1875 \nQ 21.734375 24.125 25.046875 31.765625 \nQ 28.375 39.40625 32.765625 46.78125 \nQ 37.15625 54.15625 42.09375 61.328125 \nL 5.125 61.328125 \nL 5.125 68.796875 \nL 50.59375 68.796875 \nz\n\" id=\"LiberationSans-55\"/>\n      </defs>\n      <g style=\"fill:#262626;\" transform=\"translate(347.585938 134.345312)scale(0.1 -0.1)\">\n       <use xlink:href=\"#LiberationSans-55\"/>\n       <use x=\"55.615234\" xlink:href=\"#LiberationSans-48\"/>\n      </g>\n     </g>\n    </g>\n   </g>\n   <g id=\"matplotlib.axis_2\">\n    <g id=\"ytick_1\">\n     <g id=\"line2d_17\">\n      <path clip-path=\"url(#p70c2206330)\" d=\"M 25.321875 10.823437 \nL 360.121875 10.823437 \n\" style=\"fill:none;stroke:#ffffff;stroke-linecap:round;\"/>\n     </g>\n     <g id=\"line2d_18\"/>\n     <g id=\"text_9\">\n      <!-- 0 -->\n      <g style=\"fill:#262626;\" transform=\"translate(12.760938 14.446875)scale(0.1 -0.1)\">\n       <use xlink:href=\"#LiberationSans-48\"/>\n      </g>\n     </g>\n    </g>\n    <g id=\"ytick_2\">\n     <g id=\"line2d_19\">\n      <path clip-path=\"url(#p70c2206330)\" d=\"M 25.321875 34.073437 \nL 360.121875 34.073437 \n\" style=\"fill:none;stroke:#ffffff;stroke-linecap:round;\"/>\n     </g>\n     <g id=\"line2d_20\"/>\n     <g id=\"text_10\">\n      <!-- 5 -->\n      <g style=\"fill:#262626;\" transform=\"translate(12.760938 37.696875)scale(0.1 -0.1)\">\n       <use xlink:href=\"#LiberationSans-53\"/>\n      </g>\n     </g>\n    </g>\n    <g id=\"ytick_3\">\n     <g id=\"line2d_21\">\n      <path clip-path=\"url(#p70c2206330)\" d=\"M 25.321875 57.323437 \nL 360.121875 57.323437 \n\" style=\"fill:none;stroke:#ffffff;stroke-linecap:round;\"/>\n     </g>\n     <g id=\"line2d_22\"/>\n     <g id=\"text_11\">\n      <!-- 10 -->\n      <g style=\"fill:#262626;\" transform=\"translate(7.2 60.946875)scale(0.1 -0.1)\">\n       <use xlink:href=\"#LiberationSans-49\"/>\n       <use x=\"55.615234\" xlink:href=\"#LiberationSans-48\"/>\n      </g>\n     </g>\n    </g>\n    <g id=\"ytick_4\">\n     <g id=\"line2d_23\">\n      <path clip-path=\"url(#p70c2206330)\" d=\"M 25.321875 80.573437 \nL 360.121875 80.573437 \n\" style=\"fill:none;stroke:#ffffff;stroke-linecap:round;\"/>\n     </g>\n     <g id=\"line2d_24\"/>\n     <g id=\"text_12\">\n      <!-- 15 -->\n      <g style=\"fill:#262626;\" transform=\"translate(7.2 84.196875)scale(0.1 -0.1)\">\n       <use xlink:href=\"#LiberationSans-49\"/>\n       <use x=\"55.615234\" xlink:href=\"#LiberationSans-53\"/>\n      </g>\n     </g>\n    </g>\n    <g id=\"ytick_5\">\n     <g id=\"line2d_25\">\n      <path clip-path=\"url(#p70c2206330)\" d=\"M 25.321875 103.823437 \nL 360.121875 103.823437 \n\" style=\"fill:none;stroke:#ffffff;stroke-linecap:round;\"/>\n     </g>\n     <g id=\"line2d_26\"/>\n     <g id=\"text_13\">\n      <!-- 20 -->\n      <g style=\"fill:#262626;\" transform=\"translate(7.2 107.446875)scale(0.1 -0.1)\">\n       <use xlink:href=\"#LiberationSans-50\"/>\n       <use x=\"55.615234\" xlink:href=\"#LiberationSans-48\"/>\n      </g>\n     </g>\n    </g>\n   </g>\n   <g id=\"patch_3\">\n    <path d=\"M 25.321875 120.098437 \nL 25.321875 8.498437 \n\" style=\"fill:none;\"/>\n   </g>\n   <g id=\"patch_4\">\n    <path d=\"M 360.121875 120.098437 \nL 360.121875 8.498437 \n\" style=\"fill:none;\"/>\n   </g>\n   <g id=\"patch_5\">\n    <path d=\"M 25.321875 120.098437 \nL 360.121875 120.098437 \n\" style=\"fill:none;\"/>\n   </g>\n   <g id=\"patch_6\">\n    <path d=\"M 25.321875 8.498437 \nL 360.121875 8.498437 \n\" style=\"fill:none;\"/>\n   </g>\n  </g>\n </g>\n <defs>\n  <clipPath id=\"p70c2206330\">\n   <rect height=\"111.6\" width=\"334.8\" x=\"25.321875\" y=\"8.498437\"/>\n  </clipPath>\n </defs>\n</svg>\n"
          },
          "metadata": {
            "tags": []
          }
        },
        {
          "output_type": "stream",
          "text": [
            "2) the_labels(captcha) GDNS is encoded as [14, 11, 20, 24]\n",
            "3) input_length (width of image that is fed to the network after CNN): 16 == (72/4 - 2)\n",
            "4) label_length (length of captcha): 4\n",
            " \n"
          ],
          "name": "stdout"
        }
      ]
    },
    {
      "metadata": {
        "id": "DKLXObMcgDVL",
        "colab_type": "code",
        "outputId": "0a846fa3-425d-4827-d4ef-d0e870afe54a",
        "colab": {
          "base_uri": "https://localhost:8080/",
          "height": 909
        }
      },
      "cell_type": "code",
      "source": [
        "visualize_data_gen_output(valid_data_generator)"
      ],
      "execution_count": 0,
      "outputs": [
        {
          "output_type": "stream",
          "text": [
            "Text generator output (data which will be fed into the neutral network):\n",
            "1)the_input (image)\n"
          ],
          "name": "stdout"
        },
        {
          "output_type": "display_data",
          "data": {
            "text/plain": [
              "<Figure size 432x288 with 1 Axes>"
            ],
            "image/svg+xml": "<?xml version=\"1.0\" encoding=\"utf-8\" standalone=\"no\"?>\n<!DOCTYPE svg PUBLIC \"-//W3C//DTD SVG 1.1//EN\"\n  \"http://www.w3.org/Graphics/SVG/1.1/DTD/svg11.dtd\">\n<!-- Created with matplotlib (https://matplotlib.org/) -->\n<svg height=\"143.620312pt\" version=\"1.1\" viewBox=\"0 0 367.321875 143.620312\" width=\"367.321875pt\" xmlns=\"http://www.w3.org/2000/svg\" xmlns:xlink=\"http://www.w3.org/1999/xlink\">\n <defs>\n  <style type=\"text/css\">\n*{stroke-linecap:butt;stroke-linejoin:round;}\n  </style>\n </defs>\n <g id=\"figure_1\">\n  <g id=\"patch_1\">\n   <path d=\"M 0 143.620312 \nL 367.321875 143.620312 \nL 367.321875 0 \nL 0 0 \nz\n\" style=\"fill:none;\"/>\n  </g>\n  <g id=\"axes_1\">\n   <g id=\"patch_2\">\n    <path d=\"M 25.321875 120.098437 \nL 360.121875 120.098437 \nL 360.121875 8.498437 \nL 25.321875 8.498437 \nz\n\" style=\"fill:#eaeaf2;\"/>\n   </g>\n   <g clip-path=\"url(#p26dc8b6302)\">\n    <image height=\"112\" id=\"imagea098e9c493\" transform=\"scale(1 -1)translate(0 -112)\" width=\"335\" x=\"25.321875\" xlink:href=\"data:image/png;base64,\niVBORw0KGgoAAAANSUhEUgAAAU8AAABwCAYAAACelvI+AAAABHNCSVQICAgIfAhkiAAACM1JREFUeJzt3V1ozv8bwPHv77f/xmSGpkxCeRjGPIRJZHJA85DFAZKQGJmktXagbQeWhaLUNMrDkhKRhzPLgYfk8YAxETOpeTiYGXti9j/4H30+1/Xvvl3u3bs379fZdXW57w+2q2/f6/v9fP7p7OzsDAAAv+Xf7l4AAPRENE8AMKB5AoABzRMADGieAGBA8wQAA5onABjQPAHAgOYJAAY0TwAwoHkCgAHNEwAMaJ4AYEDzBAADmicAGNA8AcCA5gkABjRPADCgeQKAAc0TAAxongBgQPMEAAOaJwAY0DwBwIDmCQAGNE8AMKB5AoDBf7p7AfifHz9+OHFra6uoaW5uFrl+/fo5cVJSUsTW1NDQIHLfv3934uHDh0fs+6C7fPmyE+/YsUPUzJw5U+QyMzOdeMWKFaImLS3tD1f39+LKEwAMaJ4AYEDzBAADmicAGDAwihEFBQVOfOLECVGjDWcqKiqceO7cuabvb2pqErnp06eL3IYNG5y4uLjY9H1WdXV1Ird582Ynrq6uFjXTpk0TudLS0pA1sWDp0qVO/O7dO1Gzc+dOkauvr3ficePGiRptYNTY2OjEu3btEjWzZs0KmcvIyBA18fHxItdTceUJAAY0TwAwoHkCgEGPuedZW1srcn379nXi1NTUaC0n4g4dOhSypn///iJnvcfpKy8vF7m3b9+KnHY/sat0dHSI3OLFi0UuISHBiW/cuCFqPnz4IHLZ2dlOfOXKFVGjPXwebXFxcU6cl5cnaqqqqkQuKyvLiXNyckzf5//7BkEQbN++PeTnjBo1SuS03+OeiitPADCgeQKAAc0TAAxongBgEBMDo/Pnzzvx7t27Rc379+9Dfs748eNFrqioyInXrFnzm6vrHpMmTRK5a9euRezz29ranPjw4cOiRhtQRXNgpA1BXrx4IXJnz5514gkTJogaLbd+/Xonzs3NFTWPHj0Kuc5YoD3Ivm7dOifWhjx9+vQROf//vb29Paw1+Ls97dmzJ6w/11Nx5QkABjRPADCgeQKAAc0TAAyiPjC6evWqyK1evdqJtd1fbt26JXL+2x/aUMkfPl2/fl3UaDsYdbeJEyeKXFlZWcQ+//jx406svYGjvXXk797jD56CQB9CWLx8+TKsujFjxpg+f86cOU68f/9+UVNTUyNy2vCpuy1YsEDkUlJSnFj7Od+2bZvI7du3z4lPnTolarQ3vY4cORJqmb0KV54AYEDzBAADmicAGET9nqf2MO+AAQOcWLsvGc4Rt6NHjxa5tWvXOrF/fzUI9IfytYfUo0n7fm2Xo5aWFidOTEwUNf6xxkEQBAcOHHBi7T7zli1bRG7v3r1OrD20PmXKFJGz8HfN+n9+/fpl+vyfP3+GrNF2bY/Fe54a/3etpKRE1AwcOFDk/IfbtXvK/osJfyOuPAHAgOYJAAY0TwAwoHkCgEGXDoyePn0qcm/evBG5/Px8Jw5nOBSuL1++hKxJTk6O2PdFSlJSksgNGzZM5PyBjXZ87pkzZ0TOH4RoD1D7xzEEgRxkaf/HkRoYhXusij/gOHbsmKjRfqYqKyud+N9/5bWEtlNXT+EPSwsLC0WNv/NSEMhdlbTjSQYNGvSHq+v5uPIEAAOaJwAY0DwBwIDmCQAGXTow0t6I0UTq7HHtTRptQOXT3rKIRenp6SL37NkzJ9YGRtpuQSNGjHBibXAQzhr874+k+fPni5x2hvjXr1+deNOmTaLm4cOHIue/mXTw4EFRM3LkyJDrjFX+AGzo0KGi5tOnTyLn76LUU96oijauPAHAgOYJAAY0TwAw6NJ7ns3NzWHVaQ9/h+PSpUtOrO14/fjx45Cfoz1Eru2w3d3CuefpH+McBPrOR/6u3/Hx8WGtYfLkyU588eLFsP6chfaiwJIlS0TO34Wrvr5e1Gh/v0jteB+r/KOAnzx5Imqsu/CDK08AMKF5AoABzRMADGieAGDwT2dnZ2dXffi9e/dEbvbs2SJ38+ZNJ543b15XLSn4/PmzyGkP0mdmZnbZGqxOnz4tchcuXHBi7fhl7Vhh/wWGcIcnDx48cOJVq1aJmrq6urA+y+LVq1ci5+/0pB2r4h+n29v4R0kHgTxGZePGjaJm69atIuf/+925c+cPV9c7ceUJAAY0TwAwoHkCgAHNEwAMuvQNo4yMDJHzt/gPAjlg6MqB0ZAhQ8LKxSLtLHd/KNDe3i5qtN2CrG/X+GvQBlRNTU0ip70tZDF27FiRKy8vd+Lc3FxRk5WVJXKLFi2KyJqiTRvE+m8TBUEQTJ061YmPHj0qarSfg9bW1pDfF4sD1WjjyhMADGieAGBA8wQAgy59SF6j7fLt73hTUVERreX0KA0NDSI3ePBgJ05JSRE1tbW1Iqfdew6Hv1u/dqSvfw8yCIJg5cqVpu+zOHnypMhpD877RxZr9w2jvfNSR0eHyPkP+Ps7YgWBviO8v5tWWlpaWGvwH7ivqqoSNefOnQvrs3ozrjwBwIDmCQAGNE8AMKB5AoBB1AdGHz9+FLkZM2Y48d27d0WNNpjozb59+yZyy5cvF7nXr187cX5+vqjJy8uL2Lr8wYt25EViYqLI5eTkOPGyZcsitqZwaA/zl5aWOvH9+/dFjXZs88KFCyO3sDDU1NQ4sbZO7UF2nzbIa2lpEbnbt287cXZ2tqh5/vy5yGkvMPRmXHkCgAHNEwAMaJ4AYEDzBACDqA+MNP6AqKioSNRUVlaKXGpqqhM3NjaKmrKyMicuLCwUNcnJyWGtE3+ftrY2ketN571rvzP+75o2wNUGhf7vVk/dtSpcXHkCgAHNEwAMaJ4AYBAT9zx92vGyBQUFIlddXe3E2oPQ/q7YJSUloqa4uPg3VwjA5+8IFRcX100riQ6uPAHAgOYJAAY0TwAwoHkCgEFMDozC5R9L4Q+QgiAIEhISnDg9PV3UWI+kAPD34soTAAxongBgQPMEAAOaJwAY9OiBEQB0F648AcCA5gkABjRPADCgeQKAAc0TAAxongBgQPMEAAOaJwAY/BeRgD74B3yB0AAAAABJRU5ErkJggg==\" y=\"-8.098437\"/>\n   </g>\n   <g id=\"matplotlib.axis_1\">\n    <g id=\"xtick_1\">\n     <g id=\"line2d_1\">\n      <path clip-path=\"url(#p26dc8b6302)\" d=\"M 27.646875 120.098437 \nL 27.646875 8.498437 \n\" style=\"fill:none;stroke:#ffffff;stroke-linecap:round;\"/>\n     </g>\n     <g id=\"line2d_2\"/>\n     <g id=\"text_1\">\n      <!-- 0 -->\n      <defs>\n       <path d=\"M 51.703125 34.421875 \nQ 51.703125 24.515625 49.828125 17.75 \nQ 47.953125 10.984375 44.703125 6.8125 \nQ 41.453125 2.640625 37.0625 0.828125 \nQ 32.671875 -0.984375 27.6875 -0.984375 \nQ 22.65625 -0.984375 18.3125 0.828125 \nQ 13.96875 2.640625 10.765625 6.78125 \nQ 7.5625 10.9375 5.734375 17.703125 \nQ 3.90625 24.46875 3.90625 34.421875 \nQ 3.90625 44.828125 5.734375 51.640625 \nQ 7.5625 58.453125 10.78125 62.5 \nQ 14.015625 66.546875 18.40625 68.1875 \nQ 22.796875 69.828125 27.984375 69.828125 \nQ 32.90625 69.828125 37.21875 68.1875 \nQ 41.546875 66.546875 44.765625 62.5 \nQ 48 58.453125 49.84375 51.640625 \nQ 51.703125 44.828125 51.703125 34.421875 \nz\nM 42.78125 34.421875 \nQ 42.78125 42.625 41.796875 48.0625 \nQ 40.828125 53.515625 38.921875 56.765625 \nQ 37.015625 60.015625 34.25 61.359375 \nQ 31.5 62.703125 27.984375 62.703125 \nQ 24.265625 62.703125 21.4375 61.328125 \nQ 18.609375 59.96875 16.671875 56.71875 \nQ 14.75 53.46875 13.765625 48.015625 \nQ 12.796875 42.578125 12.796875 34.421875 \nQ 12.796875 26.515625 13.796875 21.09375 \nQ 14.796875 15.671875 16.71875 12.375 \nQ 18.65625 9.078125 21.4375 7.640625 \nQ 24.21875 6.203125 27.78125 6.203125 \nQ 31.25 6.203125 34.03125 7.640625 \nQ 36.8125 9.078125 38.734375 12.375 \nQ 40.671875 15.671875 41.71875 21.09375 \nQ 42.78125 26.515625 42.78125 34.421875 \nz\n\" id=\"LiberationSans-48\"/>\n      </defs>\n      <g style=\"fill:#262626;\" transform=\"translate(24.866406 134.345312)scale(0.1 -0.1)\">\n       <use xlink:href=\"#LiberationSans-48\"/>\n      </g>\n     </g>\n    </g>\n    <g id=\"xtick_2\">\n     <g id=\"line2d_3\">\n      <path clip-path=\"url(#p26dc8b6302)\" d=\"M 74.146875 120.098437 \nL 74.146875 8.498437 \n\" style=\"fill:none;stroke:#ffffff;stroke-linecap:round;\"/>\n     </g>\n     <g id=\"line2d_4\"/>\n     <g id=\"text_2\">\n      <!-- 10 -->\n      <defs>\n       <path d=\"M 7.625 0 \nL 7.625 7.46875 \nL 25.140625 7.46875 \nL 25.140625 60.40625 \nL 9.625 49.3125 \nL 9.625 57.625 \nL 25.875 68.796875 \nL 33.984375 68.796875 \nL 33.984375 7.46875 \nL 50.734375 7.46875 \nL 50.734375 0 \nz\n\" id=\"LiberationSans-49\"/>\n      </defs>\n      <g style=\"fill:#262626;\" transform=\"translate(68.585938 134.345312)scale(0.1 -0.1)\">\n       <use xlink:href=\"#LiberationSans-49\"/>\n       <use x=\"55.615234\" xlink:href=\"#LiberationSans-48\"/>\n      </g>\n     </g>\n    </g>\n    <g id=\"xtick_3\">\n     <g id=\"line2d_5\">\n      <path clip-path=\"url(#p26dc8b6302)\" d=\"M 120.646875 120.098437 \nL 120.646875 8.498437 \n\" style=\"fill:none;stroke:#ffffff;stroke-linecap:round;\"/>\n     </g>\n     <g id=\"line2d_6\"/>\n     <g id=\"text_3\">\n      <!-- 20 -->\n      <defs>\n       <path d=\"M 5.03125 0 \nL 5.03125 6.203125 \nQ 7.515625 11.921875 11.109375 16.28125 \nQ 14.703125 20.65625 18.65625 24.1875 \nQ 22.609375 27.734375 26.484375 30.765625 \nQ 30.375 33.796875 33.5 36.8125 \nQ 36.625 39.84375 38.546875 43.15625 \nQ 40.484375 46.484375 40.484375 50.6875 \nQ 40.484375 53.609375 39.59375 55.828125 \nQ 38.71875 58.0625 37.0625 59.5625 \nQ 35.40625 61.078125 33.078125 61.828125 \nQ 30.765625 62.59375 27.9375 62.59375 \nQ 25.296875 62.59375 22.96875 61.859375 \nQ 20.65625 61.140625 18.84375 59.671875 \nQ 17.046875 58.203125 15.890625 56.03125 \nQ 14.75 53.859375 14.40625 50.984375 \nL 5.421875 51.8125 \nQ 5.859375 55.515625 7.46875 58.78125 \nQ 9.078125 62.0625 11.90625 64.53125 \nQ 14.75 67 18.71875 68.40625 \nQ 22.703125 69.828125 27.9375 69.828125 \nQ 33.0625 69.828125 37.0625 68.609375 \nQ 41.0625 67.390625 43.8125 64.984375 \nQ 46.578125 62.59375 48.046875 59.078125 \nQ 49.515625 55.5625 49.515625 50.984375 \nQ 49.515625 47.515625 48.265625 44.390625 \nQ 47.015625 41.265625 44.9375 38.421875 \nQ 42.875 35.59375 40.140625 32.953125 \nQ 37.40625 30.328125 34.421875 27.8125 \nQ 31.453125 25.296875 28.421875 22.828125 \nQ 25.390625 20.359375 22.71875 17.859375 \nQ 20.0625 15.375 17.96875 12.8125 \nQ 15.875 10.25 14.703125 7.46875 \nL 50.59375 7.46875 \nL 50.59375 0 \nz\n\" id=\"LiberationSans-50\"/>\n      </defs>\n      <g style=\"fill:#262626;\" transform=\"translate(115.085938 134.345312)scale(0.1 -0.1)\">\n       <use xlink:href=\"#LiberationSans-50\"/>\n       <use x=\"55.615234\" xlink:href=\"#LiberationSans-48\"/>\n      </g>\n     </g>\n    </g>\n    <g id=\"xtick_4\">\n     <g id=\"line2d_7\">\n      <path clip-path=\"url(#p26dc8b6302)\" d=\"M 167.146875 120.098437 \nL 167.146875 8.498437 \n\" style=\"fill:none;stroke:#ffffff;stroke-linecap:round;\"/>\n     </g>\n     <g id=\"line2d_8\"/>\n     <g id=\"text_4\">\n      <!-- 30 -->\n      <defs>\n       <path d=\"M 51.21875 19 \nQ 51.21875 14.265625 49.671875 10.546875 \nQ 48.140625 6.84375 45.1875 4.265625 \nQ 42.234375 1.703125 37.859375 0.359375 \nQ 33.5 -0.984375 27.875 -0.984375 \nQ 21.484375 -0.984375 17.109375 0.609375 \nQ 12.75 2.203125 9.90625 4.8125 \nQ 7.078125 7.421875 5.65625 10.765625 \nQ 4.25 14.109375 3.8125 17.671875 \nL 12.890625 18.5 \nQ 13.28125 15.765625 14.328125 13.515625 \nQ 15.375 11.28125 17.1875 9.671875 \nQ 19 8.0625 21.625 7.171875 \nQ 24.265625 6.296875 27.875 6.296875 \nQ 34.515625 6.296875 38.296875 9.5625 \nQ 42.09375 12.84375 42.09375 19.28125 \nQ 42.09375 23.09375 40.40625 25.40625 \nQ 38.71875 27.734375 36.203125 29.03125 \nQ 33.6875 30.328125 30.734375 30.765625 \nQ 27.78125 31.203125 25.296875 31.203125 \nL 20.3125 31.203125 \nL 20.3125 38.8125 \nL 25.09375 38.8125 \nQ 27.59375 38.8125 30.265625 39.328125 \nQ 32.953125 39.84375 35.171875 41.1875 \nQ 37.40625 42.53125 38.84375 44.828125 \nQ 40.28125 47.125 40.28125 50.6875 \nQ 40.28125 56.203125 37.03125 59.390625 \nQ 33.796875 62.59375 27.390625 62.59375 \nQ 21.578125 62.59375 17.984375 59.609375 \nQ 14.40625 56.640625 13.8125 51.21875 \nL 4.984375 51.90625 \nQ 5.515625 56.453125 7.46875 59.8125 \nQ 9.421875 63.1875 12.421875 65.40625 \nQ 15.4375 67.625 19.28125 68.71875 \nQ 23.140625 69.828125 27.484375 69.828125 \nQ 33.25 69.828125 37.390625 68.375 \nQ 41.546875 66.9375 44.1875 64.46875 \nQ 46.828125 62.015625 48.0625 58.6875 \nQ 49.3125 55.375 49.3125 51.609375 \nQ 49.3125 48.578125 48.484375 45.9375 \nQ 47.65625 43.3125 45.890625 41.203125 \nQ 44.140625 39.109375 41.421875 37.59375 \nQ 38.71875 36.078125 34.90625 35.296875 \nL 34.90625 35.109375 \nQ 39.0625 34.671875 42.140625 33.21875 \nQ 45.21875 31.78125 47.21875 29.625 \nQ 49.21875 27.484375 50.21875 24.75 \nQ 51.21875 22.015625 51.21875 19 \nz\n\" id=\"LiberationSans-51\"/>\n      </defs>\n      <g style=\"fill:#262626;\" transform=\"translate(161.585938 134.345312)scale(0.1 -0.1)\">\n       <use xlink:href=\"#LiberationSans-51\"/>\n       <use x=\"55.615234\" xlink:href=\"#LiberationSans-48\"/>\n      </g>\n     </g>\n    </g>\n    <g id=\"xtick_5\">\n     <g id=\"line2d_9\">\n      <path clip-path=\"url(#p26dc8b6302)\" d=\"M 213.646875 120.098437 \nL 213.646875 8.498437 \n\" style=\"fill:none;stroke:#ffffff;stroke-linecap:round;\"/>\n     </g>\n     <g id=\"line2d_10\"/>\n     <g id=\"text_5\">\n      <!-- 40 -->\n      <defs>\n       <path d=\"M 43.015625 15.578125 \nL 43.015625 0 \nL 34.71875 0 \nL 34.71875 15.578125 \nL 2.296875 15.578125 \nL 2.296875 22.40625 \nL 33.796875 68.796875 \nL 43.015625 68.796875 \nL 43.015625 22.515625 \nL 52.6875 22.515625 \nL 52.6875 15.578125 \nz\nM 34.71875 58.890625 \nQ 34.625 58.640625 34.234375 57.9375 \nQ 33.84375 57.234375 33.34375 56.34375 \nQ 32.859375 55.46875 32.34375 54.5625 \nQ 31.84375 53.65625 31.453125 53.078125 \nL 13.8125 27.09375 \nQ 13.578125 26.703125 13.109375 26.0625 \nQ 12.640625 25.4375 12.15625 24.78125 \nQ 11.671875 24.125 11.171875 23.484375 \nQ 10.6875 22.859375 10.40625 22.515625 \nL 34.71875 22.515625 \nz\n\" id=\"LiberationSans-52\"/>\n      </defs>\n      <g style=\"fill:#262626;\" transform=\"translate(208.085938 134.345312)scale(0.1 -0.1)\">\n       <use xlink:href=\"#LiberationSans-52\"/>\n       <use x=\"55.615234\" xlink:href=\"#LiberationSans-48\"/>\n      </g>\n     </g>\n    </g>\n    <g id=\"xtick_6\">\n     <g id=\"line2d_11\">\n      <path clip-path=\"url(#p26dc8b6302)\" d=\"M 260.146875 120.098437 \nL 260.146875 8.498437 \n\" style=\"fill:none;stroke:#ffffff;stroke-linecap:round;\"/>\n     </g>\n     <g id=\"line2d_12\"/>\n     <g id=\"text_6\">\n      <!-- 50 -->\n      <defs>\n       <path d=\"M 51.421875 22.40625 \nQ 51.421875 17.234375 49.859375 12.9375 \nQ 48.296875 8.640625 45.21875 5.53125 \nQ 42.140625 2.4375 37.578125 0.71875 \nQ 33.015625 -0.984375 27 -0.984375 \nQ 21.578125 -0.984375 17.546875 0.28125 \nQ 13.53125 1.5625 10.734375 3.78125 \nQ 7.953125 6 6.3125 8.984375 \nQ 4.6875 11.96875 4 15.375 \nL 12.890625 16.40625 \nQ 13.421875 14.453125 14.390625 12.625 \nQ 15.375 10.796875 17.0625 9.34375 \nQ 18.75 7.90625 21.21875 7.046875 \nQ 23.6875 6.203125 27.203125 6.203125 \nQ 30.609375 6.203125 33.390625 7.25 \nQ 36.1875 8.296875 38.15625 10.34375 \nQ 40.140625 12.40625 41.203125 15.375 \nQ 42.28125 18.359375 42.28125 22.21875 \nQ 42.28125 25.390625 41.25 28.046875 \nQ 40.234375 30.71875 38.328125 32.640625 \nQ 36.421875 34.578125 33.65625 35.640625 \nQ 30.90625 36.71875 27.390625 36.71875 \nQ 25.203125 36.71875 23.34375 36.328125 \nQ 21.484375 35.9375 19.890625 35.25 \nQ 18.3125 34.578125 17.015625 33.671875 \nQ 15.71875 32.765625 14.59375 31.78125 \nL 6 31.78125 \nL 8.296875 68.796875 \nL 47.40625 68.796875 \nL 47.40625 61.328125 \nL 16.3125 61.328125 \nL 14.984375 39.5 \nQ 17.328125 41.3125 20.84375 42.59375 \nQ 24.359375 43.890625 29.203125 43.890625 \nQ 34.328125 43.890625 38.421875 42.328125 \nQ 42.53125 40.765625 45.40625 37.90625 \nQ 48.296875 35.0625 49.859375 31.109375 \nQ 51.421875 27.15625 51.421875 22.40625 \nz\n\" id=\"LiberationSans-53\"/>\n      </defs>\n      <g style=\"fill:#262626;\" transform=\"translate(254.585938 134.345312)scale(0.1 -0.1)\">\n       <use xlink:href=\"#LiberationSans-53\"/>\n       <use x=\"55.615234\" xlink:href=\"#LiberationSans-48\"/>\n      </g>\n     </g>\n    </g>\n    <g id=\"xtick_7\">\n     <g id=\"line2d_13\">\n      <path clip-path=\"url(#p26dc8b6302)\" d=\"M 306.646875 120.098437 \nL 306.646875 8.498437 \n\" style=\"fill:none;stroke:#ffffff;stroke-linecap:round;\"/>\n     </g>\n     <g id=\"line2d_14\"/>\n     <g id=\"text_7\">\n      <!-- 60 -->\n      <defs>\n       <path d=\"M 51.21875 22.515625 \nQ 51.21875 17.328125 49.78125 13 \nQ 48.34375 8.6875 45.53125 5.578125 \nQ 42.71875 2.484375 38.5625 0.75 \nQ 34.421875 -0.984375 29 -0.984375 \nQ 23 -0.984375 18.5 1.3125 \nQ 14.015625 3.609375 11.03125 7.921875 \nQ 8.0625 12.25 6.5625 18.53125 \nQ 5.078125 24.8125 5.078125 32.8125 \nQ 5.078125 42 6.765625 48.921875 \nQ 8.453125 55.859375 11.625 60.5 \nQ 14.796875 65.140625 19.359375 67.484375 \nQ 23.921875 69.828125 29.6875 69.828125 \nQ 33.203125 69.828125 36.28125 69.09375 \nQ 39.359375 68.359375 41.875 66.71875 \nQ 44.390625 65.09375 46.28125 62.40625 \nQ 48.1875 59.71875 49.3125 55.8125 \nL 40.921875 54.296875 \nQ 39.546875 58.734375 36.546875 60.71875 \nQ 33.546875 62.703125 29.59375 62.703125 \nQ 25.984375 62.703125 23.046875 60.984375 \nQ 20.125 59.28125 18.0625 55.875 \nQ 16.015625 52.484375 14.90625 47.359375 \nQ 13.8125 42.234375 13.8125 35.40625 \nQ 16.21875 39.84375 20.5625 42.15625 \nQ 24.90625 44.484375 30.515625 44.484375 \nQ 35.203125 44.484375 39.015625 42.96875 \nQ 42.828125 41.453125 45.53125 38.59375 \nQ 48.25 35.75 49.734375 31.671875 \nQ 51.21875 27.59375 51.21875 22.515625 \nz\nM 42.28125 22.125 \nQ 42.28125 25.6875 41.40625 28.5625 \nQ 40.53125 31.453125 38.765625 33.46875 \nQ 37.015625 35.5 34.421875 36.59375 \nQ 31.84375 37.703125 28.421875 37.703125 \nQ 26.03125 37.703125 23.578125 36.984375 \nQ 21.140625 36.28125 19.15625 34.6875 \nQ 17.1875 33.109375 15.9375 30.515625 \nQ 14.703125 27.9375 14.703125 24.21875 \nQ 14.703125 20.40625 15.671875 17.109375 \nQ 16.65625 13.8125 18.484375 11.375 \nQ 20.3125 8.9375 22.890625 7.515625 \nQ 25.484375 6.109375 28.71875 6.109375 \nQ 31.890625 6.109375 34.40625 7.203125 \nQ 36.921875 8.296875 38.671875 10.375 \nQ 40.4375 12.453125 41.359375 15.421875 \nQ 42.28125 18.40625 42.28125 22.125 \nz\n\" id=\"LiberationSans-54\"/>\n      </defs>\n      <g style=\"fill:#262626;\" transform=\"translate(301.085938 134.345312)scale(0.1 -0.1)\">\n       <use xlink:href=\"#LiberationSans-54\"/>\n       <use x=\"55.615234\" xlink:href=\"#LiberationSans-48\"/>\n      </g>\n     </g>\n    </g>\n    <g id=\"xtick_8\">\n     <g id=\"line2d_15\">\n      <path clip-path=\"url(#p26dc8b6302)\" d=\"M 353.146875 120.098437 \nL 353.146875 8.498437 \n\" style=\"fill:none;stroke:#ffffff;stroke-linecap:round;\"/>\n     </g>\n     <g id=\"line2d_16\"/>\n     <g id=\"text_8\">\n      <!-- 70 -->\n      <defs>\n       <path d=\"M 50.59375 61.671875 \nQ 45.40625 53.765625 41.0625 46.453125 \nQ 36.71875 39.15625 33.59375 31.75 \nQ 30.46875 24.359375 28.734375 16.578125 \nQ 27 8.796875 27 0 \nL 17.828125 0 \nQ 17.828125 8.25 19.78125 16.1875 \nQ 21.734375 24.125 25.046875 31.765625 \nQ 28.375 39.40625 32.765625 46.78125 \nQ 37.15625 54.15625 42.09375 61.328125 \nL 5.125 61.328125 \nL 5.125 68.796875 \nL 50.59375 68.796875 \nz\n\" id=\"LiberationSans-55\"/>\n      </defs>\n      <g style=\"fill:#262626;\" transform=\"translate(347.585938 134.345312)scale(0.1 -0.1)\">\n       <use xlink:href=\"#LiberationSans-55\"/>\n       <use x=\"55.615234\" xlink:href=\"#LiberationSans-48\"/>\n      </g>\n     </g>\n    </g>\n   </g>\n   <g id=\"matplotlib.axis_2\">\n    <g id=\"ytick_1\">\n     <g id=\"line2d_17\">\n      <path clip-path=\"url(#p26dc8b6302)\" d=\"M 25.321875 10.823437 \nL 360.121875 10.823437 \n\" style=\"fill:none;stroke:#ffffff;stroke-linecap:round;\"/>\n     </g>\n     <g id=\"line2d_18\"/>\n     <g id=\"text_9\">\n      <!-- 0 -->\n      <g style=\"fill:#262626;\" transform=\"translate(12.760938 14.446875)scale(0.1 -0.1)\">\n       <use xlink:href=\"#LiberationSans-48\"/>\n      </g>\n     </g>\n    </g>\n    <g id=\"ytick_2\">\n     <g id=\"line2d_19\">\n      <path clip-path=\"url(#p26dc8b6302)\" d=\"M 25.321875 34.073437 \nL 360.121875 34.073437 \n\" style=\"fill:none;stroke:#ffffff;stroke-linecap:round;\"/>\n     </g>\n     <g id=\"line2d_20\"/>\n     <g id=\"text_10\">\n      <!-- 5 -->\n      <g style=\"fill:#262626;\" transform=\"translate(12.760938 37.696875)scale(0.1 -0.1)\">\n       <use xlink:href=\"#LiberationSans-53\"/>\n      </g>\n     </g>\n    </g>\n    <g id=\"ytick_3\">\n     <g id=\"line2d_21\">\n      <path clip-path=\"url(#p26dc8b6302)\" d=\"M 25.321875 57.323437 \nL 360.121875 57.323437 \n\" style=\"fill:none;stroke:#ffffff;stroke-linecap:round;\"/>\n     </g>\n     <g id=\"line2d_22\"/>\n     <g id=\"text_11\">\n      <!-- 10 -->\n      <g style=\"fill:#262626;\" transform=\"translate(7.2 60.946875)scale(0.1 -0.1)\">\n       <use xlink:href=\"#LiberationSans-49\"/>\n       <use x=\"55.615234\" xlink:href=\"#LiberationSans-48\"/>\n      </g>\n     </g>\n    </g>\n    <g id=\"ytick_4\">\n     <g id=\"line2d_23\">\n      <path clip-path=\"url(#p26dc8b6302)\" d=\"M 25.321875 80.573437 \nL 360.121875 80.573437 \n\" style=\"fill:none;stroke:#ffffff;stroke-linecap:round;\"/>\n     </g>\n     <g id=\"line2d_24\"/>\n     <g id=\"text_12\">\n      <!-- 15 -->\n      <g style=\"fill:#262626;\" transform=\"translate(7.2 84.196875)scale(0.1 -0.1)\">\n       <use xlink:href=\"#LiberationSans-49\"/>\n       <use x=\"55.615234\" xlink:href=\"#LiberationSans-53\"/>\n      </g>\n     </g>\n    </g>\n    <g id=\"ytick_5\">\n     <g id=\"line2d_25\">\n      <path clip-path=\"url(#p26dc8b6302)\" d=\"M 25.321875 103.823437 \nL 360.121875 103.823437 \n\" style=\"fill:none;stroke:#ffffff;stroke-linecap:round;\"/>\n     </g>\n     <g id=\"line2d_26\"/>\n     <g id=\"text_13\">\n      <!-- 20 -->\n      <g style=\"fill:#262626;\" transform=\"translate(7.2 107.446875)scale(0.1 -0.1)\">\n       <use xlink:href=\"#LiberationSans-50\"/>\n       <use x=\"55.615234\" xlink:href=\"#LiberationSans-48\"/>\n      </g>\n     </g>\n    </g>\n   </g>\n   <g id=\"patch_3\">\n    <path d=\"M 25.321875 120.098437 \nL 25.321875 8.498437 \n\" style=\"fill:none;\"/>\n   </g>\n   <g id=\"patch_4\">\n    <path d=\"M 360.121875 120.098437 \nL 360.121875 8.498437 \n\" style=\"fill:none;\"/>\n   </g>\n   <g id=\"patch_5\">\n    <path d=\"M 25.321875 120.098437 \nL 360.121875 120.098437 \n\" style=\"fill:none;\"/>\n   </g>\n   <g id=\"patch_6\">\n    <path d=\"M 25.321875 8.498437 \nL 360.121875 8.498437 \n\" style=\"fill:none;\"/>\n   </g>\n  </g>\n </g>\n <defs>\n  <clipPath id=\"p26dc8b6302\">\n   <rect height=\"111.6\" width=\"334.8\" x=\"25.321875\" y=\"8.498437\"/>\n  </clipPath>\n </defs>\n</svg>\n"
          },
          "metadata": {
            "tags": []
          }
        },
        {
          "output_type": "stream",
          "text": [
            "2) the_labels(captcha) GN6X is encoded as [14, 20, 4, 29]\n",
            "3) input_length (width of image that is fed to the network after CNN): 16 == (72/4 - 2)\n",
            "4) label_length (length of captcha): 4\n",
            " \n",
            "Text generator output (data which will be fed into the neutral network):\n",
            "1)the_input (image)\n"
          ],
          "name": "stdout"
        },
        {
          "output_type": "display_data",
          "data": {
            "text/plain": [
              "<Figure size 432x288 with 1 Axes>"
            ],
            "image/svg+xml": "<?xml version=\"1.0\" encoding=\"utf-8\" standalone=\"no\"?>\n<!DOCTYPE svg PUBLIC \"-//W3C//DTD SVG 1.1//EN\"\n  \"http://www.w3.org/Graphics/SVG/1.1/DTD/svg11.dtd\">\n<!-- Created with matplotlib (https://matplotlib.org/) -->\n<svg height=\"143.620312pt\" version=\"1.1\" viewBox=\"0 0 367.321875 143.620312\" width=\"367.321875pt\" xmlns=\"http://www.w3.org/2000/svg\" xmlns:xlink=\"http://www.w3.org/1999/xlink\">\n <defs>\n  <style type=\"text/css\">\n*{stroke-linecap:butt;stroke-linejoin:round;}\n  </style>\n </defs>\n <g id=\"figure_1\">\n  <g id=\"patch_1\">\n   <path d=\"M 0 143.620312 \nL 367.321875 143.620312 \nL 367.321875 0 \nL 0 0 \nz\n\" style=\"fill:none;\"/>\n  </g>\n  <g id=\"axes_1\">\n   <g id=\"patch_2\">\n    <path d=\"M 25.321875 120.098437 \nL 360.121875 120.098437 \nL 360.121875 8.498437 \nL 25.321875 8.498437 \nz\n\" style=\"fill:#eaeaf2;\"/>\n   </g>\n   <g clip-path=\"url(#p4d4c073d05)\">\n    <image height=\"112\" id=\"imageb880a08bd1\" transform=\"scale(1 -1)translate(0 -112)\" width=\"335\" x=\"25.321875\" xlink:href=\"data:image/png;base64,\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\" y=\"-8.098437\"/>\n   </g>\n   <g id=\"matplotlib.axis_1\">\n    <g id=\"xtick_1\">\n     <g id=\"line2d_1\">\n      <path clip-path=\"url(#p4d4c073d05)\" d=\"M 27.646875 120.098437 \nL 27.646875 8.498437 \n\" style=\"fill:none;stroke:#ffffff;stroke-linecap:round;\"/>\n     </g>\n     <g id=\"line2d_2\"/>\n     <g id=\"text_1\">\n      <!-- 0 -->\n      <defs>\n       <path d=\"M 51.703125 34.421875 \nQ 51.703125 24.515625 49.828125 17.75 \nQ 47.953125 10.984375 44.703125 6.8125 \nQ 41.453125 2.640625 37.0625 0.828125 \nQ 32.671875 -0.984375 27.6875 -0.984375 \nQ 22.65625 -0.984375 18.3125 0.828125 \nQ 13.96875 2.640625 10.765625 6.78125 \nQ 7.5625 10.9375 5.734375 17.703125 \nQ 3.90625 24.46875 3.90625 34.421875 \nQ 3.90625 44.828125 5.734375 51.640625 \nQ 7.5625 58.453125 10.78125 62.5 \nQ 14.015625 66.546875 18.40625 68.1875 \nQ 22.796875 69.828125 27.984375 69.828125 \nQ 32.90625 69.828125 37.21875 68.1875 \nQ 41.546875 66.546875 44.765625 62.5 \nQ 48 58.453125 49.84375 51.640625 \nQ 51.703125 44.828125 51.703125 34.421875 \nz\nM 42.78125 34.421875 \nQ 42.78125 42.625 41.796875 48.0625 \nQ 40.828125 53.515625 38.921875 56.765625 \nQ 37.015625 60.015625 34.25 61.359375 \nQ 31.5 62.703125 27.984375 62.703125 \nQ 24.265625 62.703125 21.4375 61.328125 \nQ 18.609375 59.96875 16.671875 56.71875 \nQ 14.75 53.46875 13.765625 48.015625 \nQ 12.796875 42.578125 12.796875 34.421875 \nQ 12.796875 26.515625 13.796875 21.09375 \nQ 14.796875 15.671875 16.71875 12.375 \nQ 18.65625 9.078125 21.4375 7.640625 \nQ 24.21875 6.203125 27.78125 6.203125 \nQ 31.25 6.203125 34.03125 7.640625 \nQ 36.8125 9.078125 38.734375 12.375 \nQ 40.671875 15.671875 41.71875 21.09375 \nQ 42.78125 26.515625 42.78125 34.421875 \nz\n\" id=\"LiberationSans-48\"/>\n      </defs>\n      <g style=\"fill:#262626;\" transform=\"translate(24.866406 134.345312)scale(0.1 -0.1)\">\n       <use xlink:href=\"#LiberationSans-48\"/>\n      </g>\n     </g>\n    </g>\n    <g id=\"xtick_2\">\n     <g id=\"line2d_3\">\n      <path clip-path=\"url(#p4d4c073d05)\" d=\"M 74.146875 120.098437 \nL 74.146875 8.498437 \n\" style=\"fill:none;stroke:#ffffff;stroke-linecap:round;\"/>\n     </g>\n     <g id=\"line2d_4\"/>\n     <g id=\"text_2\">\n      <!-- 10 -->\n      <defs>\n       <path d=\"M 7.625 0 \nL 7.625 7.46875 \nL 25.140625 7.46875 \nL 25.140625 60.40625 \nL 9.625 49.3125 \nL 9.625 57.625 \nL 25.875 68.796875 \nL 33.984375 68.796875 \nL 33.984375 7.46875 \nL 50.734375 7.46875 \nL 50.734375 0 \nz\n\" id=\"LiberationSans-49\"/>\n      </defs>\n      <g style=\"fill:#262626;\" transform=\"translate(68.585938 134.345312)scale(0.1 -0.1)\">\n       <use xlink:href=\"#LiberationSans-49\"/>\n       <use x=\"55.615234\" xlink:href=\"#LiberationSans-48\"/>\n      </g>\n     </g>\n    </g>\n    <g id=\"xtick_3\">\n     <g id=\"line2d_5\">\n      <path clip-path=\"url(#p4d4c073d05)\" d=\"M 120.646875 120.098437 \nL 120.646875 8.498437 \n\" style=\"fill:none;stroke:#ffffff;stroke-linecap:round;\"/>\n     </g>\n     <g id=\"line2d_6\"/>\n     <g id=\"text_3\">\n      <!-- 20 -->\n      <defs>\n       <path d=\"M 5.03125 0 \nL 5.03125 6.203125 \nQ 7.515625 11.921875 11.109375 16.28125 \nQ 14.703125 20.65625 18.65625 24.1875 \nQ 22.609375 27.734375 26.484375 30.765625 \nQ 30.375 33.796875 33.5 36.8125 \nQ 36.625 39.84375 38.546875 43.15625 \nQ 40.484375 46.484375 40.484375 50.6875 \nQ 40.484375 53.609375 39.59375 55.828125 \nQ 38.71875 58.0625 37.0625 59.5625 \nQ 35.40625 61.078125 33.078125 61.828125 \nQ 30.765625 62.59375 27.9375 62.59375 \nQ 25.296875 62.59375 22.96875 61.859375 \nQ 20.65625 61.140625 18.84375 59.671875 \nQ 17.046875 58.203125 15.890625 56.03125 \nQ 14.75 53.859375 14.40625 50.984375 \nL 5.421875 51.8125 \nQ 5.859375 55.515625 7.46875 58.78125 \nQ 9.078125 62.0625 11.90625 64.53125 \nQ 14.75 67 18.71875 68.40625 \nQ 22.703125 69.828125 27.9375 69.828125 \nQ 33.0625 69.828125 37.0625 68.609375 \nQ 41.0625 67.390625 43.8125 64.984375 \nQ 46.578125 62.59375 48.046875 59.078125 \nQ 49.515625 55.5625 49.515625 50.984375 \nQ 49.515625 47.515625 48.265625 44.390625 \nQ 47.015625 41.265625 44.9375 38.421875 \nQ 42.875 35.59375 40.140625 32.953125 \nQ 37.40625 30.328125 34.421875 27.8125 \nQ 31.453125 25.296875 28.421875 22.828125 \nQ 25.390625 20.359375 22.71875 17.859375 \nQ 20.0625 15.375 17.96875 12.8125 \nQ 15.875 10.25 14.703125 7.46875 \nL 50.59375 7.46875 \nL 50.59375 0 \nz\n\" id=\"LiberationSans-50\"/>\n      </defs>\n      <g style=\"fill:#262626;\" transform=\"translate(115.085938 134.345312)scale(0.1 -0.1)\">\n       <use xlink:href=\"#LiberationSans-50\"/>\n       <use x=\"55.615234\" xlink:href=\"#LiberationSans-48\"/>\n      </g>\n     </g>\n    </g>\n    <g id=\"xtick_4\">\n     <g id=\"line2d_7\">\n      <path clip-path=\"url(#p4d4c073d05)\" d=\"M 167.146875 120.098437 \nL 167.146875 8.498437 \n\" style=\"fill:none;stroke:#ffffff;stroke-linecap:round;\"/>\n     </g>\n     <g id=\"line2d_8\"/>\n     <g id=\"text_4\">\n      <!-- 30 -->\n      <defs>\n       <path d=\"M 51.21875 19 \nQ 51.21875 14.265625 49.671875 10.546875 \nQ 48.140625 6.84375 45.1875 4.265625 \nQ 42.234375 1.703125 37.859375 0.359375 \nQ 33.5 -0.984375 27.875 -0.984375 \nQ 21.484375 -0.984375 17.109375 0.609375 \nQ 12.75 2.203125 9.90625 4.8125 \nQ 7.078125 7.421875 5.65625 10.765625 \nQ 4.25 14.109375 3.8125 17.671875 \nL 12.890625 18.5 \nQ 13.28125 15.765625 14.328125 13.515625 \nQ 15.375 11.28125 17.1875 9.671875 \nQ 19 8.0625 21.625 7.171875 \nQ 24.265625 6.296875 27.875 6.296875 \nQ 34.515625 6.296875 38.296875 9.5625 \nQ 42.09375 12.84375 42.09375 19.28125 \nQ 42.09375 23.09375 40.40625 25.40625 \nQ 38.71875 27.734375 36.203125 29.03125 \nQ 33.6875 30.328125 30.734375 30.765625 \nQ 27.78125 31.203125 25.296875 31.203125 \nL 20.3125 31.203125 \nL 20.3125 38.8125 \nL 25.09375 38.8125 \nQ 27.59375 38.8125 30.265625 39.328125 \nQ 32.953125 39.84375 35.171875 41.1875 \nQ 37.40625 42.53125 38.84375 44.828125 \nQ 40.28125 47.125 40.28125 50.6875 \nQ 40.28125 56.203125 37.03125 59.390625 \nQ 33.796875 62.59375 27.390625 62.59375 \nQ 21.578125 62.59375 17.984375 59.609375 \nQ 14.40625 56.640625 13.8125 51.21875 \nL 4.984375 51.90625 \nQ 5.515625 56.453125 7.46875 59.8125 \nQ 9.421875 63.1875 12.421875 65.40625 \nQ 15.4375 67.625 19.28125 68.71875 \nQ 23.140625 69.828125 27.484375 69.828125 \nQ 33.25 69.828125 37.390625 68.375 \nQ 41.546875 66.9375 44.1875 64.46875 \nQ 46.828125 62.015625 48.0625 58.6875 \nQ 49.3125 55.375 49.3125 51.609375 \nQ 49.3125 48.578125 48.484375 45.9375 \nQ 47.65625 43.3125 45.890625 41.203125 \nQ 44.140625 39.109375 41.421875 37.59375 \nQ 38.71875 36.078125 34.90625 35.296875 \nL 34.90625 35.109375 \nQ 39.0625 34.671875 42.140625 33.21875 \nQ 45.21875 31.78125 47.21875 29.625 \nQ 49.21875 27.484375 50.21875 24.75 \nQ 51.21875 22.015625 51.21875 19 \nz\n\" id=\"LiberationSans-51\"/>\n      </defs>\n      <g style=\"fill:#262626;\" transform=\"translate(161.585938 134.345312)scale(0.1 -0.1)\">\n       <use xlink:href=\"#LiberationSans-51\"/>\n       <use x=\"55.615234\" xlink:href=\"#LiberationSans-48\"/>\n      </g>\n     </g>\n    </g>\n    <g id=\"xtick_5\">\n     <g id=\"line2d_9\">\n      <path clip-path=\"url(#p4d4c073d05)\" d=\"M 213.646875 120.098437 \nL 213.646875 8.498437 \n\" style=\"fill:none;stroke:#ffffff;stroke-linecap:round;\"/>\n     </g>\n     <g id=\"line2d_10\"/>\n     <g id=\"text_5\">\n      <!-- 40 -->\n      <defs>\n       <path d=\"M 43.015625 15.578125 \nL 43.015625 0 \nL 34.71875 0 \nL 34.71875 15.578125 \nL 2.296875 15.578125 \nL 2.296875 22.40625 \nL 33.796875 68.796875 \nL 43.015625 68.796875 \nL 43.015625 22.515625 \nL 52.6875 22.515625 \nL 52.6875 15.578125 \nz\nM 34.71875 58.890625 \nQ 34.625 58.640625 34.234375 57.9375 \nQ 33.84375 57.234375 33.34375 56.34375 \nQ 32.859375 55.46875 32.34375 54.5625 \nQ 31.84375 53.65625 31.453125 53.078125 \nL 13.8125 27.09375 \nQ 13.578125 26.703125 13.109375 26.0625 \nQ 12.640625 25.4375 12.15625 24.78125 \nQ 11.671875 24.125 11.171875 23.484375 \nQ 10.6875 22.859375 10.40625 22.515625 \nL 34.71875 22.515625 \nz\n\" id=\"LiberationSans-52\"/>\n      </defs>\n      <g style=\"fill:#262626;\" transform=\"translate(208.085938 134.345312)scale(0.1 -0.1)\">\n       <use xlink:href=\"#LiberationSans-52\"/>\n       <use x=\"55.615234\" xlink:href=\"#LiberationSans-48\"/>\n      </g>\n     </g>\n    </g>\n    <g id=\"xtick_6\">\n     <g id=\"line2d_11\">\n      <path clip-path=\"url(#p4d4c073d05)\" d=\"M 260.146875 120.098437 \nL 260.146875 8.498437 \n\" style=\"fill:none;stroke:#ffffff;stroke-linecap:round;\"/>\n     </g>\n     <g id=\"line2d_12\"/>\n     <g id=\"text_6\">\n      <!-- 50 -->\n      <defs>\n       <path d=\"M 51.421875 22.40625 \nQ 51.421875 17.234375 49.859375 12.9375 \nQ 48.296875 8.640625 45.21875 5.53125 \nQ 42.140625 2.4375 37.578125 0.71875 \nQ 33.015625 -0.984375 27 -0.984375 \nQ 21.578125 -0.984375 17.546875 0.28125 \nQ 13.53125 1.5625 10.734375 3.78125 \nQ 7.953125 6 6.3125 8.984375 \nQ 4.6875 11.96875 4 15.375 \nL 12.890625 16.40625 \nQ 13.421875 14.453125 14.390625 12.625 \nQ 15.375 10.796875 17.0625 9.34375 \nQ 18.75 7.90625 21.21875 7.046875 \nQ 23.6875 6.203125 27.203125 6.203125 \nQ 30.609375 6.203125 33.390625 7.25 \nQ 36.1875 8.296875 38.15625 10.34375 \nQ 40.140625 12.40625 41.203125 15.375 \nQ 42.28125 18.359375 42.28125 22.21875 \nQ 42.28125 25.390625 41.25 28.046875 \nQ 40.234375 30.71875 38.328125 32.640625 \nQ 36.421875 34.578125 33.65625 35.640625 \nQ 30.90625 36.71875 27.390625 36.71875 \nQ 25.203125 36.71875 23.34375 36.328125 \nQ 21.484375 35.9375 19.890625 35.25 \nQ 18.3125 34.578125 17.015625 33.671875 \nQ 15.71875 32.765625 14.59375 31.78125 \nL 6 31.78125 \nL 8.296875 68.796875 \nL 47.40625 68.796875 \nL 47.40625 61.328125 \nL 16.3125 61.328125 \nL 14.984375 39.5 \nQ 17.328125 41.3125 20.84375 42.59375 \nQ 24.359375 43.890625 29.203125 43.890625 \nQ 34.328125 43.890625 38.421875 42.328125 \nQ 42.53125 40.765625 45.40625 37.90625 \nQ 48.296875 35.0625 49.859375 31.109375 \nQ 51.421875 27.15625 51.421875 22.40625 \nz\n\" id=\"LiberationSans-53\"/>\n      </defs>\n      <g style=\"fill:#262626;\" transform=\"translate(254.585938 134.345312)scale(0.1 -0.1)\">\n       <use xlink:href=\"#LiberationSans-53\"/>\n       <use x=\"55.615234\" xlink:href=\"#LiberationSans-48\"/>\n      </g>\n     </g>\n    </g>\n    <g id=\"xtick_7\">\n     <g id=\"line2d_13\">\n      <path clip-path=\"url(#p4d4c073d05)\" d=\"M 306.646875 120.098437 \nL 306.646875 8.498437 \n\" style=\"fill:none;stroke:#ffffff;stroke-linecap:round;\"/>\n     </g>\n     <g id=\"line2d_14\"/>\n     <g id=\"text_7\">\n      <!-- 60 -->\n      <defs>\n       <path d=\"M 51.21875 22.515625 \nQ 51.21875 17.328125 49.78125 13 \nQ 48.34375 8.6875 45.53125 5.578125 \nQ 42.71875 2.484375 38.5625 0.75 \nQ 34.421875 -0.984375 29 -0.984375 \nQ 23 -0.984375 18.5 1.3125 \nQ 14.015625 3.609375 11.03125 7.921875 \nQ 8.0625 12.25 6.5625 18.53125 \nQ 5.078125 24.8125 5.078125 32.8125 \nQ 5.078125 42 6.765625 48.921875 \nQ 8.453125 55.859375 11.625 60.5 \nQ 14.796875 65.140625 19.359375 67.484375 \nQ 23.921875 69.828125 29.6875 69.828125 \nQ 33.203125 69.828125 36.28125 69.09375 \nQ 39.359375 68.359375 41.875 66.71875 \nQ 44.390625 65.09375 46.28125 62.40625 \nQ 48.1875 59.71875 49.3125 55.8125 \nL 40.921875 54.296875 \nQ 39.546875 58.734375 36.546875 60.71875 \nQ 33.546875 62.703125 29.59375 62.703125 \nQ 25.984375 62.703125 23.046875 60.984375 \nQ 20.125 59.28125 18.0625 55.875 \nQ 16.015625 52.484375 14.90625 47.359375 \nQ 13.8125 42.234375 13.8125 35.40625 \nQ 16.21875 39.84375 20.5625 42.15625 \nQ 24.90625 44.484375 30.515625 44.484375 \nQ 35.203125 44.484375 39.015625 42.96875 \nQ 42.828125 41.453125 45.53125 38.59375 \nQ 48.25 35.75 49.734375 31.671875 \nQ 51.21875 27.59375 51.21875 22.515625 \nz\nM 42.28125 22.125 \nQ 42.28125 25.6875 41.40625 28.5625 \nQ 40.53125 31.453125 38.765625 33.46875 \nQ 37.015625 35.5 34.421875 36.59375 \nQ 31.84375 37.703125 28.421875 37.703125 \nQ 26.03125 37.703125 23.578125 36.984375 \nQ 21.140625 36.28125 19.15625 34.6875 \nQ 17.1875 33.109375 15.9375 30.515625 \nQ 14.703125 27.9375 14.703125 24.21875 \nQ 14.703125 20.40625 15.671875 17.109375 \nQ 16.65625 13.8125 18.484375 11.375 \nQ 20.3125 8.9375 22.890625 7.515625 \nQ 25.484375 6.109375 28.71875 6.109375 \nQ 31.890625 6.109375 34.40625 7.203125 \nQ 36.921875 8.296875 38.671875 10.375 \nQ 40.4375 12.453125 41.359375 15.421875 \nQ 42.28125 18.40625 42.28125 22.125 \nz\n\" id=\"LiberationSans-54\"/>\n      </defs>\n      <g style=\"fill:#262626;\" transform=\"translate(301.085938 134.345312)scale(0.1 -0.1)\">\n       <use xlink:href=\"#LiberationSans-54\"/>\n       <use x=\"55.615234\" xlink:href=\"#LiberationSans-48\"/>\n      </g>\n     </g>\n    </g>\n    <g id=\"xtick_8\">\n     <g id=\"line2d_15\">\n      <path clip-path=\"url(#p4d4c073d05)\" d=\"M 353.146875 120.098437 \nL 353.146875 8.498437 \n\" style=\"fill:none;stroke:#ffffff;stroke-linecap:round;\"/>\n     </g>\n     <g id=\"line2d_16\"/>\n     <g id=\"text_8\">\n      <!-- 70 -->\n      <defs>\n       <path d=\"M 50.59375 61.671875 \nQ 45.40625 53.765625 41.0625 46.453125 \nQ 36.71875 39.15625 33.59375 31.75 \nQ 30.46875 24.359375 28.734375 16.578125 \nQ 27 8.796875 27 0 \nL 17.828125 0 \nQ 17.828125 8.25 19.78125 16.1875 \nQ 21.734375 24.125 25.046875 31.765625 \nQ 28.375 39.40625 32.765625 46.78125 \nQ 37.15625 54.15625 42.09375 61.328125 \nL 5.125 61.328125 \nL 5.125 68.796875 \nL 50.59375 68.796875 \nz\n\" id=\"LiberationSans-55\"/>\n      </defs>\n      <g style=\"fill:#262626;\" transform=\"translate(347.585938 134.345312)scale(0.1 -0.1)\">\n       <use xlink:href=\"#LiberationSans-55\"/>\n       <use x=\"55.615234\" xlink:href=\"#LiberationSans-48\"/>\n      </g>\n     </g>\n    </g>\n   </g>\n   <g id=\"matplotlib.axis_2\">\n    <g id=\"ytick_1\">\n     <g id=\"line2d_17\">\n      <path clip-path=\"url(#p4d4c073d05)\" d=\"M 25.321875 10.823437 \nL 360.121875 10.823437 \n\" style=\"fill:none;stroke:#ffffff;stroke-linecap:round;\"/>\n     </g>\n     <g id=\"line2d_18\"/>\n     <g id=\"text_9\">\n      <!-- 0 -->\n      <g style=\"fill:#262626;\" transform=\"translate(12.760938 14.446875)scale(0.1 -0.1)\">\n       <use xlink:href=\"#LiberationSans-48\"/>\n      </g>\n     </g>\n    </g>\n    <g id=\"ytick_2\">\n     <g id=\"line2d_19\">\n      <path clip-path=\"url(#p4d4c073d05)\" d=\"M 25.321875 34.073437 \nL 360.121875 34.073437 \n\" style=\"fill:none;stroke:#ffffff;stroke-linecap:round;\"/>\n     </g>\n     <g id=\"line2d_20\"/>\n     <g id=\"text_10\">\n      <!-- 5 -->\n      <g style=\"fill:#262626;\" transform=\"translate(12.760938 37.696875)scale(0.1 -0.1)\">\n       <use xlink:href=\"#LiberationSans-53\"/>\n      </g>\n     </g>\n    </g>\n    <g id=\"ytick_3\">\n     <g id=\"line2d_21\">\n      <path clip-path=\"url(#p4d4c073d05)\" d=\"M 25.321875 57.323437 \nL 360.121875 57.323437 \n\" style=\"fill:none;stroke:#ffffff;stroke-linecap:round;\"/>\n     </g>\n     <g id=\"line2d_22\"/>\n     <g id=\"text_11\">\n      <!-- 10 -->\n      <g style=\"fill:#262626;\" transform=\"translate(7.2 60.946875)scale(0.1 -0.1)\">\n       <use xlink:href=\"#LiberationSans-49\"/>\n       <use x=\"55.615234\" xlink:href=\"#LiberationSans-48\"/>\n      </g>\n     </g>\n    </g>\n    <g id=\"ytick_4\">\n     <g id=\"line2d_23\">\n      <path clip-path=\"url(#p4d4c073d05)\" d=\"M 25.321875 80.573437 \nL 360.121875 80.573437 \n\" style=\"fill:none;stroke:#ffffff;stroke-linecap:round;\"/>\n     </g>\n     <g id=\"line2d_24\"/>\n     <g id=\"text_12\">\n      <!-- 15 -->\n      <g style=\"fill:#262626;\" transform=\"translate(7.2 84.196875)scale(0.1 -0.1)\">\n       <use xlink:href=\"#LiberationSans-49\"/>\n       <use x=\"55.615234\" xlink:href=\"#LiberationSans-53\"/>\n      </g>\n     </g>\n    </g>\n    <g id=\"ytick_5\">\n     <g id=\"line2d_25\">\n      <path clip-path=\"url(#p4d4c073d05)\" d=\"M 25.321875 103.823437 \nL 360.121875 103.823437 \n\" style=\"fill:none;stroke:#ffffff;stroke-linecap:round;\"/>\n     </g>\n     <g id=\"line2d_26\"/>\n     <g id=\"text_13\">\n      <!-- 20 -->\n      <g style=\"fill:#262626;\" transform=\"translate(7.2 107.446875)scale(0.1 -0.1)\">\n       <use xlink:href=\"#LiberationSans-50\"/>\n       <use x=\"55.615234\" xlink:href=\"#LiberationSans-48\"/>\n      </g>\n     </g>\n    </g>\n   </g>\n   <g id=\"patch_3\">\n    <path d=\"M 25.321875 120.098437 \nL 25.321875 8.498437 \n\" style=\"fill:none;\"/>\n   </g>\n   <g id=\"patch_4\">\n    <path d=\"M 360.121875 120.098437 \nL 360.121875 8.498437 \n\" style=\"fill:none;\"/>\n   </g>\n   <g id=\"patch_5\">\n    <path d=\"M 25.321875 120.098437 \nL 360.121875 120.098437 \n\" style=\"fill:none;\"/>\n   </g>\n   <g id=\"patch_6\">\n    <path d=\"M 25.321875 8.498437 \nL 360.121875 8.498437 \n\" style=\"fill:none;\"/>\n   </g>\n  </g>\n </g>\n <defs>\n  <clipPath id=\"p4d4c073d05\">\n   <rect height=\"111.6\" width=\"334.8\" x=\"25.321875\" y=\"8.498437\"/>\n  </clipPath>\n </defs>\n</svg>\n"
          },
          "metadata": {
            "tags": []
          }
        },
        {
          "output_type": "stream",
          "text": [
            "2) the_labels(captcha) 3662 is encoded as [1, 4, 4, 0]\n",
            "3) input_length (width of image that is fed to the network after CNN): 16 == (72/4 - 2)\n",
            "4) label_length (length of captcha): 4\n",
            " \n",
            "Text generator output (data which will be fed into the neutral network):\n",
            "1)the_input (image)\n"
          ],
          "name": "stdout"
        },
        {
          "output_type": "display_data",
          "data": {
            "text/plain": [
              "<Figure size 432x288 with 1 Axes>"
            ],
            "image/svg+xml": "<?xml version=\"1.0\" encoding=\"utf-8\" standalone=\"no\"?>\n<!DOCTYPE svg PUBLIC \"-//W3C//DTD SVG 1.1//EN\"\n  \"http://www.w3.org/Graphics/SVG/1.1/DTD/svg11.dtd\">\n<!-- Created with matplotlib (https://matplotlib.org/) -->\n<svg height=\"143.620312pt\" version=\"1.1\" viewBox=\"0 0 367.321875 143.620312\" width=\"367.321875pt\" xmlns=\"http://www.w3.org/2000/svg\" xmlns:xlink=\"http://www.w3.org/1999/xlink\">\n <defs>\n  <style type=\"text/css\">\n*{stroke-linecap:butt;stroke-linejoin:round;}\n  </style>\n </defs>\n <g id=\"figure_1\">\n  <g id=\"patch_1\">\n   <path d=\"M 0 143.620312 \nL 367.321875 143.620312 \nL 367.321875 0 \nL 0 0 \nz\n\" style=\"fill:none;\"/>\n  </g>\n  <g id=\"axes_1\">\n   <g id=\"patch_2\">\n    <path d=\"M 25.321875 120.098437 \nL 360.121875 120.098437 \nL 360.121875 8.498437 \nL 25.321875 8.498437 \nz\n\" style=\"fill:#eaeaf2;\"/>\n   </g>\n   <g clip-path=\"url(#p6b3f6e2d56)\">\n    <image height=\"112\" id=\"image338acb6c14\" transform=\"scale(1 -1)translate(0 -112)\" width=\"335\" x=\"25.321875\" xlink:href=\"data:image/png;base64,\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\" y=\"-8.098437\"/>\n   </g>\n   <g id=\"matplotlib.axis_1\">\n    <g id=\"xtick_1\">\n     <g id=\"line2d_1\">\n      <path clip-path=\"url(#p6b3f6e2d56)\" d=\"M 27.646875 120.098437 \nL 27.646875 8.498437 \n\" style=\"fill:none;stroke:#ffffff;stroke-linecap:round;\"/>\n     </g>\n     <g id=\"line2d_2\"/>\n     <g id=\"text_1\">\n      <!-- 0 -->\n      <defs>\n       <path d=\"M 51.703125 34.421875 \nQ 51.703125 24.515625 49.828125 17.75 \nQ 47.953125 10.984375 44.703125 6.8125 \nQ 41.453125 2.640625 37.0625 0.828125 \nQ 32.671875 -0.984375 27.6875 -0.984375 \nQ 22.65625 -0.984375 18.3125 0.828125 \nQ 13.96875 2.640625 10.765625 6.78125 \nQ 7.5625 10.9375 5.734375 17.703125 \nQ 3.90625 24.46875 3.90625 34.421875 \nQ 3.90625 44.828125 5.734375 51.640625 \nQ 7.5625 58.453125 10.78125 62.5 \nQ 14.015625 66.546875 18.40625 68.1875 \nQ 22.796875 69.828125 27.984375 69.828125 \nQ 32.90625 69.828125 37.21875 68.1875 \nQ 41.546875 66.546875 44.765625 62.5 \nQ 48 58.453125 49.84375 51.640625 \nQ 51.703125 44.828125 51.703125 34.421875 \nz\nM 42.78125 34.421875 \nQ 42.78125 42.625 41.796875 48.0625 \nQ 40.828125 53.515625 38.921875 56.765625 \nQ 37.015625 60.015625 34.25 61.359375 \nQ 31.5 62.703125 27.984375 62.703125 \nQ 24.265625 62.703125 21.4375 61.328125 \nQ 18.609375 59.96875 16.671875 56.71875 \nQ 14.75 53.46875 13.765625 48.015625 \nQ 12.796875 42.578125 12.796875 34.421875 \nQ 12.796875 26.515625 13.796875 21.09375 \nQ 14.796875 15.671875 16.71875 12.375 \nQ 18.65625 9.078125 21.4375 7.640625 \nQ 24.21875 6.203125 27.78125 6.203125 \nQ 31.25 6.203125 34.03125 7.640625 \nQ 36.8125 9.078125 38.734375 12.375 \nQ 40.671875 15.671875 41.71875 21.09375 \nQ 42.78125 26.515625 42.78125 34.421875 \nz\n\" id=\"LiberationSans-48\"/>\n      </defs>\n      <g style=\"fill:#262626;\" transform=\"translate(24.866406 134.345312)scale(0.1 -0.1)\">\n       <use xlink:href=\"#LiberationSans-48\"/>\n      </g>\n     </g>\n    </g>\n    <g id=\"xtick_2\">\n     <g id=\"line2d_3\">\n      <path clip-path=\"url(#p6b3f6e2d56)\" d=\"M 74.146875 120.098437 \nL 74.146875 8.498437 \n\" style=\"fill:none;stroke:#ffffff;stroke-linecap:round;\"/>\n     </g>\n     <g id=\"line2d_4\"/>\n     <g id=\"text_2\">\n      <!-- 10 -->\n      <defs>\n       <path d=\"M 7.625 0 \nL 7.625 7.46875 \nL 25.140625 7.46875 \nL 25.140625 60.40625 \nL 9.625 49.3125 \nL 9.625 57.625 \nL 25.875 68.796875 \nL 33.984375 68.796875 \nL 33.984375 7.46875 \nL 50.734375 7.46875 \nL 50.734375 0 \nz\n\" id=\"LiberationSans-49\"/>\n      </defs>\n      <g style=\"fill:#262626;\" transform=\"translate(68.585938 134.345312)scale(0.1 -0.1)\">\n       <use xlink:href=\"#LiberationSans-49\"/>\n       <use x=\"55.615234\" xlink:href=\"#LiberationSans-48\"/>\n      </g>\n     </g>\n    </g>\n    <g id=\"xtick_3\">\n     <g id=\"line2d_5\">\n      <path clip-path=\"url(#p6b3f6e2d56)\" d=\"M 120.646875 120.098437 \nL 120.646875 8.498437 \n\" style=\"fill:none;stroke:#ffffff;stroke-linecap:round;\"/>\n     </g>\n     <g id=\"line2d_6\"/>\n     <g id=\"text_3\">\n      <!-- 20 -->\n      <defs>\n       <path d=\"M 5.03125 0 \nL 5.03125 6.203125 \nQ 7.515625 11.921875 11.109375 16.28125 \nQ 14.703125 20.65625 18.65625 24.1875 \nQ 22.609375 27.734375 26.484375 30.765625 \nQ 30.375 33.796875 33.5 36.8125 \nQ 36.625 39.84375 38.546875 43.15625 \nQ 40.484375 46.484375 40.484375 50.6875 \nQ 40.484375 53.609375 39.59375 55.828125 \nQ 38.71875 58.0625 37.0625 59.5625 \nQ 35.40625 61.078125 33.078125 61.828125 \nQ 30.765625 62.59375 27.9375 62.59375 \nQ 25.296875 62.59375 22.96875 61.859375 \nQ 20.65625 61.140625 18.84375 59.671875 \nQ 17.046875 58.203125 15.890625 56.03125 \nQ 14.75 53.859375 14.40625 50.984375 \nL 5.421875 51.8125 \nQ 5.859375 55.515625 7.46875 58.78125 \nQ 9.078125 62.0625 11.90625 64.53125 \nQ 14.75 67 18.71875 68.40625 \nQ 22.703125 69.828125 27.9375 69.828125 \nQ 33.0625 69.828125 37.0625 68.609375 \nQ 41.0625 67.390625 43.8125 64.984375 \nQ 46.578125 62.59375 48.046875 59.078125 \nQ 49.515625 55.5625 49.515625 50.984375 \nQ 49.515625 47.515625 48.265625 44.390625 \nQ 47.015625 41.265625 44.9375 38.421875 \nQ 42.875 35.59375 40.140625 32.953125 \nQ 37.40625 30.328125 34.421875 27.8125 \nQ 31.453125 25.296875 28.421875 22.828125 \nQ 25.390625 20.359375 22.71875 17.859375 \nQ 20.0625 15.375 17.96875 12.8125 \nQ 15.875 10.25 14.703125 7.46875 \nL 50.59375 7.46875 \nL 50.59375 0 \nz\n\" id=\"LiberationSans-50\"/>\n      </defs>\n      <g style=\"fill:#262626;\" transform=\"translate(115.085938 134.345312)scale(0.1 -0.1)\">\n       <use xlink:href=\"#LiberationSans-50\"/>\n       <use x=\"55.615234\" xlink:href=\"#LiberationSans-48\"/>\n      </g>\n     </g>\n    </g>\n    <g id=\"xtick_4\">\n     <g id=\"line2d_7\">\n      <path clip-path=\"url(#p6b3f6e2d56)\" d=\"M 167.146875 120.098437 \nL 167.146875 8.498437 \n\" style=\"fill:none;stroke:#ffffff;stroke-linecap:round;\"/>\n     </g>\n     <g id=\"line2d_8\"/>\n     <g id=\"text_4\">\n      <!-- 30 -->\n      <defs>\n       <path d=\"M 51.21875 19 \nQ 51.21875 14.265625 49.671875 10.546875 \nQ 48.140625 6.84375 45.1875 4.265625 \nQ 42.234375 1.703125 37.859375 0.359375 \nQ 33.5 -0.984375 27.875 -0.984375 \nQ 21.484375 -0.984375 17.109375 0.609375 \nQ 12.75 2.203125 9.90625 4.8125 \nQ 7.078125 7.421875 5.65625 10.765625 \nQ 4.25 14.109375 3.8125 17.671875 \nL 12.890625 18.5 \nQ 13.28125 15.765625 14.328125 13.515625 \nQ 15.375 11.28125 17.1875 9.671875 \nQ 19 8.0625 21.625 7.171875 \nQ 24.265625 6.296875 27.875 6.296875 \nQ 34.515625 6.296875 38.296875 9.5625 \nQ 42.09375 12.84375 42.09375 19.28125 \nQ 42.09375 23.09375 40.40625 25.40625 \nQ 38.71875 27.734375 36.203125 29.03125 \nQ 33.6875 30.328125 30.734375 30.765625 \nQ 27.78125 31.203125 25.296875 31.203125 \nL 20.3125 31.203125 \nL 20.3125 38.8125 \nL 25.09375 38.8125 \nQ 27.59375 38.8125 30.265625 39.328125 \nQ 32.953125 39.84375 35.171875 41.1875 \nQ 37.40625 42.53125 38.84375 44.828125 \nQ 40.28125 47.125 40.28125 50.6875 \nQ 40.28125 56.203125 37.03125 59.390625 \nQ 33.796875 62.59375 27.390625 62.59375 \nQ 21.578125 62.59375 17.984375 59.609375 \nQ 14.40625 56.640625 13.8125 51.21875 \nL 4.984375 51.90625 \nQ 5.515625 56.453125 7.46875 59.8125 \nQ 9.421875 63.1875 12.421875 65.40625 \nQ 15.4375 67.625 19.28125 68.71875 \nQ 23.140625 69.828125 27.484375 69.828125 \nQ 33.25 69.828125 37.390625 68.375 \nQ 41.546875 66.9375 44.1875 64.46875 \nQ 46.828125 62.015625 48.0625 58.6875 \nQ 49.3125 55.375 49.3125 51.609375 \nQ 49.3125 48.578125 48.484375 45.9375 \nQ 47.65625 43.3125 45.890625 41.203125 \nQ 44.140625 39.109375 41.421875 37.59375 \nQ 38.71875 36.078125 34.90625 35.296875 \nL 34.90625 35.109375 \nQ 39.0625 34.671875 42.140625 33.21875 \nQ 45.21875 31.78125 47.21875 29.625 \nQ 49.21875 27.484375 50.21875 24.75 \nQ 51.21875 22.015625 51.21875 19 \nz\n\" id=\"LiberationSans-51\"/>\n      </defs>\n      <g style=\"fill:#262626;\" transform=\"translate(161.585938 134.345312)scale(0.1 -0.1)\">\n       <use xlink:href=\"#LiberationSans-51\"/>\n       <use x=\"55.615234\" xlink:href=\"#LiberationSans-48\"/>\n      </g>\n     </g>\n    </g>\n    <g id=\"xtick_5\">\n     <g id=\"line2d_9\">\n      <path clip-path=\"url(#p6b3f6e2d56)\" d=\"M 213.646875 120.098437 \nL 213.646875 8.498437 \n\" style=\"fill:none;stroke:#ffffff;stroke-linecap:round;\"/>\n     </g>\n     <g id=\"line2d_10\"/>\n     <g id=\"text_5\">\n      <!-- 40 -->\n      <defs>\n       <path d=\"M 43.015625 15.578125 \nL 43.015625 0 \nL 34.71875 0 \nL 34.71875 15.578125 \nL 2.296875 15.578125 \nL 2.296875 22.40625 \nL 33.796875 68.796875 \nL 43.015625 68.796875 \nL 43.015625 22.515625 \nL 52.6875 22.515625 \nL 52.6875 15.578125 \nz\nM 34.71875 58.890625 \nQ 34.625 58.640625 34.234375 57.9375 \nQ 33.84375 57.234375 33.34375 56.34375 \nQ 32.859375 55.46875 32.34375 54.5625 \nQ 31.84375 53.65625 31.453125 53.078125 \nL 13.8125 27.09375 \nQ 13.578125 26.703125 13.109375 26.0625 \nQ 12.640625 25.4375 12.15625 24.78125 \nQ 11.671875 24.125 11.171875 23.484375 \nQ 10.6875 22.859375 10.40625 22.515625 \nL 34.71875 22.515625 \nz\n\" id=\"LiberationSans-52\"/>\n      </defs>\n      <g style=\"fill:#262626;\" transform=\"translate(208.085938 134.345312)scale(0.1 -0.1)\">\n       <use xlink:href=\"#LiberationSans-52\"/>\n       <use x=\"55.615234\" xlink:href=\"#LiberationSans-48\"/>\n      </g>\n     </g>\n    </g>\n    <g id=\"xtick_6\">\n     <g id=\"line2d_11\">\n      <path clip-path=\"url(#p6b3f6e2d56)\" d=\"M 260.146875 120.098437 \nL 260.146875 8.498437 \n\" style=\"fill:none;stroke:#ffffff;stroke-linecap:round;\"/>\n     </g>\n     <g id=\"line2d_12\"/>\n     <g id=\"text_6\">\n      <!-- 50 -->\n      <defs>\n       <path d=\"M 51.421875 22.40625 \nQ 51.421875 17.234375 49.859375 12.9375 \nQ 48.296875 8.640625 45.21875 5.53125 \nQ 42.140625 2.4375 37.578125 0.71875 \nQ 33.015625 -0.984375 27 -0.984375 \nQ 21.578125 -0.984375 17.546875 0.28125 \nQ 13.53125 1.5625 10.734375 3.78125 \nQ 7.953125 6 6.3125 8.984375 \nQ 4.6875 11.96875 4 15.375 \nL 12.890625 16.40625 \nQ 13.421875 14.453125 14.390625 12.625 \nQ 15.375 10.796875 17.0625 9.34375 \nQ 18.75 7.90625 21.21875 7.046875 \nQ 23.6875 6.203125 27.203125 6.203125 \nQ 30.609375 6.203125 33.390625 7.25 \nQ 36.1875 8.296875 38.15625 10.34375 \nQ 40.140625 12.40625 41.203125 15.375 \nQ 42.28125 18.359375 42.28125 22.21875 \nQ 42.28125 25.390625 41.25 28.046875 \nQ 40.234375 30.71875 38.328125 32.640625 \nQ 36.421875 34.578125 33.65625 35.640625 \nQ 30.90625 36.71875 27.390625 36.71875 \nQ 25.203125 36.71875 23.34375 36.328125 \nQ 21.484375 35.9375 19.890625 35.25 \nQ 18.3125 34.578125 17.015625 33.671875 \nQ 15.71875 32.765625 14.59375 31.78125 \nL 6 31.78125 \nL 8.296875 68.796875 \nL 47.40625 68.796875 \nL 47.40625 61.328125 \nL 16.3125 61.328125 \nL 14.984375 39.5 \nQ 17.328125 41.3125 20.84375 42.59375 \nQ 24.359375 43.890625 29.203125 43.890625 \nQ 34.328125 43.890625 38.421875 42.328125 \nQ 42.53125 40.765625 45.40625 37.90625 \nQ 48.296875 35.0625 49.859375 31.109375 \nQ 51.421875 27.15625 51.421875 22.40625 \nz\n\" id=\"LiberationSans-53\"/>\n      </defs>\n      <g style=\"fill:#262626;\" transform=\"translate(254.585938 134.345312)scale(0.1 -0.1)\">\n       <use xlink:href=\"#LiberationSans-53\"/>\n       <use x=\"55.615234\" xlink:href=\"#LiberationSans-48\"/>\n      </g>\n     </g>\n    </g>\n    <g id=\"xtick_7\">\n     <g id=\"line2d_13\">\n      <path clip-path=\"url(#p6b3f6e2d56)\" d=\"M 306.646875 120.098437 \nL 306.646875 8.498437 \n\" style=\"fill:none;stroke:#ffffff;stroke-linecap:round;\"/>\n     </g>\n     <g id=\"line2d_14\"/>\n     <g id=\"text_7\">\n      <!-- 60 -->\n      <defs>\n       <path d=\"M 51.21875 22.515625 \nQ 51.21875 17.328125 49.78125 13 \nQ 48.34375 8.6875 45.53125 5.578125 \nQ 42.71875 2.484375 38.5625 0.75 \nQ 34.421875 -0.984375 29 -0.984375 \nQ 23 -0.984375 18.5 1.3125 \nQ 14.015625 3.609375 11.03125 7.921875 \nQ 8.0625 12.25 6.5625 18.53125 \nQ 5.078125 24.8125 5.078125 32.8125 \nQ 5.078125 42 6.765625 48.921875 \nQ 8.453125 55.859375 11.625 60.5 \nQ 14.796875 65.140625 19.359375 67.484375 \nQ 23.921875 69.828125 29.6875 69.828125 \nQ 33.203125 69.828125 36.28125 69.09375 \nQ 39.359375 68.359375 41.875 66.71875 \nQ 44.390625 65.09375 46.28125 62.40625 \nQ 48.1875 59.71875 49.3125 55.8125 \nL 40.921875 54.296875 \nQ 39.546875 58.734375 36.546875 60.71875 \nQ 33.546875 62.703125 29.59375 62.703125 \nQ 25.984375 62.703125 23.046875 60.984375 \nQ 20.125 59.28125 18.0625 55.875 \nQ 16.015625 52.484375 14.90625 47.359375 \nQ 13.8125 42.234375 13.8125 35.40625 \nQ 16.21875 39.84375 20.5625 42.15625 \nQ 24.90625 44.484375 30.515625 44.484375 \nQ 35.203125 44.484375 39.015625 42.96875 \nQ 42.828125 41.453125 45.53125 38.59375 \nQ 48.25 35.75 49.734375 31.671875 \nQ 51.21875 27.59375 51.21875 22.515625 \nz\nM 42.28125 22.125 \nQ 42.28125 25.6875 41.40625 28.5625 \nQ 40.53125 31.453125 38.765625 33.46875 \nQ 37.015625 35.5 34.421875 36.59375 \nQ 31.84375 37.703125 28.421875 37.703125 \nQ 26.03125 37.703125 23.578125 36.984375 \nQ 21.140625 36.28125 19.15625 34.6875 \nQ 17.1875 33.109375 15.9375 30.515625 \nQ 14.703125 27.9375 14.703125 24.21875 \nQ 14.703125 20.40625 15.671875 17.109375 \nQ 16.65625 13.8125 18.484375 11.375 \nQ 20.3125 8.9375 22.890625 7.515625 \nQ 25.484375 6.109375 28.71875 6.109375 \nQ 31.890625 6.109375 34.40625 7.203125 \nQ 36.921875 8.296875 38.671875 10.375 \nQ 40.4375 12.453125 41.359375 15.421875 \nQ 42.28125 18.40625 42.28125 22.125 \nz\n\" id=\"LiberationSans-54\"/>\n      </defs>\n      <g style=\"fill:#262626;\" transform=\"translate(301.085938 134.345312)scale(0.1 -0.1)\">\n       <use xlink:href=\"#LiberationSans-54\"/>\n       <use x=\"55.615234\" xlink:href=\"#LiberationSans-48\"/>\n      </g>\n     </g>\n    </g>\n    <g id=\"xtick_8\">\n     <g id=\"line2d_15\">\n      <path clip-path=\"url(#p6b3f6e2d56)\" d=\"M 353.146875 120.098437 \nL 353.146875 8.498437 \n\" style=\"fill:none;stroke:#ffffff;stroke-linecap:round;\"/>\n     </g>\n     <g id=\"line2d_16\"/>\n     <g id=\"text_8\">\n      <!-- 70 -->\n      <defs>\n       <path d=\"M 50.59375 61.671875 \nQ 45.40625 53.765625 41.0625 46.453125 \nQ 36.71875 39.15625 33.59375 31.75 \nQ 30.46875 24.359375 28.734375 16.578125 \nQ 27 8.796875 27 0 \nL 17.828125 0 \nQ 17.828125 8.25 19.78125 16.1875 \nQ 21.734375 24.125 25.046875 31.765625 \nQ 28.375 39.40625 32.765625 46.78125 \nQ 37.15625 54.15625 42.09375 61.328125 \nL 5.125 61.328125 \nL 5.125 68.796875 \nL 50.59375 68.796875 \nz\n\" id=\"LiberationSans-55\"/>\n      </defs>\n      <g style=\"fill:#262626;\" transform=\"translate(347.585938 134.345312)scale(0.1 -0.1)\">\n       <use xlink:href=\"#LiberationSans-55\"/>\n       <use x=\"55.615234\" xlink:href=\"#LiberationSans-48\"/>\n      </g>\n     </g>\n    </g>\n   </g>\n   <g id=\"matplotlib.axis_2\">\n    <g id=\"ytick_1\">\n     <g id=\"line2d_17\">\n      <path clip-path=\"url(#p6b3f6e2d56)\" d=\"M 25.321875 10.823437 \nL 360.121875 10.823437 \n\" style=\"fill:none;stroke:#ffffff;stroke-linecap:round;\"/>\n     </g>\n     <g id=\"line2d_18\"/>\n     <g id=\"text_9\">\n      <!-- 0 -->\n      <g style=\"fill:#262626;\" transform=\"translate(12.760938 14.446875)scale(0.1 -0.1)\">\n       <use xlink:href=\"#LiberationSans-48\"/>\n      </g>\n     </g>\n    </g>\n    <g id=\"ytick_2\">\n     <g id=\"line2d_19\">\n      <path clip-path=\"url(#p6b3f6e2d56)\" d=\"M 25.321875 34.073437 \nL 360.121875 34.073437 \n\" style=\"fill:none;stroke:#ffffff;stroke-linecap:round;\"/>\n     </g>\n     <g id=\"line2d_20\"/>\n     <g id=\"text_10\">\n      <!-- 5 -->\n      <g style=\"fill:#262626;\" transform=\"translate(12.760938 37.696875)scale(0.1 -0.1)\">\n       <use xlink:href=\"#LiberationSans-53\"/>\n      </g>\n     </g>\n    </g>\n    <g id=\"ytick_3\">\n     <g id=\"line2d_21\">\n      <path clip-path=\"url(#p6b3f6e2d56)\" d=\"M 25.321875 57.323437 \nL 360.121875 57.323437 \n\" style=\"fill:none;stroke:#ffffff;stroke-linecap:round;\"/>\n     </g>\n     <g id=\"line2d_22\"/>\n     <g id=\"text_11\">\n      <!-- 10 -->\n      <g style=\"fill:#262626;\" transform=\"translate(7.2 60.946875)scale(0.1 -0.1)\">\n       <use xlink:href=\"#LiberationSans-49\"/>\n       <use x=\"55.615234\" xlink:href=\"#LiberationSans-48\"/>\n      </g>\n     </g>\n    </g>\n    <g id=\"ytick_4\">\n     <g id=\"line2d_23\">\n      <path clip-path=\"url(#p6b3f6e2d56)\" d=\"M 25.321875 80.573437 \nL 360.121875 80.573437 \n\" style=\"fill:none;stroke:#ffffff;stroke-linecap:round;\"/>\n     </g>\n     <g id=\"line2d_24\"/>\n     <g id=\"text_12\">\n      <!-- 15 -->\n      <g style=\"fill:#262626;\" transform=\"translate(7.2 84.196875)scale(0.1 -0.1)\">\n       <use xlink:href=\"#LiberationSans-49\"/>\n       <use x=\"55.615234\" xlink:href=\"#LiberationSans-53\"/>\n      </g>\n     </g>\n    </g>\n    <g id=\"ytick_5\">\n     <g id=\"line2d_25\">\n      <path clip-path=\"url(#p6b3f6e2d56)\" d=\"M 25.321875 103.823437 \nL 360.121875 103.823437 \n\" style=\"fill:none;stroke:#ffffff;stroke-linecap:round;\"/>\n     </g>\n     <g id=\"line2d_26\"/>\n     <g id=\"text_13\">\n      <!-- 20 -->\n      <g style=\"fill:#262626;\" transform=\"translate(7.2 107.446875)scale(0.1 -0.1)\">\n       <use xlink:href=\"#LiberationSans-50\"/>\n       <use x=\"55.615234\" xlink:href=\"#LiberationSans-48\"/>\n      </g>\n     </g>\n    </g>\n   </g>\n   <g id=\"patch_3\">\n    <path d=\"M 25.321875 120.098437 \nL 25.321875 8.498437 \n\" style=\"fill:none;\"/>\n   </g>\n   <g id=\"patch_4\">\n    <path d=\"M 360.121875 120.098437 \nL 360.121875 8.498437 \n\" style=\"fill:none;\"/>\n   </g>\n   <g id=\"patch_5\">\n    <path d=\"M 25.321875 120.098437 \nL 360.121875 120.098437 \n\" style=\"fill:none;\"/>\n   </g>\n   <g id=\"patch_6\">\n    <path d=\"M 25.321875 8.498437 \nL 360.121875 8.498437 \n\" style=\"fill:none;\"/>\n   </g>\n  </g>\n </g>\n <defs>\n  <clipPath id=\"p6b3f6e2d56\">\n   <rect height=\"111.6\" width=\"334.8\" x=\"25.321875\" y=\"8.498437\"/>\n  </clipPath>\n </defs>\n</svg>\n"
          },
          "metadata": {
            "tags": []
          }
        },
        {
          "output_type": "stream",
          "text": [
            "2) the_labels(captcha) SFLV is encoded as [24, 13, 18, 27]\n",
            "3) input_length (width of image that is fed to the network after CNN): 16 == (72/4 - 2)\n",
            "4) label_length (length of captcha): 4\n",
            " \n"
          ],
          "name": "stdout"
        }
      ]
    },
    {
      "metadata": {
        "id": "8bicS0l7gPSE",
        "colab_type": "text"
      },
      "cell_type": "markdown",
      "source": [
        "## 8. CTC loss function"
      ]
    },
    {
      "metadata": {
        "id": "DBCbsTcWgLN6",
        "colab_type": "code",
        "colab": {}
      },
      "cell_type": "code",
      "source": [
        "# We will be using this loss function as the output\n",
        "# The loss function in model.compile(..) will be a dummy one\n",
        "# This is different from a normal scenario where you pass an actual \n",
        "# loss function when you compile the model\n",
        "def ctc_lambda_func(args):\n",
        "    y_pred, labels, input_length, label_length = args\n",
        "    # the 2 is critical here since the first couple outputs of the RNN\n",
        "    # tend to be garbage:\n",
        "    y_pred = y_pred[:, 2:, :]\n",
        "    return K.ctc_batch_cost(labels, y_pred, input_length, label_length)"
      ],
      "execution_count": 0,
      "outputs": []
    },
    {
      "metadata": {
        "id": "LfgIi1ovgWf6",
        "colab_type": "text"
      },
      "cell_type": "markdown",
      "source": [
        "## 9. Model"
      ]
    },
    {
      "metadata": {
        "id": "EJgdIPcCgRzx",
        "colab_type": "code",
        "colab": {}
      },
      "cell_type": "code",
      "source": [
        "def build_model():\n",
        "    # Inputs to the model\n",
        "    input_img = Input(shape=(img_width, img_height, 1), name='input_data', dtype='float32')\n",
        "    labels = Input(name='input_label', shape=[max_text_len], dtype='float32')\n",
        "    input_length = Input(name='input_length', shape=[1], dtype='int64')\n",
        "    label_length = Input(name='label_length', shape=[1], dtype='int64')\n",
        "    \n",
        "    # Convolution part for feaure extraction\n",
        "    x = Conv2D(32, (3,3), activation='relu', kernel_initializer='he_normal', padding='same', name='Conv1')(input_img)\n",
        "    x = MaxPooling2D((2,2), name='pool1')(x)\n",
        "    x = Conv2D(64, (3,3), activation='relu', kernel_initializer='he_normal', padding='same', name='Conv2')(x)\n",
        "    x = MaxPooling2D((2,2), name='pool2')(x)\n",
        "    \n",
        "    # Reshape the features for passing to RNN\n",
        "    # We have used two max pool with pool size and strides of 2. Hence, downsampled is 4x smaller\n",
        "    # Also, the number of filters in the last layer is 64.\n",
        "    new_shape = ((img_width // 4), (img_height // 4)*64)\n",
        "    x = Reshape(target_shape=new_shape, name='reshape')(x)\n",
        "    x = Dense(64, activation='relu', name='dense1')(x)\n",
        "    \n",
        "    # RNNs\n",
        "    x = Bidirectional(LSTM(128, return_sequences=True,  name='lstm_1'), name='bi_1')(x)\n",
        "    x = Bidirectional(LSTM(128, return_sequences=True,  name='lstm_2'), name='bi_2')(x)\n",
        "    \n",
        "    # final part\n",
        "    x = Dense(len(letters)+1, activation='softmax', name='dense2', kernel_initializer='he_normal')(x)\n",
        "    \n",
        "    # Get the CTC loss and represent it in a layer\n",
        "    output = Lambda(ctc_lambda_func, output_shape=(1,), name='ctc_loss')([x, labels, input_length, label_length])\n",
        "    \n",
        "    # define the final model\n",
        "    model = Model([input_img, labels, input_length, label_length], output, name='ocr_model_v1')\n",
        "    \n",
        "    # optimizer\n",
        "    sgd = SGD(lr=0.002, decay=1e-6, momentum=0.9, nesterov=True, clipnorm=5)\n",
        "    \n",
        "    # the loss calc occurs elsewhere, so use a dummy lambda func for the loss\n",
        "    # this is the reason we have this ctc_loss array of zeros in our generator\n",
        "    model.compile(loss={'ctc_loss': lambda y_true, y_pred: y_pred}, optimizer=sgd)\n",
        "    return model"
      ],
      "execution_count": 0,
      "outputs": []
    },
    {
      "metadata": {
        "id": "Qp0x7bqsgcEY",
        "colab_type": "code",
        "outputId": "bebde5e6-e82c-4c32-d4bf-b1bb6eb24f89",
        "colab": {
          "base_uri": "https://localhost:8080/",
          "height": 768
        }
      },
      "cell_type": "code",
      "source": [
        "model = build_model()\n",
        "model.summary()"
      ],
      "execution_count": 0,
      "outputs": [
        {
          "output_type": "stream",
          "text": [
            "W0406 12:10:54.276456 140335417112448 tf_logging.py:161] <tensorflow.python.keras.layers.recurrent.UnifiedLSTM object at 0x7fa1a2246b70>: Note that this layer is not optimized for performance. Please use tf.keras.layers.CuDNNLSTM for better performance on GPU.\n",
            "W0406 12:10:54.280559 140335417112448 tf_logging.py:161] <tensorflow.python.keras.layers.recurrent.UnifiedLSTM object at 0x7fa1be51b1d0>: Note that this layer is not optimized for performance. Please use tf.keras.layers.CuDNNLSTM for better performance on GPU.\n",
            "W0406 12:10:54.496226 140335417112448 tf_logging.py:161] <tensorflow.python.keras.layers.recurrent.UnifiedLSTM object at 0x7fa1be476e80>: Note that this layer is not optimized for performance. Please use tf.keras.layers.CuDNNLSTM for better performance on GPU.\n",
            "W0406 12:10:54.500396 140335417112448 tf_logging.py:161] <tensorflow.python.keras.layers.recurrent.UnifiedLSTM object at 0x7fa1be3aae48>: Note that this layer is not optimized for performance. Please use tf.keras.layers.CuDNNLSTM for better performance on GPU.\n"
          ],
          "name": "stderr"
        },
        {
          "output_type": "stream",
          "text": [
            "Model: \"ocr_model_v1\"\n",
            "__________________________________________________________________________________________________\n",
            "Layer (type)                    Output Shape         Param #     Connected to                     \n",
            "==================================================================================================\n",
            "input_data (InputLayer)         [(None, 72, 24, 1)]  0                                            \n",
            "__________________________________________________________________________________________________\n",
            "Conv1 (Conv2D)                  (None, 72, 24, 32)   320         input_data[0][0]                 \n",
            "__________________________________________________________________________________________________\n",
            "pool1 (MaxPooling2D)            (None, 36, 12, 32)   0           Conv1[0][0]                      \n",
            "__________________________________________________________________________________________________\n",
            "Conv2 (Conv2D)                  (None, 36, 12, 64)   18496       pool1[0][0]                      \n",
            "__________________________________________________________________________________________________\n",
            "pool2 (MaxPooling2D)            (None, 18, 6, 64)    0           Conv2[0][0]                      \n",
            "__________________________________________________________________________________________________\n",
            "reshape (Reshape)               (None, 18, 384)      0           pool2[0][0]                      \n",
            "__________________________________________________________________________________________________\n",
            "dense1 (Dense)                  (None, 18, 64)       24640       reshape[0][0]                    \n",
            "__________________________________________________________________________________________________\n",
            "bi_1 (Bidirectional)            (None, 18, 256)      197632      dense1[0][0]                     \n",
            "__________________________________________________________________________________________________\n",
            "bi_2 (Bidirectional)            (None, 18, 256)      394240      bi_1[0][0]                       \n",
            "__________________________________________________________________________________________________\n",
            "dense2 (Dense)                  (None, 18, 33)       8481        bi_2[0][0]                       \n",
            "__________________________________________________________________________________________________\n",
            "input_label (InputLayer)        [(None, 4)]          0                                            \n",
            "__________________________________________________________________________________________________\n",
            "input_length (InputLayer)       [(None, 1)]          0                                            \n",
            "__________________________________________________________________________________________________\n",
            "label_length (InputLayer)       [(None, 1)]          0                                            \n",
            "__________________________________________________________________________________________________\n",
            "ctc_loss (Lambda)               (None, 1)            0           dense2[0][0]                     \n",
            "                                                                 input_label[0][0]                \n",
            "                                                                 input_length[0][0]               \n",
            "                                                                 label_length[0][0]               \n",
            "==================================================================================================\n",
            "Total params: 643,809\n",
            "Trainable params: 643,809\n",
            "Non-trainable params: 0\n",
            "__________________________________________________________________________________________________\n"
          ],
          "name": "stdout"
        }
      ]
    },
    {
      "metadata": {
        "id": "e8LyaQsdge_X",
        "colab_type": "code",
        "colab": {}
      },
      "cell_type": "code",
      "source": [
        "# things required for starting the training \n",
        "nb_epochs = 50\n",
        "nb_train_steps = training_data.shape[0] // batch_size\n",
        "nb_validation_steps = validation_data.shape[0] // batch_size\n",
        "es = EarlyStopping(monitor='val_loss', patience=5, restore_best_weights=True)\n",
        "ckpt = ModelCheckpoint(filepath='captcha_cracker.h5', save_best_only=True, monitor='val_loss')"
      ],
      "execution_count": 0,
      "outputs": []
    },
    {
      "metadata": {
        "id": "l3ziws1sg11n",
        "colab_type": "code",
        "outputId": "cc22aae3-dc2b-41db-b57a-673582d29152",
        "colab": {
          "base_uri": "https://localhost:8080/",
          "height": 901
        }
      },
      "cell_type": "code",
      "source": [
        "# Train the model\n",
        "history = model.fit_generator(train_data_generator, \n",
        "                    epochs=nb_epochs, \n",
        "                    steps_per_epoch=nb_train_steps, \n",
        "                    validation_data=valid_data_generator, \n",
        "                    validation_steps=nb_validation_steps,\n",
        "                    callbacks=[es, ckpt])"
      ],
      "execution_count": 0,
      "outputs": [
        {
          "output_type": "stream",
          "text": [
            "Epoch 1/50\n",
            "279/279 [==============================] - 32s 115ms/step - loss: 15.4873 - val_loss: 14.8236\n",
            "Epoch 2/50\n",
            "279/279 [==============================] - 28s 99ms/step - loss: 14.7499 - val_loss: 14.7227\n",
            "Epoch 3/50\n",
            "279/279 [==============================] - 27s 98ms/step - loss: 14.6860 - val_loss: 14.6653\n",
            "Epoch 4/50\n",
            "279/279 [==============================] - 27s 98ms/step - loss: 14.6642 - val_loss: 14.6711\n",
            "Epoch 5/50\n",
            "279/279 [==============================] - 27s 98ms/step - loss: 14.6430 - val_loss: 14.6751\n",
            "Epoch 6/50\n",
            "279/279 [==============================] - 27s 97ms/step - loss: 14.6310 - val_loss: 14.5909\n",
            "Epoch 7/50\n",
            "279/279 [==============================] - 27s 97ms/step - loss: 14.5352 - val_loss: 14.3965\n",
            "Epoch 8/50\n",
            "279/279 [==============================] - 27s 96ms/step - loss: 14.3549 - val_loss: 14.1680\n",
            "Epoch 9/50\n",
            "279/279 [==============================] - 27s 97ms/step - loss: 14.2173 - val_loss: 14.0072\n",
            "Epoch 10/50\n",
            "279/279 [==============================] - 27s 97ms/step - loss: 13.9632 - val_loss: 13.5939\n",
            "Epoch 11/50\n",
            "279/279 [==============================] - 27s 98ms/step - loss: 13.7383 - val_loss: 13.2807\n",
            "Epoch 12/50\n",
            "279/279 [==============================] - 27s 99ms/step - loss: 13.2772 - val_loss: 12.5642\n",
            "Epoch 13/50\n",
            "279/279 [==============================] - 27s 98ms/step - loss: 12.8405 - val_loss: 12.2896\n",
            "Epoch 14/50\n",
            "279/279 [==============================] - 27s 98ms/step - loss: 12.3693 - val_loss: 11.3744\n",
            "Epoch 15/50\n",
            "279/279 [==============================] - 27s 97ms/step - loss: 11.6874 - val_loss: 10.3027\n",
            "Epoch 16/50\n",
            "279/279 [==============================] - 27s 98ms/step - loss: 10.6832 - val_loss: 8.4655\n",
            "Epoch 17/50\n",
            "279/279 [==============================] - 27s 98ms/step - loss: 7.7581 - val_loss: 3.5354\n",
            "Epoch 18/50\n",
            "279/279 [==============================] - 27s 97ms/step - loss: 5.1998 - val_loss: 2.3730\n",
            "Epoch 19/50\n",
            "279/279 [==============================] - 27s 97ms/step - loss: 5.0753 - val_loss: 2.1242\n",
            "Epoch 20/50\n",
            "279/279 [==============================] - 27s 97ms/step - loss: 4.8263 - val_loss: 2.1294\n",
            "Epoch 21/50\n",
            "279/279 [==============================] - 27s 98ms/step - loss: 4.3775 - val_loss: 1.4304\n",
            "Epoch 22/50\n",
            "279/279 [==============================] - 27s 97ms/step - loss: 4.3053 - val_loss: 2.5326\n",
            "Epoch 23/50\n",
            "279/279 [==============================] - 27s 98ms/step - loss: 3.6721 - val_loss: 1.9536\n",
            "Epoch 24/50\n",
            "279/279 [==============================] - 27s 98ms/step - loss: 4.6297 - val_loss: 1.6354\n",
            "Epoch 25/50\n",
            "279/279 [==============================] - 27s 97ms/step - loss: 4.0232 - val_loss: 1.9414\n",
            "Epoch 26/50\n",
            "279/279 [==============================] - 27s 97ms/step - loss: 4.5158 - val_loss: 1.9190\n"
          ],
          "name": "stdout"
        }
      ]
    },
    {
      "metadata": {
        "id": "cZ3s_PknjZu2",
        "colab_type": "text"
      },
      "cell_type": "markdown",
      "source": [
        "## 10. Testing the model"
      ]
    },
    {
      "metadata": {
        "id": "8Za3n8Ydg4B-",
        "colab_type": "code",
        "colab": {}
      },
      "cell_type": "code",
      "source": [
        "# A utility to decode the output of the network\n",
        "def decode_batch_predictions(pred):\n",
        "    pred = pred[:, 2:]\n",
        "    input_len = np.ones(pred.shape[0])*pred.shape[1]\n",
        "    \n",
        "    # Use greedy search. For complex tasks, you can use beam search\n",
        "    results = K.get_value(K.ctc_decode(pred, \n",
        "                                   input_length=input_len,\n",
        "                                   greedy=True)[0][0])\n",
        "    \n",
        "    # Iterate over the results and get back the text\n",
        "    texts = []\n",
        "    for res in results:\n",
        "        outstr = ''\n",
        "        for c in res:\n",
        "            if c < len(letters):\n",
        "                outstr += letters[c]\n",
        "        texts.append(outstr)\n",
        "    \n",
        "    # return final text results\n",
        "    return texts"
      ],
      "execution_count": 0,
      "outputs": []
    },
    {
      "metadata": {
        "id": "uD61wUhGjcXY",
        "colab_type": "code",
        "outputId": "4ddc1a6a-b6f2-45a5-c8a3-acd6e7f7a63f",
        "colab": {
          "base_uri": "https://localhost:8080/",
          "height": 561
        }
      },
      "cell_type": "code",
      "source": [
        "# Get the input output layer and define a Keras function\n",
        "# It is similar to getting layers in tensorflow and \n",
        "# passing the information to the session.\n",
        "output_func = K.function([model.get_layer(name='input_data').input],\n",
        "                        [model.get_layer(name='dense2').output])\n",
        "\n",
        "\n",
        "#  Let's check results on some validation samples\n",
        "for p, (inp_value, _) in enumerate(valid_data_generator):\n",
        "    bs = inp_value['input_data'].shape[0]\n",
        "    X_data = inp_value['input_data']\n",
        "    labels = inp_value['input_label']\n",
        "    \n",
        "    preds = output_func([X_data])[0]\n",
        "    pred_texts = decode_batch_predictions(preds)\n",
        "    \n",
        "    \n",
        "    orig_texts = []\n",
        "    for label in labels:\n",
        "        text = ''.join(list(map(lambda x: letters[int(x)], label)))\n",
        "        orig_texts.append(text)\n",
        "        \n",
        "    for i in range(bs):\n",
        "        print(f'GT: {orig_texts[i]} \\t Predicted: {pred_texts[i]}')\n",
        "    break"
      ],
      "execution_count": 0,
      "outputs": [
        {
          "output_type": "stream",
          "text": [
            "GT: RP3Y \t Predicted: RP3Y\n",
            "GT: CDSV \t Predicted: CDSV\n",
            "GT: MB5E \t Predicted: MB5E\n",
            "GT: 8CTC \t Predicted: 8CTC\n",
            "GT: EEV4 \t Predicted: EEV4\n",
            "GT: DD37 \t Predicted: DD37\n",
            "GT: GAAK \t Predicted: GAAK\n",
            "GT: LSYF \t Predicted: LSYF\n",
            "GT: AF78 \t Predicted: AF78\n",
            "GT: HZW4 \t Predicted: HZW4\n",
            "GT: JGSQ \t Predicted: JGSQ\n",
            "GT: TPUU \t Predicted: TPUU\n",
            "GT: 8E2U \t Predicted: 8E2U\n",
            "GT: AR4Z \t Predicted: AR4Z\n",
            "GT: YPSH \t Predicted: YPSH\n",
            "GT: 887X \t Predicted: 887X\n",
            "GT: MHB7 \t Predicted: MHB7\n",
            "GT: R7Y8 \t Predicted: R7Y8\n",
            "GT: PSG8 \t Predicted: PSG8\n",
            "GT: 7YD3 \t Predicted: 7YD3\n",
            "GT: F6HB \t Predicted: F6HB\n",
            "GT: A6T9 \t Predicted: A6T9\n",
            "GT: 5R6J \t Predicted: 5R6J\n",
            "GT: CH5T \t Predicted: CH5T\n",
            "GT: AYE2 \t Predicted: AYE2\n",
            "GT: FCCR \t Predicted: FCCR\n",
            "GT: F3Y4 \t Predicted: F3Y4\n",
            "GT: HFFQ \t Predicted: HFFQ\n",
            "GT: GHZ3 \t Predicted: GHZ3\n",
            "GT: Q654 \t Predicted: Q654\n",
            "GT: X6UG \t Predicted: X6UG\n",
            "GT: NWPH \t Predicted: NWPH\n"
          ],
          "name": "stdout"
        }
      ]
    },
    {
      "metadata": {
        "id": "aDrFkVQkjgeT",
        "colab_type": "code",
        "colab": {}
      },
      "cell_type": "code",
      "source": [
        ""
      ],
      "execution_count": 0,
      "outputs": []
    }
  ]
}